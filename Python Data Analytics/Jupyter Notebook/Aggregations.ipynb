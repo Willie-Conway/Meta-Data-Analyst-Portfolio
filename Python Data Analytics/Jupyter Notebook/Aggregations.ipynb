{
 "cells": [
  {
   "cell_type": "markdown",
   "id": "f75ca144-0f3e-4913-806d-cac047749866",
   "metadata": {},
   "source": [
    "# Activity: Aggregations\n",
    "\n",
    "## Introduction\n",
    "\n",
    "In this activity you will practice using Pandas functionality to work with various aggregations.\n",
    "\n",
    "This activity will cover the following topics:\n",
    "- Measure an aggregate statistic over a specific column.\n",
    "- Measure an aggregate statistic over a specific column of subsets using `groupby()` over one column.\n",
    "- Measure multiple aggregate statistics over a specific column of subsets using `groupby()` over one column.\n",
    "- Measure multiple aggregate statistics over a specific column of subsets using `groupby()` over multiple columns.\n",
    "- Measure multiple aggregate statistics over a specific column of subsets using `groupby()` over multiple columns.\n",
    "- Take the transpose of a DataFrame."
   ]
  },
  {
   "cell_type": "code",
   "execution_count": 1,
   "id": "f67fac66-e06e-4a87-8c99-dd7cdd67af5f",
   "metadata": {},
   "outputs": [],
   "source": [
    "import pandas as pd\n",
    "\n",
    "# Data from https://github.com/mwaskom/seaborn-data/blob/2b29313169bf8dfa77d8dc930f7bd3eba559a906/mpg.csv\n",
    "df = pd.read_csv('csv/mpg.csv')"
   ]
  },
  {
   "cell_type": "markdown",
   "id": "4855f450-305c-4457-ae98-cf559da64db7",
   "metadata": {},
   "source": [
    "#### Question 1\n",
    "\n",
    "Assign the average of the `weight` column where the `origin` is `'usa'` to the variable `weight_usa`."
   ]
  },
  {
   "cell_type": "code",
   "execution_count": 2,
   "id": "5a15f59b-a2f6-45d9-90e1-23fd965d43e0",
   "metadata": {},
   "outputs": [
    {
     "name": "stdout",
     "output_type": "stream",
     "text": [
      "3361.9317269076305\n"
     ]
    }
   ],
   "source": [
    "# Your code here\n",
    "\n",
    "# your code here\n",
    "\n",
    "\n",
    "# Calculate the average weight for cars from the USA\n",
    "weight_usa = df.groupby('origin')['weight'].mean()['usa']\n",
    "\n",
    "print(weight_usa)"
   ]
  },
  {
   "cell_type": "code",
   "execution_count": 3,
   "id": "fbfad4ec-44ea-4e96-b3b9-5b175abe3b51",
   "metadata": {},
   "outputs": [],
   "source": [
    "# Question 1 Grading Checks\n",
    "\n",
    "assert isinstance(weight_usa, float), 'Did you assign a number to `weight_usa`?'"
   ]
  },
  {
   "cell_type": "markdown",
   "id": "35e00d53-bd45-4a61-8a28-a90295727285",
   "metadata": {},
   "source": [
    "#### Question 2\n",
    "\n",
    "Assign the maximum of the `weight` column where the `origin` is `'japan'` to the variable `weight_japan`."
   ]
  },
  {
   "cell_type": "code",
   "execution_count": 4,
   "id": "de6c21f2-284f-449a-94eb-a5ed5c39eece",
   "metadata": {},
   "outputs": [
    {
     "name": "stdout",
     "output_type": "stream",
     "text": [
      "2930\n"
     ]
    }
   ],
   "source": [
    "# Your code here\n",
    "\n",
    "# your code here\n",
    "\n",
    "\n",
    "# Calculate the maximum weight for cars from Japan\n",
    "weight_japan = df.groupby('origin')['weight'].max()['japan']\n",
    "\n",
    "print(weight_japan)"
   ]
  },
  {
   "cell_type": "code",
   "execution_count": 5,
   "id": "a4c7a2a5-3e3a-46f1-b072-ce898e87fcb4",
   "metadata": {},
   "outputs": [
    {
     "name": "stdout",
     "output_type": "stream",
     "text": [
      "2930\n"
     ]
    }
   ],
   "source": [
    "# Question 2 Grading Checks\n",
    "\n",
    "print(weight_japan)"
   ]
  },
  {
   "cell_type": "markdown",
   "id": "8a64ac54-636c-4b1e-a197-5e84ce1cdb60",
   "metadata": {},
   "source": [
    "#### Question 3\n",
    "\n",
    "Using Pandas' `groupby()` method, group by the `cylinders` column to find the minimum and maximum `horsepower` and assign the result to the variable `weight_by_cylinder`."
   ]
  },
  {
   "cell_type": "code",
   "execution_count": 6,
   "id": "04d96179-f962-46a4-9e28-c7185821ce7d",
   "metadata": {},
   "outputs": [
    {
     "name": "stdout",
     "output_type": "stream",
     "text": [
      "            min    max\n",
      "cylinders             \n",
      "3          90.0  110.0\n",
      "4          46.0  115.0\n",
      "5          67.0  103.0\n",
      "6          72.0  165.0\n",
      "8          90.0  230.0\n"
     ]
    }
   ],
   "source": [
    "# Your code here\n",
    "\n",
    "# your code here\n",
    "\n",
    "\n",
    "# Group by the 'cylinders' column and calculate both min and max horsepower\n",
    "weight_by_cylinder = df.groupby('cylinders')['horsepower'].agg(['min', 'max'])\n",
    "\n",
    "print(weight_by_cylinder)"
   ]
  },
  {
   "cell_type": "code",
   "execution_count": 8,
   "id": "a08eac13-4a81-41b2-bce2-afd0ba279df5",
   "metadata": {},
   "outputs": [],
   "source": [
    "# Question 3 Grading Checks\n",
    "\n",
    "assert isinstance(weight_by_cylinder, pd.DataFrame), 'Did you create a DataFrame with `groupby()`?'"
   ]
  }
 ],
 "metadata": {
  "kernelspec": {
   "display_name": "Python 3 (ipykernel)",
   "language": "python",
   "name": "python3"
  },
  "language_info": {
   "codemirror_mode": {
    "name": "ipython",
    "version": 3
   },
   "file_extension": ".py",
   "mimetype": "text/x-python",
   "name": "python",
   "nbconvert_exporter": "python",
   "pygments_lexer": "ipython3",
   "version": "3.12.4"
  }
 },
 "nbformat": 4,
 "nbformat_minor": 5
}
