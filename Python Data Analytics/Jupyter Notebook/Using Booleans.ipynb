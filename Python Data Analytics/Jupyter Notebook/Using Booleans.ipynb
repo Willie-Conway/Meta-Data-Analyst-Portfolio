{
 "cells": [
  {
   "cell_type": "markdown",
   "id": "4c984782-30d5-48cc-ab63-140e2df247ce",
   "metadata": {},
   "source": [
    "# Activity: Using Booleans\n",
    "\n",
    "## Introduction\n",
    "\n",
    "In this activ|ity, you will use booleans to complete the following questions.\n",
    "This activity includes:\n",
    "- Logical operators\n",
    "- Boolean expressions\n",
    "- Membership operators"
   ]
  },
  {
   "cell_type": "markdown",
   "id": "803489fc-6091-4b22-912b-ce7734298261",
   "metadata": {},
   "source": [
    "#### Question 1\n",
    "\n",
    "Check if the variable age is greater than or equal to 18 and less than or equal to 25. Assign the result to a variable called is_age_valid.\n",
    "\n",
    "If the age is valid, negate the variable `can_drive` and assign the result to a new variable called `cannot_drive`."
   ]
  },
  {
   "cell_type": "code",
   "execution_count": 29,
   "id": "ead984eb-20b2-4e83-8da0-573363af461e",
   "metadata": {},
   "outputs": [],
   "source": [
    "can_drive = False\n",
    "age = 20"
   ]
  },
  {
   "cell_type": "code",
   "execution_count": 30,
   "id": "3e55dc3b-ea17-47fe-a743-29f9e2375956",
   "metadata": {},
   "outputs": [
    {
     "name": "stdout",
     "output_type": "stream",
     "text": [
      "False\n",
      "True\n"
     ]
    }
   ],
   "source": [
    "# Your code here\n",
    "\n",
    "# Check if age is valid\n",
    "is_age_valid = age <= 18 and age <= 25 # True\n",
    "\n",
    "\n",
    "# Negate can_drive\n",
    "if is_age_valid:\n",
    "    cannot_drive = not can_drive\n",
    "\n",
    "print(can_drive) # False\n",
    "print(cannot_drive) # True\n"
   ]
  },
  {
   "cell_type": "code",
   "execution_count": 31,
   "id": "72313536-bdd9-45d6-a75b-d6cbe0b19f06",
   "metadata": {},
   "outputs": [],
   "source": [
    "# Question 1 Grading Checks\n",
    "\n",
    "assert isinstance(cannot_drive, bool), \"Make sure you are assigning a boolean value to cannot_drive\"\n",
    "assert isinstance(is_age_valid, bool), \"Make sure you are assigning a boolean value to is_age_valid\""
   ]
  },
  {
   "cell_type": "markdown",
   "id": "684ecf28-5b0c-4814-bfd4-c9ec7b917ad9",
   "metadata": {},
   "source": [
    "#### Question 2\n",
    "\n",
    "Check if the variable `name` is in the list `names`. Assign the result to a variable called `is_name_valid`."
   ]
  },
  {
   "cell_type": "code",
   "execution_count": 32,
   "id": "85b39324-61cd-48b7-ad05-4f468ab4deaf",
   "metadata": {},
   "outputs": [],
   "source": [
    "name = \"John\"\n",
    "names = [\"John\", \"Jane\", \"Jack\"]"
   ]
  },
  {
   "cell_type": "code",
   "execution_count": 33,
   "id": "b920e323-a060-4bd9-ae36-cc7006f75b56",
   "metadata": {},
   "outputs": [
    {
     "name": "stdout",
     "output_type": "stream",
     "text": [
      "True\n"
     ]
    }
   ],
   "source": [
    "# Your code here\n",
    "\n",
    "# Check if name is valid\n",
    "is_name_valid = name in names # True\n",
    "\n",
    "print(is_name_valid) # True"
   ]
  },
  {
   "cell_type": "code",
   "execution_count": 34,
   "id": "ba03bf4b-9a53-4760-ae9d-e61e5006729c",
   "metadata": {},
   "outputs": [],
   "source": [
    "# Question 2 Grading Checks\n",
    "\n",
    "assert isinstance(is_name_valid, bool), \"Make sure you are assigning a boolean value to is_name_valid\""
   ]
  },
  {
   "cell_type": "markdown",
   "id": "3cd8a587-3452-42b4-97c3-2dc5188c7dd8",
   "metadata": {},
   "source": [
    "#### Question 3\n",
    "\n",
    "Write a boolean expression that checks if the variable `whole_num` is not equal to `float_num`. Assign the result to a variable called `is_not_equal`."
   ]
  },
  {
   "cell_type": "code",
   "execution_count": 35,
   "id": "48984658-e99a-4b50-b5e7-d0ea66bccfdf",
   "metadata": {},
   "outputs": [],
   "source": [
    "whole_num = 5\n",
    "float_num = 5.0"
   ]
  },
  {
   "cell_type": "code",
   "execution_count": 36,
   "id": "8b72bf96-dfcb-4d74-bb4c-3bc971fb9f1d",
   "metadata": {},
   "outputs": [
    {
     "name": "stdout",
     "output_type": "stream",
     "text": [
      "False\n"
     ]
    }
   ],
   "source": [
    "# Your code here\n",
    "\n",
    "\n",
    "# Check if they are not equal\n",
    "is_not_equal = whole_num != float_num\n",
    "\n",
    "print(is_not_equal) # False\n"
   ]
  },
  {
   "cell_type": "code",
   "execution_count": 37,
   "id": "d498d9d8-1de3-455c-a0db-e6c48d53f341",
   "metadata": {},
   "outputs": [],
   "source": [
    "# Question 3 Grading Checks\n",
    "\n",
    "assert isinstance(is_not_equal, bool), \"Make sure you are assigning a boolean value to is_not_equal\""
   ]
  }
 ],
 "metadata": {
  "kernelspec": {
   "display_name": "Python 3 (ipykernel)",
   "language": "python",
   "name": "python3"
  },
  "language_info": {
   "codemirror_mode": {
    "name": "ipython",
    "version": 3
   },
   "file_extension": ".py",
   "mimetype": "text/x-python",
   "name": "python",
   "nbconvert_exporter": "python",
   "pygments_lexer": "ipython3",
   "version": "3.12.4"
  }
 },
 "nbformat": 4,
 "nbformat_minor": 5
}
