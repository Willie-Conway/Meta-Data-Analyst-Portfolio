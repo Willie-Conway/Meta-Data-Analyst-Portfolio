{
 "cells": [
  {
   "cell_type": "code",
   "execution_count": 1,
   "id": "cac40915-22f9-4349-88a8-d37654ba45f3",
   "metadata": {},
   "outputs": [
    {
     "data": {
      "text/plain": [
       "{'id': '20A1130524', 'is_vip': True, 'wallet': 50.24}"
      ]
     },
     "execution_count": 1,
     "metadata": {},
     "output_type": "execute_result"
    }
   ],
   "source": [
    "customer_info = { 'id': '20A1130524', 'is_vip': True, 'wallet': 50.24}\n",
    "customer_info"
   ]
  },
  {
   "cell_type": "markdown",
   "id": "e842ba7a-8759-4469-aff5-a5e0678e1997",
   "metadata": {},
   "source": [
    "## Working with Dictionary Keys"
   ]
  },
  {
   "cell_type": "code",
   "execution_count": 2,
   "id": "af99afb7-6a3b-45f2-b8a0-035fbb2bafda",
   "metadata": {},
   "outputs": [
    {
     "data": {
      "text/plain": [
       "'20A1130524'"
      ]
     },
     "execution_count": 2,
     "metadata": {},
     "output_type": "execute_result"
    }
   ],
   "source": [
    "customer_info['id']"
   ]
  },
  {
   "cell_type": "markdown",
   "id": "75a829f1-2c09-4cdd-8b4d-68851a0ed43a",
   "metadata": {},
   "source": [
    "## Constraints for Dictionary Keys"
   ]
  },
  {
   "cell_type": "code",
   "execution_count": 3,
   "id": "30cd4fb5-588d-45a7-b794-068c20d56fb6",
   "metadata": {},
   "outputs": [
    {
     "data": {
      "text/plain": [
       "50.24"
      ]
     },
     "execution_count": 3,
     "metadata": {},
     "output_type": "execute_result"
    }
   ],
   "source": [
    "customer_info['wallet']"
   ]
  },
  {
   "cell_type": "code",
   "execution_count": 10,
   "id": "f172c2d6-ca51-4b31-a484-8b615e29ee20",
   "metadata": {},
   "outputs": [],
   "source": [
    "repeated_key_dictionary = { 'my_key':0, 'my_key': 1}"
   ]
  },
  {
   "cell_type": "code",
   "execution_count": 11,
   "id": "2a9df6c7-36dd-4416-8b9f-6e74bc513f11",
   "metadata": {},
   "outputs": [
    {
     "data": {
      "text/plain": [
       "{'my_key': 1}"
      ]
     },
     "execution_count": 11,
     "metadata": {},
     "output_type": "execute_result"
    }
   ],
   "source": [
    "repeated_key_dictionary"
   ]
  },
  {
   "cell_type": "code",
   "execution_count": 12,
   "id": "11597dc9-1088-43cd-b107-3e1e0d728627",
   "metadata": {},
   "outputs": [],
   "source": [
    "test_dictionary = {\"my_key\": 0, 9001: 1, 0.0009: 50}"
   ]
  },
  {
   "cell_type": "code",
   "execution_count": 13,
   "id": "069e1429-9af8-4551-a2d6-f0dbc209b4ef",
   "metadata": {},
   "outputs": [
    {
     "data": {
      "text/plain": [
       "{'my_key': 0, 9001: 1, 0.0009: 50}"
      ]
     },
     "execution_count": 13,
     "metadata": {},
     "output_type": "execute_result"
    }
   ],
   "source": [
    "test_dictionary"
   ]
  },
  {
   "cell_type": "code",
   "execution_count": 14,
   "id": "043d0997-f5fd-47c8-9014-58e28a735744",
   "metadata": {},
   "outputs": [
    {
     "ename": "TypeError",
     "evalue": "unhashable type: 'list'",
     "output_type": "error",
     "traceback": [
      "\u001b[1;31m---------------------------------------------------------------------------\u001b[0m",
      "\u001b[1;31mTypeError\u001b[0m                                 Traceback (most recent call last)",
      "Cell \u001b[1;32mIn[14], line 1\u001b[0m\n\u001b[1;32m----> 1\u001b[0m invalid_dictionary \u001b[38;5;241m=\u001b[39m {[\u001b[38;5;241m100\u001b[39m]: \u001b[38;5;241m0\u001b[39m}\n",
      "\u001b[1;31mTypeError\u001b[0m: unhashable type: 'list'"
     ]
    }
   ],
   "source": [
    "invalid_dictionary = {[100]: 0}"
   ]
  },
  {
   "cell_type": "code",
   "execution_count": 15,
   "id": "7e54cd62-d8e1-4cd9-bbaf-b811a6ab7b97",
   "metadata": {},
   "outputs": [
    {
     "ename": "TypeError",
     "evalue": "unhashable type: 'dict'",
     "output_type": "error",
     "traceback": [
      "\u001b[1;31m---------------------------------------------------------------------------\u001b[0m",
      "\u001b[1;31mTypeError\u001b[0m                                 Traceback (most recent call last)",
      "Cell \u001b[1;32mIn[15], line 1\u001b[0m\n\u001b[1;32m----> 1\u001b[0m invalid_dictioanry \u001b[38;5;241m=\u001b[39m {{\u001b[38;5;124m'\u001b[39m\u001b[38;5;124mtwo\u001b[39m\u001b[38;5;124m'\u001b[39m:\u001b[38;5;241m2\u001b[39m, \u001b[38;5;124m'\u001b[39m\u001b[38;5;124mthird\u001b[39m\u001b[38;5;124m'\u001b[39m:\u001b[38;5;241m3\u001b[39m}: \u001b[38;5;241m0\u001b[39m }\n",
      "\u001b[1;31mTypeError\u001b[0m: unhashable type: 'dict'"
     ]
    }
   ],
   "source": [
    "invalid_dictioanry = {{'two':2, 'third':3}: 0 }"
   ]
  },
  {
   "cell_type": "code",
   "execution_count": 18,
   "id": "55fe5753-6afd-4f39-84ca-09db546d5cfc",
   "metadata": {},
   "outputs": [
    {
     "data": {
      "text/plain": [
       "{100: 2, '1 equals 2': False, 'fav_colors': ['orange', 'green']}"
      ]
     },
     "execution_count": 18,
     "metadata": {},
     "output_type": "execute_result"
    }
   ],
   "source": [
    "different_values = {100: 2, '1 equals 2': False, 'fav_colors': ['orange','green']}\n",
    "different_values"
   ]
  },
  {
   "cell_type": "markdown",
   "id": "9ae521c6-36e0-4f85-b2ef-6e261c5d80e8",
   "metadata": {},
   "source": [
    "## Adding New Key-Value Pairs"
   ]
  },
  {
   "cell_type": "code",
   "execution_count": 20,
   "id": "225278ea-6ec8-42e8-9e2f-79a061088486",
   "metadata": {},
   "outputs": [
    {
     "data": {
      "text/plain": [
       "{'id': '20A1130524', 'is_vip': True, 'wallet': 50.24}"
      ]
     },
     "execution_count": 20,
     "metadata": {},
     "output_type": "execute_result"
    }
   ],
   "source": [
    "customer_info = { 'id': '20A1130524', 'is_vip': True, 'wallet': 50.24}\n",
    "customer_info"
   ]
  },
  {
   "cell_type": "code",
   "execution_count": 21,
   "id": "ddf8e934-35d1-45ad-b394-31cfc246e3db",
   "metadata": {},
   "outputs": [
    {
     "data": {
      "text/plain": [
       "{'id': '20A1130524', 'is_vip': True, 'wallet': 50.24, 'member_type': 'gold'}"
      ]
     },
     "execution_count": 21,
     "metadata": {},
     "output_type": "execute_result"
    }
   ],
   "source": [
    "customer_info['member_type'] = 'gold'\n",
    "customer_info"
   ]
  },
  {
   "cell_type": "code",
   "execution_count": 22,
   "id": "e7063d31-9ab7-4f1f-9b8c-c35a1340df53",
   "metadata": {},
   "outputs": [
    {
     "data": {
      "text/plain": [
       "{'id': '20A1130524', 'is_vip': True, 'wallet': 50.24, 'member_type': 'blue'}"
      ]
     },
     "execution_count": 22,
     "metadata": {},
     "output_type": "execute_result"
    }
   ],
   "source": [
    "customer_info['member_type'] = 'blue'\n",
    "customer_info"
   ]
  },
  {
   "cell_type": "markdown",
   "id": "62c3882a-65fc-48c8-ac9a-51be4a32c4b2",
   "metadata": {},
   "source": [
    "## Observing Keys & Values"
   ]
  },
  {
   "cell_type": "code",
   "execution_count": 23,
   "id": "6458f1dd-36a0-4d44-af79-96313d16ac44",
   "metadata": {},
   "outputs": [
    {
     "data": {
      "text/plain": [
       "dict_keys(['id', 'is_vip', 'wallet', 'member_type'])"
      ]
     },
     "execution_count": 23,
     "metadata": {},
     "output_type": "execute_result"
    }
   ],
   "source": [
    "customer_info.keys()"
   ]
  },
  {
   "cell_type": "code",
   "execution_count": 24,
   "id": "ed70df29-db46-4957-9698-f15a2e738f06",
   "metadata": {},
   "outputs": [
    {
     "data": {
      "text/plain": [
       "dict_values(['20A1130524', True, 50.24, 'blue'])"
      ]
     },
     "execution_count": 24,
     "metadata": {},
     "output_type": "execute_result"
    }
   ],
   "source": [
    "customer_info.values()"
   ]
  },
  {
   "cell_type": "code",
   "execution_count": 25,
   "id": "25b098d2-e819-4b1f-9e11-da1d162d2474",
   "metadata": {},
   "outputs": [
    {
     "data": {
      "text/plain": [
       "dict_items([('id', '20A1130524'), ('is_vip', True), ('wallet', 50.24), ('member_type', 'blue')])"
      ]
     },
     "execution_count": 25,
     "metadata": {},
     "output_type": "execute_result"
    }
   ],
   "source": [
    "customer_info.items()"
   ]
  }
 ],
 "metadata": {
  "kernelspec": {
   "display_name": "Python 3 (ipykernel)",
   "language": "python",
   "name": "python3"
  },
  "language_info": {
   "codemirror_mode": {
    "name": "ipython",
    "version": 3
   },
   "file_extension": ".py",
   "mimetype": "text/x-python",
   "name": "python",
   "nbconvert_exporter": "python",
   "pygments_lexer": "ipython3",
   "version": "3.12.4"
  }
 },
 "nbformat": 4,
 "nbformat_minor": 5
}
