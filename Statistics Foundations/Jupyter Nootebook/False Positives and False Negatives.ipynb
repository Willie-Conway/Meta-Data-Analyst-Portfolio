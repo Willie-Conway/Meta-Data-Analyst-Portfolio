{
 "cells": [
  {
   "cell_type": "markdown",
   "id": "ae3ce11e",
   "metadata": {},
   "source": [
    "# False Positives and False Negatives"
   ]
  },
  {
   "cell_type": "code",
   "execution_count": 1,
   "id": "84fb2588-c809-4fc8-9d07-29d095ccd356",
   "metadata": {},
   "outputs": [
    {
     "name": "stdout",
     "output_type": "stream",
     "text": [
      "T-statistic: -4.7546959435052765\n",
      "P-value: 3.819135262679534e-06\n",
      "Reject the null hypothesis (H0). We conclude there is a difference (H1).\n",
      "Warning: This could be a false positive if H0 is actually true.\n",
      "Analysis complete. Remember that hypothesis testing involves probabilities, and errors can occur.\n"
     ]
    }
   ],
   "source": [
    "# False_Positives_and_False_Negatives.py\n",
    "\n",
    "import numpy as np\n",
    "import scipy.stats as stats\n",
    "\n",
    "# Set the seed for reproducibility\n",
    "np.random.seed(42)\n",
    "\n",
    "# Generate synthetic data for two groups\n",
    "# Group A (e.g., website color red)\n",
    "group_a = np.random.normal(loc=50, scale=10, size=100)\n",
    "\n",
    "# Group B (e.g., website color blue)\n",
    "group_b = np.random.normal(loc=55, scale=10, size=100)\n",
    "\n",
    "# Perform a t-test to compare the means of two groups\n",
    "t_statistic, p_value = stats.ttest_ind(group_a, group_b)\n",
    "\n",
    "# Define significance level\n",
    "alpha = 0.05\n",
    "\n",
    "# Print results\n",
    "print(f\"T-statistic: {t_statistic}\")\n",
    "print(f\"P-value: {p_value}\")\n",
    "\n",
    "# Hypothesis Testing\n",
    "# H0: There is no difference in sales between website colors (means are equal)\n",
    "# H1: There is a difference in sales between website colors (means are not equal)\n",
    "\n",
    "# Check if we reject the null hypothesis\n",
    "if p_value < alpha:\n",
    "    print(\"Reject the null hypothesis (H0). We conclude there is a difference (H1).\")\n",
    "    # Possible Type I Error (False Positive)\n",
    "    print(\"Warning: This could be a false positive if H0 is actually true.\")\n",
    "else:\n",
    "    print(\"Fail to reject the null hypothesis (H0). We conclude there is no difference.\")\n",
    "    # Possible Type II Error (False Negative)\n",
    "    print(\"Warning: This could be a false negative if H1 is actually true.\")\n",
    "\n",
    "# To demonstrate Type I and Type II errors, let's define true conditions\n",
    "true_effect = 5  # True difference in means\n",
    "# Simulate data under the null hypothesis (no difference)\n",
    "null_group_a = np.random.normal(loc=50, scale=10, size=100)\n",
    "null_group_b = np.random.normal(loc=50, scale=10, size=100)\n",
    "\n",
    "# Perform t-test under null hypothesis\n",
    "null_t_statistic, null_p_value = stats.ttest_ind(null_group_a, null_group_b)\n",
    "\n",
    "# Check for Type I Error (False Positive)\n",
    "if null_p_value < alpha:\n",
    "    print(\"Type I Error: We incorrectly rejected H0 when it was true.\")\n",
    "\n",
    "# Simulate data where H1 is true (there is a difference)\n",
    "alt_group_a = np.random.normal(loc=50, scale=10, size=100)\n",
    "alt_group_b = np.random.normal(loc=55, scale=10, size=100)\n",
    "\n",
    "# Perform t-test under alternative hypothesis\n",
    "alt_t_statistic, alt_p_value = stats.ttest_ind(alt_group_a, alt_group_b)\n",
    "\n",
    "# Check for Type II Error (False Negative)\n",
    "if alt_p_value >= alpha:\n",
    "    print(\"Type II Error: We incorrectly failed to reject H0 when H1 is true.\")\n",
    "\n",
    "# Conclusion\n",
    "print(\"Analysis complete. Remember that hypothesis testing involves probabilities, and errors can occur.\")\n"
   ]
  }
 ],
 "metadata": {
  "kernelspec": {
   "display_name": ".venv",
   "language": "python",
   "name": "python3"
  },
  "language_info": {
   "codemirror_mode": {
    "name": "ipython",
    "version": 3
   },
   "file_extension": ".py",
   "mimetype": "text/x-python",
   "name": "python",
   "nbconvert_exporter": "python",
   "pygments_lexer": "ipython3",
   "version": "3.12.4"
  }
 },
 "nbformat": 4,
 "nbformat_minor": 5
}
