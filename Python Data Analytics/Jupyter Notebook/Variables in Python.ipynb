{
 "cells": [
  {
   "cell_type": "markdown",
   "id": "00ee1450-7cb9-4e33-abdd-a76bd2e1fa2c",
   "metadata": {},
   "source": [
    "#  Activity: Variables in Python\n",
    "\n",
    "## Introduction\n",
    "\n",
    "In this activity you will practice the following:\n",
    "- Assigning specific values / types to variables\n",
    "- Overwriting variables"
   ]
  },
  {
   "cell_type": "markdown",
   "id": "baf1495a-76d1-4672-b465-fb515240f9e4",
   "metadata": {},
   "source": [
    "#### Question 1\n",
    "\n",
    "Create variable `name` and assign any value you want to it."
   ]
  },
  {
   "cell_type": "code",
   "execution_count": 1,
   "id": "c07ee1be-7f6c-4721-ad02-e55b27673a18",
   "metadata": {},
   "outputs": [],
   "source": [
    "# Your code here\n",
    "# name = ...\n",
    "\n",
    "# Your code here\n",
    "name = 'Alice'  # You can assign any name or value you want\n"
   ]
  },
  {
   "cell_type": "code",
   "execution_count": 2,
   "id": "6d9047fb-613f-4ed7-b0cd-2269afee74ca",
   "metadata": {},
   "outputs": [
    {
     "name": "stdout",
     "output_type": "stream",
     "text": [
      "Make sure you created the variable: name\n",
      "Alice\n"
     ]
    }
   ],
   "source": [
    "# Question 1 Grading Checks\n",
    "\n",
    "print('Make sure you created the variable: name')\n",
    "print(name) # This will display the value of the variable 'name'"
   ]
  },
  {
   "cell_type": "markdown",
   "id": "9cd6665d-fe9e-4d7c-88ab-bbb64107124a",
   "metadata": {},
   "source": [
    "#### Question 2\n",
    "\n",
    "Assign the value of `2.7` to the variable `seconds`."
   ]
  },
  {
   "cell_type": "code",
   "execution_count": 1,
   "id": "3b7d0deb-9e0e-48b0-a1c3-b3319a2c3298",
   "metadata": {},
   "outputs": [
    {
     "name": "stdout",
     "output_type": "stream",
     "text": [
      "2.7\n"
     ]
    }
   ],
   "source": [
    "# Your code here\n",
    "\n",
    "# Your code here\n",
    "seconds = 2.7  # Assigning a float value to seconds\n",
    "\n",
    "print(seconds)"
   ]
  },
  {
   "cell_type": "code",
   "execution_count": 4,
   "id": "5391f3a5-58fa-4368-a8e7-08c63014dabd",
   "metadata": {},
   "outputs": [],
   "source": [
    "# Question 2 Grading Checks\n",
    "\n",
    "assert isinstance(seconds, float), 'Have you assigned a float value to the variable seconds?'"
   ]
  },
  {
   "cell_type": "markdown",
   "id": "33d67887-03ea-45d2-9938-bf056b92c600",
   "metadata": {},
   "source": [
    "#### Question 3\n",
    "\n",
    "Assign boolean value `True` to the variable `python_is_fun`."
   ]
  },
  {
   "cell_type": "code",
   "execution_count": 2,
   "id": "91764650-31be-43f8-9600-24fd88ba3679",
   "metadata": {},
   "outputs": [
    {
     "name": "stdout",
     "output_type": "stream",
     "text": [
      "True\n"
     ]
    }
   ],
   "source": [
    "# Your code here\n",
    "\n",
    "# Your code here\n",
    "python_is_fun = True  # Assigning a boolean value to python_is_fun\n",
    "\n",
    "print(python_is_fun)"
   ]
  },
  {
   "cell_type": "code",
   "execution_count": 6,
   "id": "52994f6d-5b36-4a8c-8335-f8e2ae1e4eae",
   "metadata": {},
   "outputs": [],
   "source": [
    "# Question 3 Grading Checks\n",
    "\n",
    "assert isinstance(python_is_fun, bool), 'Have you assigned a boolean value to the python_is_fun variable?'"
   ]
  }
 ],
 "metadata": {
  "kernelspec": {
   "display_name": "Python 3 (ipykernel)",
   "language": "python",
   "name": "python3"
  },
  "language_info": {
   "codemirror_mode": {
    "name": "ipython",
    "version": 3
   },
   "file_extension": ".py",
   "mimetype": "text/x-python",
   "name": "python",
   "nbconvert_exporter": "python",
   "pygments_lexer": "ipython3",
   "version": "3.12.4"
  }
 },
 "nbformat": 4,
 "nbformat_minor": 5
}
