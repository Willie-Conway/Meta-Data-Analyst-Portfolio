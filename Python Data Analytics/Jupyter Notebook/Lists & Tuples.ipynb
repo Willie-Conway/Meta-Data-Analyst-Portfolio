{
 "cells": [
  {
   "cell_type": "markdown",
   "id": "5a15e9ff-4d56-4891-8fde-ca1509d0e98c",
   "metadata": {},
   "source": [
    "## Compound Types\n",
    " Containers Holding multiple pieces of information\n",
    "\n",
    "* List\n",
    "* Tuple\n",
    "* Dictionary"
   ]
  },
  {
   "cell_type": "markdown",
   "id": "d35a874f-46a2-49da-8f04-170ac851ba93",
   "metadata": {},
   "source": [
    "## Lists"
   ]
  },
  {
   "cell_type": "code",
   "execution_count": 1,
   "id": "9706b1e8-f645-427c-b621-1b142e33f2b6",
   "metadata": {},
   "outputs": [],
   "source": [
    "my_list = [8, 6, 7]"
   ]
  },
  {
   "cell_type": "code",
   "execution_count": 4,
   "id": "397ee342-6f4c-4542-8ea6-be073817e83b",
   "metadata": {},
   "outputs": [
    {
     "data": {
      "text/plain": [
       "[8, 6, 7]"
      ]
     },
     "execution_count": 4,
     "metadata": {},
     "output_type": "execute_result"
    }
   ],
   "source": [
    "my_list"
   ]
  },
  {
   "cell_type": "code",
   "execution_count": 2,
   "id": "2e1b3c3d-578c-46e4-b33b-689c73a3d384",
   "metadata": {},
   "outputs": [],
   "source": [
    "my_other_list = [8, 6, 7, 'five', 3.0, 9]"
   ]
  },
  {
   "cell_type": "code",
   "execution_count": 5,
   "id": "b7713b93-a0d3-49e4-b4bb-c824ec85de0a",
   "metadata": {},
   "outputs": [
    {
     "data": {
      "text/plain": [
       "[8, 6, 7, 'five', 3.0, 9]"
      ]
     },
     "execution_count": 5,
     "metadata": {},
     "output_type": "execute_result"
    }
   ],
   "source": [
    "my_other_list"
   ]
  },
  {
   "cell_type": "markdown",
   "id": "f4457ab4-8e30-41e6-88ec-9352e3a80e25",
   "metadata": {},
   "source": [
    "#### Indexing and Slicing"
   ]
  },
  {
   "cell_type": "markdown",
   "id": "ee1b8c20-b73f-48a5-93e2-66c555c925b1",
   "metadata": {},
   "source": [
    "`Indexing` Getting a single element"
   ]
  },
  {
   "cell_type": "markdown",
   "id": "9a9081fa-7d1d-4a8e-a805-10b45b22c1ab",
   "metadata": {},
   "source": [
    "`Slicing` getting multiple elements "
   ]
  },
  {
   "cell_type": "code",
   "execution_count": 6,
   "id": "88225025-37ee-4208-9ad8-6637852eb527",
   "metadata": {},
   "outputs": [
    {
     "data": {
      "text/plain": [
       "['first', 'second', 'third']"
      ]
     },
     "execution_count": 6,
     "metadata": {},
     "output_type": "execute_result"
    }
   ],
   "source": [
    "my_list = ['first', 'second', 'third']\n",
    "my_list"
   ]
  },
  {
   "cell_type": "code",
   "execution_count": 9,
   "id": "cb9c3541-c07f-4c07-ae6c-d9db5324ed7a",
   "metadata": {},
   "outputs": [
    {
     "data": {
      "text/plain": [
       "'first'"
      ]
     },
     "execution_count": 9,
     "metadata": {},
     "output_type": "execute_result"
    }
   ],
   "source": [
    "my_list[0]"
   ]
  },
  {
   "cell_type": "code",
   "execution_count": 10,
   "id": "a184c5e6-cff1-4b48-8717-bf246dc8cc65",
   "metadata": {},
   "outputs": [
    {
     "data": {
      "text/plain": [
       "'second'"
      ]
     },
     "execution_count": 10,
     "metadata": {},
     "output_type": "execute_result"
    }
   ],
   "source": [
    "my_list[1]"
   ]
  },
  {
   "cell_type": "code",
   "execution_count": 11,
   "id": "358b4987-c092-465a-8959-1041710b3f2c",
   "metadata": {},
   "outputs": [
    {
     "data": {
      "text/plain": [
       "'third'"
      ]
     },
     "execution_count": 11,
     "metadata": {},
     "output_type": "execute_result"
    }
   ],
   "source": [
    "my_list[2]"
   ]
  },
  {
   "cell_type": "code",
   "execution_count": 14,
   "id": "d3ba2701-43be-4b48-a9b1-900f4fda6e95",
   "metadata": {},
   "outputs": [],
   "source": [
    "colors = ['red', 'blue', 'green']"
   ]
  },
  {
   "cell_type": "code",
   "execution_count": 15,
   "id": "dbb1cbb8-5487-476c-804e-4913f61bf973",
   "metadata": {},
   "outputs": [
    {
     "data": {
      "text/plain": [
       "'red'"
      ]
     },
     "execution_count": 15,
     "metadata": {},
     "output_type": "execute_result"
    }
   ],
   "source": [
    "colors[0]"
   ]
  },
  {
   "cell_type": "code",
   "execution_count": 16,
   "id": "62061d9e-d5e7-4372-bfa7-6e528b05673e",
   "metadata": {},
   "outputs": [
    {
     "data": {
      "text/plain": [
       "'blue'"
      ]
     },
     "execution_count": 16,
     "metadata": {},
     "output_type": "execute_result"
    }
   ],
   "source": [
    "colors[1]"
   ]
  },
  {
   "cell_type": "code",
   "execution_count": 17,
   "id": "2a174fac-6c2a-402e-b363-4192f615e692",
   "metadata": {},
   "outputs": [
    {
     "data": {
      "text/plain": [
       "'green'"
      ]
     },
     "execution_count": 17,
     "metadata": {},
     "output_type": "execute_result"
    }
   ],
   "source": [
    "colors[2]"
   ]
  },
  {
   "cell_type": "code",
   "execution_count": 18,
   "id": "fcb4b335-d67f-43ce-8243-92444b9e4a4c",
   "metadata": {},
   "outputs": [
    {
     "ename": "IndexError",
     "evalue": "list index out of range",
     "output_type": "error",
     "traceback": [
      "\u001b[1;31m---------------------------------------------------------------------------\u001b[0m",
      "\u001b[1;31mIndexError\u001b[0m                                Traceback (most recent call last)",
      "Cell \u001b[1;32mIn[18], line 1\u001b[0m\n\u001b[1;32m----> 1\u001b[0m \u001b[43mcolors\u001b[49m\u001b[43m[\u001b[49m\u001b[38;5;241;43m5\u001b[39;49m\u001b[43m]\u001b[49m\n",
      "\u001b[1;31mIndexError\u001b[0m: list index out of range"
     ]
    }
   ],
   "source": [
    "colors[5]"
   ]
  },
  {
   "cell_type": "code",
   "execution_count": 19,
   "id": "fcb5ba39-7cc1-47cc-98f0-bcf589bd293e",
   "metadata": {},
   "outputs": [
    {
     "name": "stdout",
     "output_type": "stream",
     "text": [
      "['red', 'blue', 'green']\n"
     ]
    }
   ],
   "source": [
    "print(colors)"
   ]
  },
  {
   "cell_type": "code",
   "execution_count": 20,
   "id": "551966ce-3407-4b0e-b7da-2e91328797da",
   "metadata": {},
   "outputs": [
    {
     "data": {
      "text/plain": [
       "'red'"
      ]
     },
     "execution_count": 20,
     "metadata": {},
     "output_type": "execute_result"
    }
   ],
   "source": [
    "colors[-3]"
   ]
  },
  {
   "cell_type": "code",
   "execution_count": 21,
   "id": "9fa9d88b-06f0-42eb-b002-c06d1fed7b80",
   "metadata": {},
   "outputs": [
    {
     "data": {
      "text/plain": [
       "'blue'"
      ]
     },
     "execution_count": 21,
     "metadata": {},
     "output_type": "execute_result"
    }
   ],
   "source": [
    "colors[-2]"
   ]
  },
  {
   "cell_type": "code",
   "execution_count": 22,
   "id": "6db44f30-8ae5-4472-8b3e-4dedf38b1775",
   "metadata": {},
   "outputs": [
    {
     "data": {
      "text/plain": [
       "'green'"
      ]
     },
     "execution_count": 22,
     "metadata": {},
     "output_type": "execute_result"
    }
   ],
   "source": [
    "colors[-1]"
   ]
  },
  {
   "cell_type": "code",
   "execution_count": null,
   "id": "8e659949-1a55-41a3-ae23-0f4d3e8f889f",
   "metadata": {},
   "outputs": [],
   "source": [
    "my_list = ['first', 'second', 'third']\n",
    "my_list\n",
    "\n",
    "my_list[start : end]"
   ]
  },
  {
   "cell_type": "code",
   "execution_count": 24,
   "id": "1fe62964-9c5f-4867-a798-8c87c8e1ca56",
   "metadata": {},
   "outputs": [
    {
     "data": {
      "text/plain": [
       "['red', 'blue', 'green']"
      ]
     },
     "execution_count": 24,
     "metadata": {},
     "output_type": "execute_result"
    }
   ],
   "source": [
    "colors"
   ]
  },
  {
   "cell_type": "code",
   "execution_count": 25,
   "id": "a4b97e11-dde9-42b1-b43e-f38a453d35f8",
   "metadata": {},
   "outputs": [
    {
     "data": {
      "text/plain": [
       "['red']"
      ]
     },
     "execution_count": 25,
     "metadata": {},
     "output_type": "execute_result"
    }
   ],
   "source": [
    "colors[0:1]"
   ]
  },
  {
   "cell_type": "code",
   "execution_count": 26,
   "id": "ced134c9-e8ad-449b-9d1e-d874ed0879df",
   "metadata": {},
   "outputs": [
    {
     "data": {
      "text/plain": [
       "['red', 'blue']"
      ]
     },
     "execution_count": 26,
     "metadata": {},
     "output_type": "execute_result"
    }
   ],
   "source": [
    "colors[0:2]"
   ]
  },
  {
   "cell_type": "code",
   "execution_count": 27,
   "id": "d8a824a1-e840-4513-9017-d15de52e21c6",
   "metadata": {},
   "outputs": [
    {
     "data": {
      "text/plain": [
       "['red', 'blue', 'green']"
      ]
     },
     "execution_count": 27,
     "metadata": {},
     "output_type": "execute_result"
    }
   ],
   "source": [
    "colors[0:3]"
   ]
  },
  {
   "cell_type": "code",
   "execution_count": 28,
   "id": "d129ca0c-6ddb-4ff7-899d-14d994c58ba6",
   "metadata": {},
   "outputs": [
    {
     "data": {
      "text/plain": [
       "['red', 'blue', 'green']"
      ]
     },
     "execution_count": 28,
     "metadata": {},
     "output_type": "execute_result"
    }
   ],
   "source": [
    "colors[0:]"
   ]
  },
  {
   "cell_type": "code",
   "execution_count": 29,
   "id": "1122f9b0-5ae6-45e2-a777-3d7f8273210a",
   "metadata": {},
   "outputs": [
    {
     "data": {
      "text/plain": [
       "['red', 'blue']"
      ]
     },
     "execution_count": 29,
     "metadata": {},
     "output_type": "execute_result"
    }
   ],
   "source": [
    "colors[:2]"
   ]
  },
  {
   "cell_type": "code",
   "execution_count": 30,
   "id": "5dc6a581-4bb1-46ca-8209-20a5215a3aa7",
   "metadata": {},
   "outputs": [
    {
     "data": {
      "text/plain": [
       "['red', 'pink', 'green']"
      ]
     },
     "execution_count": 30,
     "metadata": {},
     "output_type": "execute_result"
    }
   ],
   "source": [
    "colors[1] = 'pink'\n",
    "colors"
   ]
  },
  {
   "cell_type": "markdown",
   "id": "eec503b2-d420-424e-93b0-d49803696651",
   "metadata": {},
   "source": [
    "### Built-In Methods"
   ]
  },
  {
   "cell_type": "code",
   "execution_count": 31,
   "id": "63f9205c-fc33-4886-bd50-83c6915b5440",
   "metadata": {},
   "outputs": [
    {
     "data": {
      "text/plain": [
       "10"
      ]
     },
     "execution_count": 31,
     "metadata": {},
     "output_type": "execute_result"
    }
   ],
   "source": [
    "my_other_list = [8, 6, 7, 'five', 3.0, 9, 100, 27, 100, 'one']\n",
    "len(my_other_list)"
   ]
  },
  {
   "cell_type": "code",
   "execution_count": 32,
   "id": "29674a11-fdcd-4902-acc2-b076fd03d134",
   "metadata": {},
   "outputs": [
    {
     "data": {
      "text/plain": [
       "3"
      ]
     },
     "execution_count": 32,
     "metadata": {},
     "output_type": "execute_result"
    }
   ],
   "source": [
    "len(colors)"
   ]
  },
  {
   "cell_type": "code",
   "execution_count": 33,
   "id": "0a6e2fcf-3026-47ca-89a2-4bb6e509d983",
   "metadata": {},
   "outputs": [
    {
     "data": {
      "text/plain": [
       "0"
      ]
     },
     "execution_count": 33,
     "metadata": {},
     "output_type": "execute_result"
    }
   ],
   "source": [
    "len([])"
   ]
  },
  {
   "cell_type": "code",
   "execution_count": 34,
   "id": "38576715-a975-4aa0-bb5c-c3a6f71b5249",
   "metadata": {},
   "outputs": [
    {
     "data": {
      "text/plain": [
       "['red', 'pink', 'green', 'blue']"
      ]
     },
     "execution_count": 34,
     "metadata": {},
     "output_type": "execute_result"
    }
   ],
   "source": [
    "colors.append('blue')\n",
    "colors"
   ]
  },
  {
   "cell_type": "code",
   "execution_count": 35,
   "id": "1170fd4d-01d5-4c1d-a7f7-3d550abfb0be",
   "metadata": {},
   "outputs": [
    {
     "name": "stdout",
     "output_type": "stream",
     "text": [
      "['Watch', 'Bamboo Boogie-Boots', 'Perfume']\n"
     ]
    }
   ],
   "source": [
    "products = ['Watch', 'Bamboo Boogie-Boots', 'Perfume']\n",
    "print(products)"
   ]
  },
  {
   "cell_type": "code",
   "execution_count": 36,
   "id": "bf41efca-eec1-4c4d-80f1-cb169afe21d4",
   "metadata": {},
   "outputs": [
    {
     "name": "stdout",
     "output_type": "stream",
     "text": [
      "['Watch', 'Bamboo Boogie-Boots', 'Perfume', 'Coffee']\n"
     ]
    }
   ],
   "source": [
    "products.append('Coffee')\n",
    "print(products)"
   ]
  },
  {
   "cell_type": "markdown",
   "id": "5436a4bd-1679-4c74-af82-d9bce31ad7af",
   "metadata": {},
   "source": [
    "### Tuples"
   ]
  },
  {
   "cell_type": "code",
   "execution_count": 37,
   "id": "f83a1e93-f9f5-4c2d-a518-3e5e167f53a9",
   "metadata": {},
   "outputs": [
    {
     "name": "stdout",
     "output_type": "stream",
     "text": [
      "('red', 'blue', 'green')\n"
     ]
    }
   ],
   "source": [
    "my_tuple = ('red', 'blue', 'green')\n",
    "print(my_tuple)"
   ]
  },
  {
   "cell_type": "code",
   "execution_count": 38,
   "id": "95d5cf1b-9a02-4fa8-988b-9ae7cd4f42f2",
   "metadata": {},
   "outputs": [
    {
     "data": {
      "text/plain": [
       "3"
      ]
     },
     "execution_count": 38,
     "metadata": {},
     "output_type": "execute_result"
    }
   ],
   "source": [
    "len(my_tuple)"
   ]
  },
  {
   "cell_type": "code",
   "execution_count": 39,
   "id": "5a0ec55a-51b3-4b5f-988c-76bc9d2dce63",
   "metadata": {},
   "outputs": [
    {
     "data": {
      "text/plain": [
       "'red'"
      ]
     },
     "execution_count": 39,
     "metadata": {},
     "output_type": "execute_result"
    }
   ],
   "source": [
    "my_tuple[0]"
   ]
  },
  {
   "cell_type": "code",
   "execution_count": 43,
   "id": "ce429068-e9a8-437a-a3d6-8b3040f79590",
   "metadata": {},
   "outputs": [
    {
     "data": {
      "text/plain": [
       "'blue'"
      ]
     },
     "execution_count": 43,
     "metadata": {},
     "output_type": "execute_result"
    }
   ],
   "source": [
    "my_tuple[1]"
   ]
  },
  {
   "cell_type": "code",
   "execution_count": 40,
   "id": "0e2ba639-ad8b-42cc-84a6-1897e095ddd4",
   "metadata": {},
   "outputs": [
    {
     "data": {
      "text/plain": [
       "'green'"
      ]
     },
     "execution_count": 40,
     "metadata": {},
     "output_type": "execute_result"
    }
   ],
   "source": [
    "my_tuple[-1]"
   ]
  },
  {
   "cell_type": "code",
   "execution_count": 41,
   "id": "fea5169d-1472-4496-88e9-bec5969f99e9",
   "metadata": {},
   "outputs": [
    {
     "ename": "AttributeError",
     "evalue": "'tuple' object has no attribute 'append'",
     "output_type": "error",
     "traceback": [
      "\u001b[1;31m---------------------------------------------------------------------------\u001b[0m",
      "\u001b[1;31mAttributeError\u001b[0m                            Traceback (most recent call last)",
      "Cell \u001b[1;32mIn[41], line 1\u001b[0m\n\u001b[1;32m----> 1\u001b[0m \u001b[43mmy_tuple\u001b[49m\u001b[38;5;241;43m.\u001b[39;49m\u001b[43mappend\u001b[49m(\u001b[38;5;124m'\u001b[39m\u001b[38;5;124mpink\u001b[39m\u001b[38;5;124m'\u001b[39m)\n",
      "\u001b[1;31mAttributeError\u001b[0m: 'tuple' object has no attribute 'append'"
     ]
    }
   ],
   "source": [
    "my_tuple.append('pink')"
   ]
  },
  {
   "cell_type": "code",
   "execution_count": 46,
   "id": "24be210c-d978-480b-8448-dfc1e179d756",
   "metadata": {},
   "outputs": [],
   "source": [
    "new_tuple = (5,24)"
   ]
  },
  {
   "cell_type": "code",
   "execution_count": 47,
   "id": "64dee075-c133-483d-b46d-1d19f49a4372",
   "metadata": {},
   "outputs": [
    {
     "data": {
      "text/plain": [
       "5"
      ]
     },
     "execution_count": 47,
     "metadata": {},
     "output_type": "execute_result"
    }
   ],
   "source": [
    "new_tuple[0]"
   ]
  },
  {
   "cell_type": "code",
   "execution_count": 48,
   "id": "5c31a1d2-1eae-4158-8b76-6ad38c5e67e3",
   "metadata": {},
   "outputs": [
    {
     "data": {
      "text/plain": [
       "24"
      ]
     },
     "execution_count": 48,
     "metadata": {},
     "output_type": "execute_result"
    }
   ],
   "source": [
    "new_tuple[1]"
   ]
  },
  {
   "cell_type": "code",
   "execution_count": 49,
   "id": "40585c19-9f2a-4fa8-b5fc-77c59631c25f",
   "metadata": {},
   "outputs": [
    {
     "name": "stdout",
     "output_type": "stream",
     "text": [
      "5\n",
      "24\n"
     ]
    }
   ],
   "source": [
    "month, day = new_tuple\n",
    "\n",
    "print(month)\n",
    "print(day)"
   ]
  }
 ],
 "metadata": {
  "kernelspec": {
   "display_name": "Python 3 (ipykernel)",
   "language": "python",
   "name": "python3"
  },
  "language_info": {
   "codemirror_mode": {
    "name": "ipython",
    "version": 3
   },
   "file_extension": ".py",
   "mimetype": "text/x-python",
   "name": "python",
   "nbconvert_exporter": "python",
   "pygments_lexer": "ipython3",
   "version": "3.12.4"
  }
 },
 "nbformat": 4,
 "nbformat_minor": 5
}
