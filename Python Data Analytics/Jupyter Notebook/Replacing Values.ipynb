{
 "cells": [
  {
   "cell_type": "code",
   "execution_count": 1,
   "id": "706055e2-990f-45fa-81b0-89369268c5c6",
   "metadata": {},
   "outputs": [],
   "source": [
    "import pandas as pd"
   ]
  },
  {
   "cell_type": "code",
   "execution_count": 2,
   "id": "2c2db1eb-a73c-4a65-88f4-9c12f91ae615",
   "metadata": {},
   "outputs": [],
   "source": [
    "df = pd.read_csv('csv/purchases.csv')"
   ]
  },
  {
   "cell_type": "code",
   "execution_count": 3,
   "id": "231edd93-24c4-4d2e-890c-a9630a9affa1",
   "metadata": {},
   "outputs": [
    {
     "name": "stdout",
     "output_type": "stream",
     "text": [
      "<class 'pandas.core.frame.DataFrame'>\n",
      "RangeIndex: 100 entries, 0 to 99\n",
      "Data columns (total 4 columns):\n",
      " #   Column         Non-Null Count  Dtype \n",
      "---  ------         --------------  ----- \n",
      " 0   CustomerID     100 non-null    object\n",
      " 1   Age            100 non-null    int64 \n",
      " 2   PaymentMethod  100 non-null    object\n",
      " 3   Purchase       100 non-null    object\n",
      "dtypes: int64(1), object(3)\n",
      "memory usage: 3.3+ KB\n"
     ]
    }
   ],
   "source": [
    "df.head()\n",
    "df.info()"
   ]
  },
  {
   "cell_type": "code",
   "execution_count": 4,
   "id": "e9a39b97-6097-4332-835f-97bae28512af",
   "metadata": {},
   "outputs": [
    {
     "data": {
      "text/html": [
       "<div>\n",
       "<style scoped>\n",
       "    .dataframe tbody tr th:only-of-type {\n",
       "        vertical-align: middle;\n",
       "    }\n",
       "\n",
       "    .dataframe tbody tr th {\n",
       "        vertical-align: top;\n",
       "    }\n",
       "\n",
       "    .dataframe thead th {\n",
       "        text-align: right;\n",
       "    }\n",
       "</style>\n",
       "<table border=\"1\" class=\"dataframe\">\n",
       "  <thead>\n",
       "    <tr style=\"text-align: right;\">\n",
       "      <th></th>\n",
       "      <th>CustomerID</th>\n",
       "      <th>Age</th>\n",
       "      <th>PaymentMethod</th>\n",
       "      <th>Purchase</th>\n",
       "    </tr>\n",
       "  </thead>\n",
       "  <tbody>\n",
       "    <tr>\n",
       "      <th>1</th>\n",
       "      <td>6b86b273ff34fce19d6b804eff5a3f5747ada4eaa22f1d...</td>\n",
       "      <td>-43</td>\n",
       "      <td>Electronic check</td>\n",
       "      <td>$348.92</td>\n",
       "    </tr>\n",
       "    <tr>\n",
       "      <th>5</th>\n",
       "      <td>ef2d127de37b942baad06145e54b0c619a1f22327b2ebb...</td>\n",
       "      <td>-53</td>\n",
       "      <td>Electronic check</td>\n",
       "      <td>$57.22</td>\n",
       "    </tr>\n",
       "    <tr>\n",
       "      <th>8</th>\n",
       "      <td>2c624232cdd221771294dfbb310aca000a0df6ac8b66b6...</td>\n",
       "      <td>-65</td>\n",
       "      <td>Mailed check</td>\n",
       "      <td>$211.17</td>\n",
       "    </tr>\n",
       "    <tr>\n",
       "      <th>11</th>\n",
       "      <td>4fc82b26aecb47d2868c4efbe3581732a3e7cbcc6c2efb...</td>\n",
       "      <td>-31</td>\n",
       "      <td>Mailed check</td>\n",
       "      <td>$65.43</td>\n",
       "    </tr>\n",
       "  </tbody>\n",
       "</table>\n",
       "</div>"
      ],
      "text/plain": [
       "                                           CustomerID  Age     PaymentMethod  \\\n",
       "1   6b86b273ff34fce19d6b804eff5a3f5747ada4eaa22f1d...  -43  Electronic check   \n",
       "5   ef2d127de37b942baad06145e54b0c619a1f22327b2ebb...  -53  Electronic check   \n",
       "8   2c624232cdd221771294dfbb310aca000a0df6ac8b66b6...  -65      Mailed check   \n",
       "11  4fc82b26aecb47d2868c4efbe3581732a3e7cbcc6c2efb...  -31      Mailed check   \n",
       "\n",
       "   Purchase  \n",
       "1   $348.92  \n",
       "5    $57.22  \n",
       "8   $211.17  \n",
       "11   $65.43  "
      ]
     },
     "execution_count": 4,
     "metadata": {},
     "output_type": "execute_result"
    }
   ],
   "source": [
    "df[df.Age < 0]"
   ]
  },
  {
   "cell_type": "code",
   "execution_count": 5,
   "id": "88ebf784-271b-416e-9b6d-b74120c60eb8",
   "metadata": {},
   "outputs": [],
   "source": [
    "negative_ages = df.Age < 0"
   ]
  },
  {
   "cell_type": "code",
   "execution_count": 6,
   "id": "62895b73-34f9-4b12-bc53-d041904b96e1",
   "metadata": {},
   "outputs": [],
   "source": [
    "df.loc[negative_ages, 'Age'] = -1 * df.loc[negative_ages, 'Age']"
   ]
  },
  {
   "cell_type": "code",
   "execution_count": 7,
   "id": "65011e37-1a9f-4132-adcf-3697f3fa3551",
   "metadata": {},
   "outputs": [
    {
     "data": {
      "text/html": [
       "<div>\n",
       "<style scoped>\n",
       "    .dataframe tbody tr th:only-of-type {\n",
       "        vertical-align: middle;\n",
       "    }\n",
       "\n",
       "    .dataframe tbody tr th {\n",
       "        vertical-align: top;\n",
       "    }\n",
       "\n",
       "    .dataframe thead th {\n",
       "        text-align: right;\n",
       "    }\n",
       "</style>\n",
       "<table border=\"1\" class=\"dataframe\">\n",
       "  <thead>\n",
       "    <tr style=\"text-align: right;\">\n",
       "      <th></th>\n",
       "      <th>CustomerID</th>\n",
       "      <th>Age</th>\n",
       "      <th>PaymentMethod</th>\n",
       "      <th>Purchase</th>\n",
       "    </tr>\n",
       "  </thead>\n",
       "  <tbody>\n",
       "    <tr>\n",
       "      <th>0</th>\n",
       "      <td>5feceb66ffc86f38d952786c6d696c79c2dbc239dd4e91...</td>\n",
       "      <td>35</td>\n",
       "      <td>Mailed check</td>\n",
       "      <td>$301.44</td>\n",
       "    </tr>\n",
       "    <tr>\n",
       "      <th>1</th>\n",
       "      <td>6b86b273ff34fce19d6b804eff5a3f5747ada4eaa22f1d...</td>\n",
       "      <td>43</td>\n",
       "      <td>Electronic check</td>\n",
       "      <td>$348.92</td>\n",
       "    </tr>\n",
       "    <tr>\n",
       "      <th>2</th>\n",
       "      <td>d4735e3a265e16eee03f59718b9b5d03019c07d8b6c51f...</td>\n",
       "      <td>61</td>\n",
       "      <td>Credit card (automatic)</td>\n",
       "      <td>$440.83</td>\n",
       "    </tr>\n",
       "    <tr>\n",
       "      <th>3</th>\n",
       "      <td>4e07408562bedb8b60ce05c1decfe3ad16b72230967de0...</td>\n",
       "      <td>51</td>\n",
       "      <td>Mailed check</td>\n",
       "      <td>$314.06</td>\n",
       "    </tr>\n",
       "    <tr>\n",
       "      <th>4</th>\n",
       "      <td>4b227777d4dd1fc61c6f884f48641d02b4d121d3fd328c...</td>\n",
       "      <td>27</td>\n",
       "      <td>Mailed check</td>\n",
       "      <td>$151.34</td>\n",
       "    </tr>\n",
       "    <tr>\n",
       "      <th>...</th>\n",
       "      <td>...</td>\n",
       "      <td>...</td>\n",
       "      <td>...</td>\n",
       "      <td>...</td>\n",
       "    </tr>\n",
       "    <tr>\n",
       "      <th>95</th>\n",
       "      <td>ad48ff99415b2f007dc35b7eb553fd1eb35ebfa2f2f308...</td>\n",
       "      <td>60</td>\n",
       "      <td>Bank transfer (automatic)</td>\n",
       "      <td>$292.44</td>\n",
       "    </tr>\n",
       "    <tr>\n",
       "      <th>96</th>\n",
       "      <td>7b1a278f5abe8e9da907fc9c29dfd432d60dc76e17b0fa...</td>\n",
       "      <td>46</td>\n",
       "      <td>Bank transfer (automatic)</td>\n",
       "      <td>$189.28</td>\n",
       "    </tr>\n",
       "    <tr>\n",
       "      <th>97</th>\n",
       "      <td>d6d824abba4afde81129c71dea75b8100e96338da5f416...</td>\n",
       "      <td>53</td>\n",
       "      <td>Electronic check</td>\n",
       "      <td>$470.37</td>\n",
       "    </tr>\n",
       "    <tr>\n",
       "      <th>98</th>\n",
       "      <td>29db0c6782dbd5000559ef4d9e953e300e2b479eed26d8...</td>\n",
       "      <td>30</td>\n",
       "      <td>Bank transfer (automatic)</td>\n",
       "      <td>$486.96</td>\n",
       "    </tr>\n",
       "    <tr>\n",
       "      <th>99</th>\n",
       "      <td>8c1f1046219ddd216a023f792356ddf127fce372a72ec9...</td>\n",
       "      <td>49</td>\n",
       "      <td>Credit card (automatic)</td>\n",
       "      <td>$145.54</td>\n",
       "    </tr>\n",
       "  </tbody>\n",
       "</table>\n",
       "<p>100 rows × 4 columns</p>\n",
       "</div>"
      ],
      "text/plain": [
       "                                           CustomerID  Age  \\\n",
       "0   5feceb66ffc86f38d952786c6d696c79c2dbc239dd4e91...   35   \n",
       "1   6b86b273ff34fce19d6b804eff5a3f5747ada4eaa22f1d...   43   \n",
       "2   d4735e3a265e16eee03f59718b9b5d03019c07d8b6c51f...   61   \n",
       "3   4e07408562bedb8b60ce05c1decfe3ad16b72230967de0...   51   \n",
       "4   4b227777d4dd1fc61c6f884f48641d02b4d121d3fd328c...   27   \n",
       "..                                                ...  ...   \n",
       "95  ad48ff99415b2f007dc35b7eb553fd1eb35ebfa2f2f308...   60   \n",
       "96  7b1a278f5abe8e9da907fc9c29dfd432d60dc76e17b0fa...   46   \n",
       "97  d6d824abba4afde81129c71dea75b8100e96338da5f416...   53   \n",
       "98  29db0c6782dbd5000559ef4d9e953e300e2b479eed26d8...   30   \n",
       "99  8c1f1046219ddd216a023f792356ddf127fce372a72ec9...   49   \n",
       "\n",
       "                PaymentMethod Purchase  \n",
       "0                Mailed check  $301.44  \n",
       "1            Electronic check  $348.92  \n",
       "2     Credit card (automatic)  $440.83  \n",
       "3                Mailed check  $314.06  \n",
       "4                Mailed check  $151.34  \n",
       "..                        ...      ...  \n",
       "95  Bank transfer (automatic)  $292.44  \n",
       "96  Bank transfer (automatic)  $189.28  \n",
       "97           Electronic check  $470.37  \n",
       "98  Bank transfer (automatic)  $486.96  \n",
       "99    Credit card (automatic)  $145.54  \n",
       "\n",
       "[100 rows x 4 columns]"
      ]
     },
     "execution_count": 7,
     "metadata": {},
     "output_type": "execute_result"
    }
   ],
   "source": [
    "df"
   ]
  },
  {
   "cell_type": "code",
   "execution_count": 8,
   "id": "584814d6-d7ca-47c2-a620-b31ce09c2247",
   "metadata": {},
   "outputs": [
    {
     "data": {
      "text/plain": [
       "np.int64(0)"
      ]
     },
     "execution_count": 8,
     "metadata": {},
     "output_type": "execute_result"
    }
   ],
   "source": [
    "(df.Age <0).sum()"
   ]
  },
  {
   "cell_type": "code",
   "execution_count": 9,
   "id": "65c784de-fc0f-48b9-a9ea-4b801f0d78d4",
   "metadata": {},
   "outputs": [
    {
     "data": {
      "text/plain": [
       "(np.int64(18), np.int64(162))"
      ]
     },
     "execution_count": 9,
     "metadata": {},
     "output_type": "execute_result"
    }
   ],
   "source": [
    "df.Age.min(), df.Age.max()"
   ]
  },
  {
   "cell_type": "code",
   "execution_count": 10,
   "id": "5e14cab8-1468-433c-b148-ed2ad4103a5e",
   "metadata": {},
   "outputs": [
    {
     "data": {
      "text/html": [
       "<div>\n",
       "<style scoped>\n",
       "    .dataframe tbody tr th:only-of-type {\n",
       "        vertical-align: middle;\n",
       "    }\n",
       "\n",
       "    .dataframe tbody tr th {\n",
       "        vertical-align: top;\n",
       "    }\n",
       "\n",
       "    .dataframe thead th {\n",
       "        text-align: right;\n",
       "    }\n",
       "</style>\n",
       "<table border=\"1\" class=\"dataframe\">\n",
       "  <thead>\n",
       "    <tr style=\"text-align: right;\">\n",
       "      <th></th>\n",
       "      <th>CustomerID</th>\n",
       "      <th>Age</th>\n",
       "      <th>PaymentMethod</th>\n",
       "      <th>Purchase</th>\n",
       "    </tr>\n",
       "  </thead>\n",
       "  <tbody>\n",
       "    <tr>\n",
       "      <th>15</th>\n",
       "      <td>e629fa6598d732768f7c726b4b621285f9c3b85303900a...</td>\n",
       "      <td>133</td>\n",
       "      <td>Credit card (automatic)</td>\n",
       "      <td>$325.61</td>\n",
       "    </tr>\n",
       "    <tr>\n",
       "      <th>16</th>\n",
       "      <td>b17ef6d19c7a5b1ee83b907c595526dcb1eb06db8227d6...</td>\n",
       "      <td>162</td>\n",
       "      <td>Electronic check</td>\n",
       "      <td>$5.26</td>\n",
       "    </tr>\n",
       "  </tbody>\n",
       "</table>\n",
       "</div>"
      ],
      "text/plain": [
       "                                           CustomerID  Age  \\\n",
       "15  e629fa6598d732768f7c726b4b621285f9c3b85303900a...  133   \n",
       "16  b17ef6d19c7a5b1ee83b907c595526dcb1eb06db8227d6...  162   \n",
       "\n",
       "              PaymentMethod Purchase  \n",
       "15  Credit card (automatic)  $325.61  \n",
       "16         Electronic check    $5.26  "
      ]
     },
     "execution_count": 10,
     "metadata": {},
     "output_type": "execute_result"
    }
   ],
   "source": [
    "df[df.Age>= 100]"
   ]
  },
  {
   "cell_type": "code",
   "execution_count": 11,
   "id": "39f69e02-0a2c-4688-878d-18c318bbcc3e",
   "metadata": {},
   "outputs": [],
   "source": [
    "df.loc[15, 'Age'] = 33\n",
    "df.loc[16, 'Age'] = 62"
   ]
  },
  {
   "cell_type": "code",
   "execution_count": 12,
   "id": "d12e5d39-f432-4d6a-b899-9cba75603269",
   "metadata": {},
   "outputs": [
    {
     "data": {
      "text/plain": [
       "np.int64(69)"
      ]
     },
     "execution_count": 12,
     "metadata": {},
     "output_type": "execute_result"
    }
   ],
   "source": [
    "df.Age.max()"
   ]
  }
 ],
 "metadata": {
  "kernelspec": {
   "display_name": "Python 3 (ipykernel)",
   "language": "python",
   "name": "python3"
  },
  "language_info": {
   "codemirror_mode": {
    "name": "ipython",
    "version": 3
   },
   "file_extension": ".py",
   "mimetype": "text/x-python",
   "name": "python",
   "nbconvert_exporter": "python",
   "pygments_lexer": "ipython3",
   "version": "3.12.4"
  }
 },
 "nbformat": 4,
 "nbformat_minor": 5
}
