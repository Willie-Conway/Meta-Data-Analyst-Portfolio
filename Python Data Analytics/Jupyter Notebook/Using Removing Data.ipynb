{
 "cells": [
  {
   "cell_type": "markdown",
   "id": "71a890fb-2e5c-43f8-b794-a42b934fb8d1",
   "metadata": {},
   "source": [
    "# Activity: Removing Data\n",
    "\n",
    "## Introduction\n",
    "\n",
    "In this activity you will practice using Pandas functionality to check for and remove any unwanted data from a dataset.\n",
    "This activity will cover the following topics:\n",
    "- Removing columns from a DataFrame\n",
    "- Removing rows from a DataFrame\n",
    "- Removing rows based on a condition\n",
    "- Checking for duplicate data\n"
   ]
  },
  {
   "cell_type": "markdown",
   "id": "7a4b5d1b-7e5a-498d-8e99-3da6e3ee047c",
   "metadata": {},
   "source": [
    "#### Question 1\n",
    "\n",
    "Create a `DataFrame` called `df` from the given CSV file `exotic_plants_data.csv`, then drop the column `Type` and assign the result to a new `DataFrame` called `df_no_type`."
   ]
  },
  {
   "cell_type": "code",
   "execution_count": 2,
   "id": "08508ed0-a238-4e09-bcf4-3115a7099375",
   "metadata": {},
   "outputs": [
    {
     "name": "stdout",
     "output_type": "stream",
     "text": [
      "          Plant Name          Type                     Origin  Height (cm)\n",
      "0             Orchid    Ornamental                   Tropical           30\n",
      "1               Fern  Ground Cover                   Tropical           40\n",
      "2             Bamboo         Grass                       Asia          600\n",
      "3             Cactus     Succulent                    America           60\n",
      "4   Bird of Paradise    Ornamental                     Africa          150\n",
      "..               ...           ...                        ...          ...\n",
      "71             Ficus          Tree                       Asia          200\n",
      "72         Columbine        Flower              North America           30\n",
      "73           Jasmine         Shrub                       Asia           90\n",
      "74           Fuchsia        Flower  Central and South America           40\n",
      "75          Amaranth        Flower                    Various           80\n",
      "\n",
      "[76 rows x 4 columns]\n",
      "          Plant Name                     Origin  Height (cm)\n",
      "0             Orchid                   Tropical           30\n",
      "1               Fern                   Tropical           40\n",
      "2             Bamboo                       Asia          600\n",
      "3             Cactus                    America           60\n",
      "4   Bird of Paradise                     Africa          150\n",
      "..               ...                        ...          ...\n",
      "71             Ficus                       Asia          200\n",
      "72         Columbine              North America           30\n",
      "73           Jasmine                       Asia           90\n",
      "74           Fuchsia  Central and South America           40\n",
      "75          Amaranth                    Various           80\n",
      "\n",
      "[76 rows x 3 columns]\n"
     ]
    }
   ],
   "source": [
    "import pandas as pd\n",
    "\n",
    "\n",
    "# Your code here\n",
    "\n",
    "# your code here\n",
    "\n",
    "\n",
    "# Load the DataFrame from the CSV file\n",
    "df = pd.read_csv('csv/exotic_plants_data.csv')\n",
    "\n",
    "# Drop the 'Type' column and assign the result to a new DataFrame\n",
    "df_no_type = df.drop(columns=['Type'])\n",
    "\n",
    "print(df)\n",
    "print(df_no_type)"
   ]
  },
  {
   "cell_type": "code",
   "execution_count": 4,
   "id": "100c19fc-d6d5-4b29-a357-85a762c12dc8",
   "metadata": {},
   "outputs": [],
   "source": [
    "# Question 1 Grading Checks\n",
    "\n",
    "assert isinstance(df, pd.DataFrame), 'Have you created a DataFrame named df?'\n",
    "assert isinstance(df_no_type, pd.DataFrame), 'Have you created a DataFrame named df_no_type?'"
   ]
  },
  {
   "cell_type": "markdown",
   "id": "158c6164-45ac-48a1-97a0-967f23b2a4a9",
   "metadata": {},
   "source": [
    "#### Question 2\n",
    "\n",
    "Check the `df` `DataFrame` for any duplicate rows and assign the result to a new `DataFrame` called `df_duplicates`.\n"
   ]
  },
  {
   "cell_type": "code",
   "execution_count": 5,
   "id": "938907c1-09a6-45db-8602-1b4dfa0865e0",
   "metadata": {},
   "outputs": [
    {
     "name": "stdout",
     "output_type": "stream",
     "text": [
      "          Plant Name         Type          Origin  Height (cm)\n",
      "6             Cactus    Succulent         America           60\n",
      "30         Rafflesia       Flower  Southeast Asia           20\n",
      "47      Kangaroo Paw       Flower       Australia           60\n",
      "48     Bougainvillea        Shrub   South America          400\n",
      "49  Bird of Paradise   Ornamental          Africa          150\n",
      "50     Venus Flytrap  Carnivorous   North America           15\n",
      "51              Rose       Flower            Asia           60\n"
     ]
    }
   ],
   "source": [
    "# Your code here\n",
    "\n",
    "# your code here\n",
    "\n",
    "\n",
    "# Check for duplicate rows in df and assign to df_duplicates\n",
    "df_duplicates = df[df.duplicated()]\n",
    "\n",
    "print(df_duplicates)"
   ]
  },
  {
   "cell_type": "code",
   "execution_count": 6,
   "id": "c684ae4e-575f-423e-9e64-03a7c618f7c9",
   "metadata": {},
   "outputs": [],
   "source": [
    "# Question 2 Grading Checks\n",
    "\n",
    "assert isinstance(df_duplicates, pd.DataFrame), 'Have you created a DataFrame named df_duplicates?'"
   ]
  },
  {
   "cell_type": "markdown",
   "id": "1eed4e76-f72a-4f43-8412-9c95b652ea71",
   "metadata": {},
   "source": [
    "#### Question 3\n",
    "\n",
    "Check the `df` `DataFrame` for any duplicate rows based on the `Plant Name` and `Type` columns and assign the result to a new `DataFrame` called `df_plant_type_duplicates`."
   ]
  },
  {
   "cell_type": "code",
   "execution_count": 7,
   "id": "16c79e7c-4699-4e91-9f6d-365ed2385b2c",
   "metadata": {},
   "outputs": [
    {
     "name": "stdout",
     "output_type": "stream",
     "text": [
      "          Plant Name         Type          Origin  Height (cm)\n",
      "6             Cactus    Succulent         America           60\n",
      "22            Bamboo        Grass            Asia          500\n",
      "30         Rafflesia       Flower  Southeast Asia           20\n",
      "47      Kangaroo Paw       Flower       Australia           60\n",
      "48     Bougainvillea        Shrub   South America          400\n",
      "49  Bird of Paradise   Ornamental          Africa          150\n",
      "50     Venus Flytrap  Carnivorous   North America           15\n",
      "51              Rose       Flower            Asia           60\n",
      "53             Tulip       Flower          Europe           30\n",
      "55         Sunflower       Flower   North America          180\n",
      "60            Cactus    Succulent        Americas           30\n",
      "62            Bamboo        Grass            Asia          900\n",
      "67         Aloe Vera    Succulent          Africa           30\n",
      "73           Jasmine        Shrub            Asia           90\n"
     ]
    }
   ],
   "source": [
    "# Your code here\n",
    "\n",
    "# your code here\n",
    "\n",
    "# Check for duplicate rows based on 'Plant Name' and 'Type' columns\n",
    "df_plant_type_duplicates = df[df.duplicated(subset=['Plant Name', 'Type'])]\n",
    "\n",
    "print(df_plant_type_duplicates)"
   ]
  },
  {
   "cell_type": "code",
   "execution_count": 8,
   "id": "572727ef-f071-4ca8-8649-64a279febcc4",
   "metadata": {},
   "outputs": [],
   "source": [
    "# Question 3 Grading Checks\n",
    "\n",
    "assert isinstance(df_plant_type_duplicates, pd.DataFrame), 'Have you created a DataFrame named df_duplicates?'"
   ]
  },
  {
   "cell_type": "markdown",
   "id": "4f0d9351-d674-4b93-85ed-5b075abf4a4c",
   "metadata": {},
   "source": [
    "#### Question 4\n",
    "\n",
    "Create a mask called `clean_mask` that will clean up any duplicates in the `df` DataFrame that have the same `Plant Name` and `Origin` and only keep the most up-to-date duplicate entry.\n"
   ]
  },
  {
   "cell_type": "code",
   "execution_count": 11,
   "id": "4a7137a7-dab6-4fcd-a310-8ae7f09892e2",
   "metadata": {},
   "outputs": [
    {
     "name": "stdout",
     "output_type": "stream",
     "text": [
      "0      True\n",
      "1      True\n",
      "2     False\n",
      "3     False\n",
      "4     False\n",
      "      ...  \n",
      "71     True\n",
      "72     True\n",
      "73     True\n",
      "74     True\n",
      "75     True\n",
      "Length: 76, dtype: bool\n"
     ]
    }
   ],
   "source": [
    "# Your code here\n",
    "\n",
    "# your code here\n",
    "\n",
    "\n",
    "# Create a mask for cleaning duplicates\n",
    "clean_mask = ~df.duplicated(subset=['Plant Name', 'Origin'], keep='last')\n",
    "\n",
    "print(clean_mask)"
   ]
  },
  {
   "cell_type": "code",
   "execution_count": 10,
   "id": "1a7ca430-e98f-436a-854c-6a5bcda3e7c7",
   "metadata": {},
   "outputs": [],
   "source": [
    "# Question 4 Grading Checks\n",
    "\n",
    "assert isinstance(clean_mask, pd.Series), 'Have you created a Series named clean_mask?'"
   ]
  }
 ],
 "metadata": {
  "kernelspec": {
   "display_name": "Python 3 (ipykernel)",
   "language": "python",
   "name": "python3"
  },
  "language_info": {
   "codemirror_mode": {
    "name": "ipython",
    "version": 3
   },
   "file_extension": ".py",
   "mimetype": "text/x-python",
   "name": "python",
   "nbconvert_exporter": "python",
   "pygments_lexer": "ipython3",
   "version": "3.12.4"
  }
 },
 "nbformat": 4,
 "nbformat_minor": 5
}
