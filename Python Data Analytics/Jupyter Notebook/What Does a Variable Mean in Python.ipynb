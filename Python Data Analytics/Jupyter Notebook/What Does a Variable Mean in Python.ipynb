{
 "cells": [
  {
   "cell_type": "code",
   "execution_count": 2,
   "id": "d97bb732-a8da-446d-b774-ea4d47886abf",
   "metadata": {},
   "outputs": [],
   "source": [
    "name = 'victor'"
   ]
  },
  {
   "cell_type": "code",
   "execution_count": 3,
   "id": "ff2b9d3e-f590-4302-bfcf-8b382912ea33",
   "metadata": {},
   "outputs": [],
   "source": [
    "name = 'Victor'"
   ]
  },
  {
   "cell_type": "markdown",
   "id": "06dbbd10-cf05-4540-90b2-173adbe27986",
   "metadata": {},
   "source": [
    "## Printing & Displaying"
   ]
  },
  {
   "cell_type": "code",
   "execution_count": 4,
   "id": "f01dffee-6fde-44e2-ac86-cae175cc325e",
   "metadata": {},
   "outputs": [
    {
     "data": {
      "text/plain": [
       "'Victor'"
      ]
     },
     "execution_count": 4,
     "metadata": {},
     "output_type": "execute_result"
    }
   ],
   "source": [
    "name "
   ]
  },
  {
   "cell_type": "code",
   "execution_count": 5,
   "id": "3a9b7bba-9987-4311-b66b-0b06238c27b9",
   "metadata": {},
   "outputs": [
    {
     "name": "stdout",
     "output_type": "stream",
     "text": [
      "Victor\n"
     ]
    }
   ],
   "source": [
    "print(name)"
   ]
  },
  {
   "cell_type": "code",
   "execution_count": 6,
   "id": "73c08399-6ac4-4efd-9e27-04dd894d62b1",
   "metadata": {},
   "outputs": [
    {
     "data": {
      "text/plain": [
       "'Victor'"
      ]
     },
     "metadata": {},
     "output_type": "display_data"
    }
   ],
   "source": [
    "display(name)"
   ]
  },
  {
   "cell_type": "markdown",
   "id": "3de36a85-69e2-47ab-8850-c0e720c004fe",
   "metadata": {},
   "source": [
    "## More Variable"
   ]
  },
  {
   "cell_type": "code",
   "execution_count": 7,
   "id": "643365e1-c1f0-4e05-8075-30849eb4c673",
   "metadata": {},
   "outputs": [],
   "source": [
    "name = 'Victor'\n",
    "capital = name\n",
    "name = 'victor'"
   ]
  },
  {
   "cell_type": "code",
   "execution_count": 8,
   "id": "7aa1995b-d731-4595-bdf2-20e536615e28",
   "metadata": {},
   "outputs": [
    {
     "name": "stdout",
     "output_type": "stream",
     "text": [
      "victor\n"
     ]
    }
   ],
   "source": [
    "print(name)"
   ]
  },
  {
   "cell_type": "code",
   "execution_count": 9,
   "id": "f3b79be6-ec2d-452a-9c36-4d4dcefe5fc4",
   "metadata": {},
   "outputs": [
    {
     "name": "stdout",
     "output_type": "stream",
     "text": [
      "Victor\n"
     ]
    }
   ],
   "source": [
    "print(capital)"
   ]
  },
  {
   "cell_type": "code",
   "execution_count": 10,
   "id": "6ecef61e-d573-426c-aa3d-59e650f51484",
   "metadata": {},
   "outputs": [
    {
     "ename": "SyntaxError",
     "evalue": "invalid syntax (2237682335.py, line 1)",
     "output_type": "error",
     "traceback": [
      "\u001b[1;36m  Cell \u001b[1;32mIn[10], line 1\u001b[1;36m\u001b[0m\n\u001b[1;33m    my cool variable name = 27\u001b[0m\n\u001b[1;37m       ^\u001b[0m\n\u001b[1;31mSyntaxError\u001b[0m\u001b[1;31m:\u001b[0m invalid syntax\n"
     ]
    }
   ],
   "source": [
    "my cool variable name = 27"
   ]
  },
  {
   "cell_type": "code",
   "execution_count": 11,
   "id": "3bee1015-c4b8-4932-bb96-95b15985c4d8",
   "metadata": {},
   "outputs": [],
   "source": [
    "my_cool_variable_name= 27"
   ]
  },
  {
   "cell_type": "code",
   "execution_count": 12,
   "id": "50b75f36-a237-4659-a937-f7a865a591f7",
   "metadata": {},
   "outputs": [],
   "source": [
    "myCoolVariableName = 27"
   ]
  },
  {
   "cell_type": "code",
   "execution_count": 13,
   "id": "4e22ff80-c544-41f9-b011-5cd7512f9989",
   "metadata": {},
   "outputs": [
    {
     "ename": "SyntaxError",
     "evalue": "invalid syntax (818325859.py, line 1)",
     "output_type": "error",
     "traceback": [
      "\u001b[1;36m  Cell \u001b[1;32mIn[13], line 1\u001b[1;36m\u001b[0m\n\u001b[1;33m    more_$_more_problems = 'yes'\u001b[0m\n\u001b[1;37m         ^\u001b[0m\n\u001b[1;31mSyntaxError\u001b[0m\u001b[1;31m:\u001b[0m invalid syntax\n"
     ]
    }
   ],
   "source": [
    "more_$_more_problems = 'yes'"
   ]
  },
  {
   "cell_type": "code",
   "execution_count": 14,
   "id": "800d9d96-787f-4af4-9960-e704a45c15c5",
   "metadata": {},
   "outputs": [],
   "source": [
    "that_one_variable_to_use_for_later = 1"
   ]
  },
  {
   "cell_type": "code",
   "execution_count": 15,
   "id": "24f9325d-ff3e-4689-a6ff-198ac17193e7",
   "metadata": {},
   "outputs": [],
   "source": [
    "for_later =1"
   ]
  },
  {
   "cell_type": "code",
   "execution_count": 16,
   "id": "f9652cd8-87f6-47f9-bee8-402f2d2228e3",
   "metadata": {},
   "outputs": [],
   "source": [
    "m = 525600"
   ]
  },
  {
   "cell_type": "code",
   "execution_count": 17,
   "id": "fc71e6a3-894e-4627-becc-d3546b149acd",
   "metadata": {},
   "outputs": [],
   "source": [
    "moments = 525600"
   ]
  },
  {
   "cell_type": "code",
   "execution_count": 18,
   "id": "61383384-cdeb-4e20-bed8-c18c86634a3a",
   "metadata": {},
   "outputs": [],
   "source": [
    "sales_2021 = 9001"
   ]
  },
  {
   "cell_type": "code",
   "execution_count": 19,
   "id": "6a90d2b4-b89a-49ef-bfed-a3b91efd93d5",
   "metadata": {},
   "outputs": [
    {
     "ename": "SyntaxError",
     "evalue": "invalid decimal literal (2824065982.py, line 1)",
     "output_type": "error",
     "traceback": [
      "\u001b[1;36m  Cell \u001b[1;32mIn[19], line 1\u001b[1;36m\u001b[0m\n\u001b[1;33m    2021_sales = 9001\u001b[0m\n\u001b[1;37m        ^\u001b[0m\n\u001b[1;31mSyntaxError\u001b[0m\u001b[1;31m:\u001b[0m invalid decimal literal\n"
     ]
    }
   ],
   "source": [
    "2021_sales = 9001"
   ]
  },
  {
   "cell_type": "code",
   "execution_count": 20,
   "id": "e7a7b6af-b1c4-4487-85e4-37c9eec59871",
   "metadata": {},
   "outputs": [],
   "source": [
    "width = 10\n",
    "height = 20\n",
    "area = width * height"
   ]
  },
  {
   "cell_type": "code",
   "execution_count": 21,
   "id": "207b5a7b-bebe-4af8-9cfa-6b1070589a17",
   "metadata": {},
   "outputs": [
    {
     "name": "stdout",
     "output_type": "stream",
     "text": [
      "200\n"
     ]
    }
   ],
   "source": [
    "print(area)"
   ]
  },
  {
   "cell_type": "code",
   "execution_count": 22,
   "id": "424451cb-de8e-4665-8b39-6bd779134328",
   "metadata": {},
   "outputs": [],
   "source": [
    "width = 900"
   ]
  },
  {
   "cell_type": "code",
   "execution_count": 23,
   "id": "df0a39b5-f223-4360-892a-85c0443a3c33",
   "metadata": {},
   "outputs": [
    {
     "name": "stdout",
     "output_type": "stream",
     "text": [
      "200\n"
     ]
    }
   ],
   "source": [
    "print(area)"
   ]
  },
  {
   "cell_type": "code",
   "execution_count": 25,
   "id": "b67ae569-05e7-494c-8f73-6df51536604a",
   "metadata": {},
   "outputs": [
    {
     "data": {
      "text/plain": [
       "62.5"
      ]
     },
     "execution_count": 25,
     "metadata": {},
     "output_type": "execute_result"
    }
   ],
   "source": [
    "bedroom = 6 * 4\n",
    "kitchen = 3 * 7\n",
    "bathroom = 5 * 3.5\n",
    "\n",
    "my_home_size = bedroom + kitchen + bathroom\n",
    "my_home_size"
   ]
  },
  {
   "cell_type": "code",
   "execution_count": 26,
   "id": "2067613e-eb94-4d11-a669-6b0b77ab3df2",
   "metadata": {},
   "outputs": [
    {
     "data": {
      "text/plain": [
       "86.5"
      ]
     },
     "execution_count": 26,
     "metadata": {},
     "output_type": "execute_result"
    }
   ],
   "source": [
    "bedroom = 6 * 8\n",
    "kitchen = 3 * 7\n",
    "bathroom = 5 * 3.5\n",
    "\n",
    "my_home_size = bedroom + kitchen + bathroom\n",
    "my_home_size\n"
   ]
  },
  {
   "cell_type": "code",
   "execution_count": null,
   "id": "88d18eb4-4de6-43d7-89a1-79c24653b7e6",
   "metadata": {},
   "outputs": [],
   "source": []
  }
 ],
 "metadata": {
  "kernelspec": {
   "display_name": "Python 3 (ipykernel)",
   "language": "python",
   "name": "python3"
  },
  "language_info": {
   "codemirror_mode": {
    "name": "ipython",
    "version": 3
   },
   "file_extension": ".py",
   "mimetype": "text/x-python",
   "name": "python",
   "nbconvert_exporter": "python",
   "pygments_lexer": "ipython3",
   "version": "3.12.4"
  }
 },
 "nbformat": 4,
 "nbformat_minor": 5
}
