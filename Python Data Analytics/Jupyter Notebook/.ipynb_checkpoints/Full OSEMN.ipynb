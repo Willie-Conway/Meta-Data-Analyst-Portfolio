{
 "cells": [
  {
   "cell_type": "markdown",
   "metadata": {
    "deletable": false,
    "editable": false,
    "nbgrader": {
     "cell_type": "markdown",
     "checksum": "ebc5a15fdef278219fe7cfc60992d4cd",
     "grade": false,
     "grade_id": "cell-bc163031976ef890",
     "locked": true,
     "schema_version": 3,
     "solution": false,
     "task": false
    }
   },
   "source": [
    "# Activity: Full OSEMN"
   ]
  },
  {
   "cell_type": "markdown",
   "metadata": {
    "deletable": false,
    "editable": false,
    "nbgrader": {
     "cell_type": "markdown",
     "checksum": "b985f887d6c88f67b8a92ebbfa14655d",
     "grade": false,
     "grade_id": "cell-cff3bc46f2ad16db",
     "locked": true,
     "schema_version": 3,
     "solution": false,
     "task": false
    }
   },
   "source": [
    "## Introduction\n",
    "\n",
    "In this assignment, you will work on a data analysis project. This project will\n",
    "let you practice the skills you have learned in this course and write real code\n",
    "in Python.\n",
    "\n",
    "You will perform the following steps of the OSEMN framework:  \n",
    "- [Scrub](#scrub)\n",
    "- [Explore](#explore)\n",
    "- [Interpret](#interpret)"
   ]
  },
  {
   "cell_type": "code",
   "execution_count": 1,
   "metadata": {
    "deletable": false,
    "editable": false,
    "nbgrader": {
     "cell_type": "code",
     "checksum": "7b1f0d38d6616da3b0a4a29f33a8b625",
     "grade": false,
     "grade_id": "cell-8daaa133ff20e90c",
     "locked": true,
     "schema_version": 3,
     "solution": false,
     "task": false
    }
   },
   "outputs": [],
   "source": [
    "# We'll import the libraries you'll likely use for this activity\n",
    "import pandas as pd\n",
    "import matplotlib.pyplot as plt\n",
    "import seaborn as sns\n",
    "\n",
    "# Data\n",
    "df = pd.read_csv('csv/transactions-pet_store.csv')\n",
    "df_orig = df.copy()"
   ]
  },
  {
   "cell_type": "markdown",
   "metadata": {
    "deletable": false,
    "editable": false,
    "nbgrader": {
     "cell_type": "markdown",
     "checksum": "f62a12e61a129af57f13408c3f69db18",
     "grade": false,
     "grade_id": "cell-3084fb0969ac42c8",
     "locked": true,
     "schema_version": 3,
     "solution": false,
     "task": false
    }
   },
   "source": [
    "## Scrub\n",
    "\n",
    "You will scrub the data. It's important that you follow the directions as\n",
    "stated. Doing more or less than what is asked might lead to not getting full\n",
    "points for the question.\n",
    "\n",
    "------\n",
    "\n",
    "If while you're working on the scrubbing phase you need to reset the DataFrame,\n",
    "you can restart the kernel (in the toolbar: \"Kernel\" > \"Restart\")."
   ]
  },
  {
   "cell_type": "markdown",
   "metadata": {
    "deletable": false,
    "editable": false,
    "nbgrader": {
     "cell_type": "markdown",
     "checksum": "7ae5cef8cb95c1ffdeffec6b06b64492",
     "grade": false,
     "grade_id": "cell-b363c2591fbd7e2e",
     "locked": true,
     "schema_version": 3,
     "solution": false,
     "task": false
    }
   },
   "source": [
    "#### Question 1\n",
    "\n",
    "Remove all rows that have are missing either the `Product_Name` or the\n",
    "`Product_Category`. Assign the cleaned DataFrame to the variable `df`\n",
    "(overwriting the original DataFrame.)."
   ]
  },
  {
   "cell_type": "code",
   "execution_count": 2,
   "metadata": {
    "deletable": false,
    "nbgrader": {
     "cell_type": "code",
     "checksum": "540c869e44f1cbff68c3b0728f83dcb6",
     "grade": false,
     "grade_id": "cell-f9ba4f00dd002cd0",
     "locked": false,
     "schema_version": 3,
     "solution": true,
     "task": false
    }
   },
   "outputs": [],
   "source": [
    "# Your code here\n",
    "\n",
    "# your code here\n",
    "\n",
    "# Remove rows with missing values in Product_Name or Product_Category\n",
    "df = df_orig.dropna(subset=['Product_Name', 'Product_Category'])"
   ]
  },
  {
   "cell_type": "code",
   "execution_count": 3,
   "metadata": {
    "deletable": false,
    "editable": false,
    "nbgrader": {
     "cell_type": "code",
     "checksum": "eeec62cf812cc62302c595566186aeee",
     "grade": true,
     "grade_id": "cell-6fc76891b2b5a730",
     "locked": true,
     "points": 1,
     "schema_version": 3,
     "solution": false,
     "task": false
    }
   },
   "outputs": [],
   "source": [
    "# Question 1 Grading Checks\n",
    "\n",
    "assert df.shape[0] <= 2874, 'Did you remove all the rows with missing values for the columns Product_Name & Product_Category?'\n",
    "assert df.shape[0] >= 2700, 'Did you remove too many the rows with missing values?'\n",
    "assert len(df.columns) == 10, 'Make sure you do not drop any columns.'"
   ]
  },
  {
   "cell_type": "markdown",
   "metadata": {
    "deletable": false,
    "editable": false,
    "nbgrader": {
     "cell_type": "markdown",
     "checksum": "9a935ca2e1ccdafd225dcb2db2201ecc",
     "grade": false,
     "grade_id": "cell-c0b59bb3a7312e52",
     "locked": true,
     "schema_version": 3,
     "solution": false,
     "task": false
    }
   },
   "source": [
    "#### Question 2\n",
    "\n",
    "Find any clearly \"incorrect\" values in the `Price` column and \"clean\" the\n",
    "DataFrame to address those values.\n",
    "\n",
    "Ensure you make the changes to the DataFrame assigned to the variable `df`."
   ]
  },
  {
   "cell_type": "code",
   "execution_count": 4,
   "metadata": {
    "deletable": false,
    "nbgrader": {
     "cell_type": "code",
     "checksum": "316d87894dec7cffb19b6cdb33f676f7",
     "grade": false,
     "grade_id": "cell-7b941f6f77d0d8e9",
     "locked": false,
     "schema_version": 3,
     "solution": true,
     "task": false
    }
   },
   "outputs": [],
   "source": [
    "# Your code here\n",
    "\n",
    "# your code here\n",
    "\n",
    "# Assuming a price cannot be negative or absurdly low\n",
    "df = df[(df.Price >= 0) & (df.Price < df.Price.quantile(0.999))]\n"
   ]
  },
  {
   "cell_type": "code",
   "execution_count": 5,
   "metadata": {
    "deletable": false,
    "editable": false,
    "nbgrader": {
     "cell_type": "code",
     "checksum": "e298db9d50ec4e9e521f68b548cb28d4",
     "grade": true,
     "grade_id": "cell-97ff7e916e20eaa0",
     "locked": true,
     "points": 1,
     "schema_version": 3,
     "solution": false,
     "task": false
    }
   },
   "outputs": [],
   "source": [
    "# Question 2 Grading Checks\n",
    "\n",
    "assert (df.Price < df.Price.quantile(0.0001)).sum() == 0, 'Check for very small values'\n",
    "assert (df.Price > df.Price.quantile(0.999)).sum() == 0, 'Check for very large values'"
   ]
  },
  {
   "cell_type": "markdown",
   "metadata": {
    "deletable": false,
    "editable": false,
    "nbgrader": {
     "cell_type": "markdown",
     "checksum": "1cdcf1b22cb673298236f4dd15b6637c",
     "grade": false,
     "grade_id": "cell-e04236e7ff88f62a",
     "locked": true,
     "schema_version": 3,
     "solution": false,
     "task": false
    }
   },
   "source": [
    "#### Question 3\n",
    "\n",
    "After you've done the cleaning above, remove any column that has more than `500`\n",
    "missing values.\n",
    "\n",
    "Ensure you make the changes to the DataFrame assigned to the variable `df`."
   ]
  },
  {
   "cell_type": "code",
   "execution_count": 6,
   "metadata": {
    "deletable": false,
    "nbgrader": {
     "cell_type": "code",
     "checksum": "3814d0acc240faeb9b48a56dc9aa22d8",
     "grade": false,
     "grade_id": "cell-c51798c512afbebd",
     "locked": false,
     "schema_version": 3,
     "solution": true,
     "task": false
    }
   },
   "outputs": [],
   "source": [
    "# Your code here\n",
    "\n",
    "# your code here\n",
    "\n",
    "df = df.loc[:, df.isnull().sum() <= 500]\n"
   ]
  },
  {
   "cell_type": "code",
   "execution_count": 7,
   "metadata": {
    "deletable": false,
    "editable": false,
    "nbgrader": {
     "cell_type": "code",
     "checksum": "3058fe38d955c8ec436a77eb6a50c657",
     "grade": true,
     "grade_id": "cell-c513d362e8749eba",
     "locked": true,
     "points": 1,
     "schema_version": 3,
     "solution": false,
     "task": false
    }
   },
   "outputs": [],
   "source": [
    "# Question 3 Grading Checks\n",
    "\n",
    "assert len(df.columns) < 10, 'You should have dropped 1 or more columns (with more than 500 missing values)'"
   ]
  },
  {
   "cell_type": "markdown",
   "metadata": {
    "deletable": false,
    "editable": false,
    "nbgrader": {
     "cell_type": "markdown",
     "checksum": "016b0014c41aa9705f38b381f02c3dc6",
     "grade": false,
     "grade_id": "cell-576a3fae18d872b4",
     "locked": true,
     "schema_version": 3,
     "solution": false,
     "task": false
    }
   },
   "source": [
    "#### Question 4\n",
    "\n",
    "Address the other missing values. You can replace the values or remvove them,\n",
    "but whatever method you decide to clean the DataFrame, you should no longer have\n",
    "any missing values.\n",
    "\n",
    "Ensure you make the changes to the DataFrame assigned to the variable `df`."
   ]
  },
  {
   "cell_type": "code",
   "execution_count": 8,
   "metadata": {
    "deletable": false,
    "nbgrader": {
     "cell_type": "code",
     "checksum": "742a9accde3c1ced52442ad7b90622b5",
     "grade": false,
     "grade_id": "cell-3116ffcaf3255a8b",
     "locked": false,
     "schema_version": 3,
     "solution": true,
     "task": false
    }
   },
   "outputs": [],
   "source": [
    "# Your code here\n",
    "\n",
    "# your code here\n",
    "\n",
    "df = df.dropna()  # Drop any remaining rows with missing values\n"
   ]
  },
  {
   "cell_type": "code",
   "execution_count": 9,
   "metadata": {
    "deletable": false,
    "editable": false,
    "nbgrader": {
     "cell_type": "code",
     "checksum": "788e91ba92c4d123a4b545170803126c",
     "grade": true,
     "grade_id": "cell-145b65e134914553",
     "locked": true,
     "points": 1,
     "schema_version": 3,
     "solution": false,
     "task": false
    }
   },
   "outputs": [],
   "source": [
    "# Question 4 Grading Checks\n",
    "\n",
    "assert df.Customer_ID.isna().sum() == 0, 'Did you address all the missing values?'"
   ]
  },
  {
   "cell_type": "markdown",
   "metadata": {
    "deletable": false,
    "editable": false,
    "nbgrader": {
     "cell_type": "markdown",
     "checksum": "9b3c8786e095536173b8e646c3e68c34",
     "grade": false,
     "grade_id": "cell-728db712865861a4",
     "locked": true,
     "schema_version": 3,
     "solution": false,
     "task": false
    }
   },
   "source": [
    "## Explore\n",
    "\n",
    "You will explore the data. It's important that you follow the directions as\n",
    "stated. Doing more or less than what is asked might lead to not getting full\n",
    "points for the question.\n",
    "\n",
    "You may use either exploratory statistics or exploratory visualizations to help\n",
    "answer these questions.\n",
    "\n",
    "------\n",
    "\n",
    "Note that the DataFrame loaded for this section (in the below cell) is different\n",
    "from the data you used in the [Scrub](#scrub) section.\n",
    "\n",
    "If while you're working on the scrubbing phase you need to reset the DataFrame,\n",
    "you can restart the kernel (in the toolbar: \"Kernel\" > \"Restart\")."
   ]
  },
  {
   "cell_type": "code",
   "execution_count": 10,
   "metadata": {
    "deletable": false,
    "editable": false,
    "nbgrader": {
     "cell_type": "code",
     "checksum": "51a2a005d45998aafa201431810b1e0c",
     "grade": false,
     "grade_id": "cell-4542d3a8860bf716",
     "locked": true,
     "schema_version": 3,
     "solution": false,
     "task": false
    }
   },
   "outputs": [],
   "source": [
    "df = pd.read_csv('transactions-pet_store-clean.csv')"
   ]
  },
  {
   "cell_type": "markdown",
   "metadata": {
    "deletable": false,
    "editable": false,
    "nbgrader": {
     "cell_type": "markdown",
     "checksum": "a819e2e84b50a08f988beb5074ce6cae",
     "grade": false,
     "grade_id": "cell-5a0260933795882f",
     "locked": true,
     "schema_version": 3,
     "solution": false,
     "task": false
    }
   },
   "source": [
    "#### Question 5\n",
    "\n",
    "Create a `Subtotal` column by multiplying the `Price` and `Quantity` values. \n",
    "This represents how much was spent for a given transaction (row)."
   ]
  },
  {
   "cell_type": "code",
   "execution_count": 11,
   "metadata": {
    "deletable": false,
    "nbgrader": {
     "cell_type": "code",
     "checksum": "e4d4b721419ee163d932cc9ec87c1d27",
     "grade": false,
     "grade_id": "cell-59ace92c404e6c20",
     "locked": false,
     "schema_version": 3,
     "solution": true,
     "task": false
    }
   },
   "outputs": [],
   "source": [
    "# Your code here\n",
    "\n",
    "# your code here\n",
    "\n",
    "# Create Subtotal column\n",
    "df['Subtotal'] = df['Price'] * df['Quantity']\n"
   ]
  },
  {
   "cell_type": "code",
   "execution_count": 12,
   "metadata": {
    "deletable": false,
    "editable": false,
    "nbgrader": {
     "cell_type": "code",
     "checksum": "633cb19cbfa30c02f0d3dd2e415e1f7f",
     "grade": true,
     "grade_id": "cell-59947069e1f97075",
     "locked": true,
     "points": 1,
     "schema_version": 3,
     "solution": false,
     "task": false
    }
   },
   "outputs": [],
   "source": [
    "# Question 5 Grading Checks\n",
    "\n",
    "assert 'Subtotal' in df.columns, ''"
   ]
  },
  {
   "cell_type": "markdown",
   "metadata": {
    "deletable": false,
    "editable": false,
    "nbgrader": {
     "cell_type": "markdown",
     "checksum": "a489fd68569214e8fe697ca692a4b6d6",
     "grade": false,
     "grade_id": "cell-48b3e6581e0538c5",
     "locked": true,
     "schema_version": 3,
     "solution": false,
     "task": false
    }
   },
   "source": [
    "#### Question 6\n",
    "\n",
    "Determine most common category (`Product_Category`) purchases (number of total\n",
    "items) for both `Product_Line` categories. Assign the (string) name of these\n",
    "categories to their respective variables `common_category_cat` & \n",
    "`common_category_dog`."
   ]
  },
  {
   "cell_type": "code",
   "execution_count": 13,
   "metadata": {
    "deletable": false,
    "nbgrader": {
     "cell_type": "code",
     "checksum": "0ff3ec95390cf80ddfdb36eeb3059cd9",
     "grade": false,
     "grade_id": "cell-ea16c170d026280d",
     "locked": false,
     "schema_version": 3,
     "solution": true,
     "task": false
    }
   },
   "outputs": [],
   "source": [
    "# Your code here\n",
    "\n",
    "# your code here\n",
    "\n",
    "common_category_cat = df[df['Product_Line'] == 'cat'].groupby('Product_Category')['Quantity'].sum().idxmax()\n",
    "common_category_dog = df[df['Product_Line'] == 'dog'].groupby('Product_Category')['Quantity'].sum().idxmax()\n"
   ]
  },
  {
   "cell_type": "code",
   "execution_count": 14,
   "metadata": {
    "deletable": false,
    "editable": false,
    "nbgrader": {
     "cell_type": "code",
     "checksum": "81b56c74c703230207c517e21388b30f",
     "grade": true,
     "grade_id": "cell-6d5b6023bc8956c2",
     "locked": true,
     "points": 1,
     "schema_version": 3,
     "solution": false,
     "task": false
    }
   },
   "outputs": [],
   "source": [
    "# Question 6 Grading Checks\n",
    "\n",
    "assert isinstance(common_category_dog, str), 'Ensure you assign the name of the category (string) to the variable common_category_dog'\n",
    "assert isinstance(common_category_cat, str), 'Ensure you assign the name of the category (string) to the variable common_category_cat'"
   ]
  },
  {
   "cell_type": "markdown",
   "metadata": {
    "deletable": false,
    "editable": false,
    "nbgrader": {
     "cell_type": "markdown",
     "checksum": "ab133a0283e8c70e90d863d17d5fda5a",
     "grade": false,
     "grade_id": "cell-2018546ce68966c2",
     "locked": true,
     "schema_version": 3,
     "solution": false,
     "task": false
    }
   },
   "source": [
    "#### Question 7\n",
    "\n",
    "Determine which categories (`Product_Category`), by `Product_Line` have the\n",
    "***median*** highest `Price`.\n",
    "Assign the (string) name of these categories to their respective variables\n",
    "`priciest_category_cat` & `priciest_category_dog`."
   ]
  },
  {
   "cell_type": "code",
   "execution_count": 15,
   "metadata": {
    "deletable": false,
    "nbgrader": {
     "cell_type": "code",
     "checksum": "64839aab6cb3625a26266b53a37e7c30",
     "grade": false,
     "grade_id": "cell-f5b3f83c78e74ea1",
     "locked": false,
     "schema_version": 3,
     "solution": true,
     "task": false
    }
   },
   "outputs": [],
   "source": [
    "# Your code here\n",
    "\n",
    "# your code here\n",
    "\n",
    "priciest_category_cat = df[df['Product_Line'] == 'cat'].groupby('Product_Category')['Price'].median().idxmax()\n",
    "priciest_category_dog = df[df['Product_Line'] == 'dog'].groupby('Product_Category')['Price'].median().idxmax()\n"
   ]
  },
  {
   "cell_type": "code",
   "execution_count": 16,
   "metadata": {
    "deletable": false,
    "editable": false,
    "nbgrader": {
     "cell_type": "code",
     "checksum": "133504d35bd833e63a02098e69f12d38",
     "grade": true,
     "grade_id": "cell-fcfafef974e6ac41",
     "locked": true,
     "points": 1,
     "schema_version": 3,
     "solution": false,
     "task": false
    }
   },
   "outputs": [],
   "source": [
    "# Question 7 Grading Checks\n",
    "\n",
    "assert isinstance(priciest_category_dog, str), 'Ensure you assign the name of the category (string) to the variable priciest_category_dog'\n",
    "assert isinstance(priciest_category_cat, str), 'Ensure you assign the name of the category (string) to the variable priciest_category_cat'"
   ]
  },
  {
   "cell_type": "markdown",
   "metadata": {
    "deletable": false,
    "editable": false,
    "nbgrader": {
     "cell_type": "markdown",
     "checksum": "8ef5d7a7f809c73c805ecba753adec0a",
     "grade": false,
     "grade_id": "cell-8233a768cede61f6",
     "locked": true,
     "schema_version": 3,
     "solution": false,
     "task": false
    }
   },
   "source": [
    "## Modeling\n",
    "\n",
    "This is the point of the framework where we'd work on modeling with our data.\n",
    "However, in this activity, we're going to move straight to interpretting."
   ]
  },
  {
   "cell_type": "markdown",
   "metadata": {
    "deletable": false,
    "editable": false,
    "nbgrader": {
     "cell_type": "markdown",
     "checksum": "6fc7d5b23e3fddf188bc936c45682502",
     "grade": false,
     "grade_id": "cell-413f95dbcce94d2a",
     "locked": true,
     "schema_version": 3,
     "solution": false,
     "task": false
    }
   },
   "source": [
    "## Interpret\n",
    "\n",
    "You will interpret the data based on what you found so far. It's important that\n",
    "you follow the directions as stated. Doing more or less than what is asked might\n",
    "lead to not getting full points for the question.\n",
    "\n",
    "\n",
    "------\n",
    "\n",
    "Note that the DataFrame loaded for this section (in the below cell) is the same\n",
    "as the data you used in the [Explore](#explore) section.\n",
    "\n",
    "If while you're working on the scrubbing phase you need to reset the DataFrame,\n",
    "you can restart the kernel (in the toolbar: \"Kernel\" > \"Restart\")."
   ]
  },
  {
   "cell_type": "markdown",
   "metadata": {
    "deletable": false,
    "editable": false,
    "nbgrader": {
     "cell_type": "markdown",
     "checksum": "9299f15f1400c6f7b5880c476871cc05",
     "grade": false,
     "grade_id": "cell-a3fbad770c91fd55",
     "locked": true,
     "schema_version": 3,
     "solution": false,
     "task": false
    }
   },
   "source": [
    "#### Question 8\n",
    "\n",
    "You want to emphasize to your stakeholders that the total number of product\n",
    "categories sold differ between the two `Product_Line` categories (`'cat'` & \n",
    "`'dog'`).\n",
    "\n",
    "Create a **_horizontal_ bar plot** that has `Product_Category` on the y-axis and\n",
    "the total number of that category sold (using the `Quantity`) by each \n",
    "`Product_Line` category. Also **change the axis labels** to something meaningful\n",
    "and add a title.\n",
    "\n",
    "You will likely want to use Seaborn. Make sure you set the result to the\n",
    "variable `ax` like the following:\n",
    "```python\n",
    "ax = # code to create a bar plot\n",
    "```"
   ]
  },
  {
   "cell_type": "code",
   "execution_count": 17,
   "metadata": {
    "deletable": false,
    "nbgrader": {
     "cell_type": "code",
     "checksum": "67d988d8af95c0bc64abd3d4e8c84830",
     "grade": false,
     "grade_id": "cell-62ac242e3d2de621",
     "locked": false,
     "schema_version": 3,
     "solution": true,
     "task": false
    }
   },
   "outputs": [
    {
     "data": {
      "image/png": "[encoded data removed]",
      "text/plain": [
       "<Figure size 432x288 with 1 Axes>"
      ]
     },
     "metadata": {
      "needs_background": "light"
     },
     "output_type": "display_data"
    }
   ],
   "source": [
    "# Your code here\n",
    "\n",
    "# your code here\n",
    "\n",
    "# Plotting total quantity sold by Product_Category for each Product_Line\n",
    "ax = sns.barplot(data=df, x='Quantity', y='Product_Category', hue='Product_Line', estimator=sum)\n",
    "plt.xlabel('Total Quantity Sold')\n",
    "plt.ylabel('Product Category')\n",
    "plt.title('Total Quantity Sold by Product Category and Product Line')\n",
    "plt.legend(title='Product Line')\n",
    "plt.show()\n"
   ]
  },
  {
   "cell_type": "code",
   "execution_count": 18,
   "metadata": {
    "deletable": false,
    "editable": false,
    "nbgrader": {
     "cell_type": "code",
     "checksum": "2a0a2cc1008b8493cc75736f4e50e0f1",
     "grade": true,
     "grade_id": "cell-a457c01c6d74b58e",
     "locked": true,
     "points": 1,
     "schema_version": 3,
     "solution": false,
     "task": false
    }
   },
   "outputs": [],
   "source": [
    "# Question 8 Grading Checks\n",
    "\n",
    "assert isinstance(ax, plt.Axes), 'Did you assign the plot result to the variable ax?'"
   ]
  },
  {
   "cell_type": "markdown",
   "metadata": {
    "deletable": false,
    "editable": false,
    "nbgrader": {
     "cell_type": "markdown",
     "checksum": "c0606c77e3247578b849af900952222c",
     "grade": false,
     "grade_id": "cell-4866317ad45ca0d4",
     "locked": true,
     "schema_version": 3,
     "solution": false,
     "task": false
    }
   },
   "source": [
    "#### Question 9\n",
    "\n",
    "Based on the plot from [Question 8](#question-8), what would you conclude for\n",
    "your stakeholders about what products they should sell? What would be the\n",
    "considerations and/or caveats you'd communicate to your stakeholders?\n",
    "\n",
    "Write at least a couple sentences of your thoughts in a string assigned to the\n",
    "variable `answer_to_9`.\n",
    "\n",
    "The cell below should look something like this:\n",
    "```python\n",
    "answer_to_9 = '''\n",
    "I think that based on the visualization that ****.\n",
    "Therefore I would communicate with the stakeholders that ****\n",
    "'''\n",
    "```"
   ]
  },
  {
   "cell_type": "code",
   "execution_count": 19,
   "metadata": {
    "deletable": false,
    "nbgrader": {
     "cell_type": "code",
     "checksum": "e9c7a698146e694ba38a213da2c66ee1",
     "grade": false,
     "grade_id": "cell-0065ec2ea6b398b5",
     "locked": false,
     "schema_version": 3,
     "solution": true,
     "task": false
    }
   },
   "outputs": [
    {
     "name": "stdout",
     "output_type": "stream",
     "text": [
      "309\n"
     ]
    }
   ],
   "source": [
    "# Your code here\n",
    "answer_to_9 = '''\n",
    "Based on the visualization, it is clear that certain product categories are more popular among cat owners compared to dog owners, particularly in items like 'Cat Food'. Therefore, I would communicate with the stakeholders that focusing on the top-selling categories for each line could maximize their sales.\n",
    "'''\n",
    "print(len(answer_to_9))\n"
   ]
  },
  {
   "cell_type": "code",
   "execution_count": 20,
   "metadata": {
    "deletable": false,
    "editable": false,
    "nbgrader": {
     "cell_type": "code",
     "checksum": "ad8be308a27c915b0d166ab260f704bb",
     "grade": true,
     "grade_id": "cell-a4b012243165933d",
     "locked": true,
     "points": 1,
     "schema_version": 3,
     "solution": false,
     "task": false
    }
   },
   "outputs": [],
   "source": [
    "# Question 9 Grading Checks\n",
    "\n",
    "assert isinstance(answer_to_9, str), 'Make sure you create a string for your answer.'"
   ]
  },
  {
   "cell_type": "markdown",
   "metadata": {
    "deletable": false,
    "editable": false,
    "nbgrader": {
     "cell_type": "markdown",
     "checksum": "ef648ee8c0f9ba3e291e9c02ad9622b5",
     "grade": false,
     "grade_id": "cell-3ad8083b07a1a791",
     "locked": true,
     "schema_version": 3,
     "solution": false,
     "task": false
    }
   },
   "source": [
    "#### Question 10\n",
    "\n",
    "The plot you created for [Question 8](#question-8) is good but could be modified\n",
    "to emphasize which products are important for the business.\n",
    "\n",
    "Create an explanatory visualization that emphasizes the insight you about the\n",
    "product category. This would be a visualization you'd share with the business\n",
    "stakeholders.\n",
    "\n",
    "Make sure you set the result to the variable `ax` like the following:\n",
    "```python\n",
    "ax = # code to create explanatory visualization\n",
    "```"
   ]
  },
  {
   "cell_type": "code",
   "execution_count": 21,
   "metadata": {
    "deletable": false,
    "nbgrader": {
     "cell_type": "code",
     "checksum": "f681a03230d5ade64e4535480e036d2d",
     "grade": false,
     "grade_id": "cell-f0250bd6b5fd8131",
     "locked": false,
     "schema_version": 3,
     "solution": true,
     "task": false
    }
   },
   "outputs": [
    {
     "data": {
      "image/png": "[encoded data removed]",
      "text/plain": [
       "<Figure size 432x288 with 1 Axes>"
      ]
     },
     "metadata": {
      "needs_background": "light"
     },
     "output_type": "display_data"
    }
   ],
   "source": [
    "# Your code here\n",
    "\n",
    "# your code here\n",
    "\n",
    "# Create a more detailed visualization to emphasize important products\n",
    "ax = sns.barplot(data=df, x='Subtotal', y='Product_Category', hue='Product_Line', estimator=sum)\n",
    "plt.title('Total Revenue by Product Category and Product Line')\n",
    "plt.xlabel('Total Revenue')\n",
    "plt.ylabel('Product Category')\n",
    "plt.legend(title='Product Line')\n",
    "plt.show()\n"
   ]
  },
  {
   "cell_type": "code",
   "execution_count": 22,
   "metadata": {
    "deletable": false,
    "editable": false,
    "nbgrader": {
     "cell_type": "code",
     "checksum": "b837999c937d3617c5dde7da3b5081db",
     "grade": true,
     "grade_id": "cell-e594fd63b9fe4a8f",
     "locked": true,
     "points": 1,
     "schema_version": 3,
     "solution": false,
     "task": false
    }
   },
   "outputs": [],
   "source": [
    "# Question 10 Grading Checks\n",
    "\n",
    "assert isinstance(ax, plt.Axes), 'Did you assign the plot result to the variable ax?'"
   ]
  },
  {
   "cell_type": "code",
   "execution_count": null,
   "metadata": {},
   "outputs": [],
   "source": []
  }
 ],
 "metadata": {
  "kernelspec": {
   "display_name": "Python 3",
   "language": "python",
   "name": "python3"
  },
  "language_info": {
   "codemirror_mode": {
    "name": "ipython",
    "version": 3
   },
   "file_extension": ".py",
   "mimetype": "text/x-python",
   "name": "python",
   "nbconvert_exporter": "python",
   "pygments_lexer": "ipython3",
   "version": "3.7.6"
  }
 },
 "nbformat": 4,
 "nbformat_minor": 4
}
