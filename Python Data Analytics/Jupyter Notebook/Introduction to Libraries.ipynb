{
 "cells": [
  {
   "cell_type": "code",
   "execution_count": 1,
   "id": "7ab367f2-0e51-4dd7-bc3e-332a873cef77",
   "metadata": {},
   "outputs": [],
   "source": [
    "from collections import defaultdict as ddict\n",
    "import datetime\n",
    "import pandas as pd"
   ]
  },
  {
   "cell_type": "code",
   "execution_count": 2,
   "id": "a289914b-7d68-41ef-834d-1dfb348aa47f",
   "metadata": {},
   "outputs": [],
   "source": [
    "d = ddict(list)"
   ]
  },
  {
   "cell_type": "code",
   "execution_count": 3,
   "id": "afec3a1e-5ace-4d94-bb83-56b671268c3d",
   "metadata": {},
   "outputs": [],
   "source": [
    "d['a_key'] = 1"
   ]
  },
  {
   "cell_type": "code",
   "execution_count": 4,
   "id": "d9a3f469-5a2e-44a6-ac63-5e1cb6a8b5fb",
   "metadata": {},
   "outputs": [
    {
     "data": {
      "text/plain": [
       "1"
      ]
     },
     "execution_count": 4,
     "metadata": {},
     "output_type": "execute_result"
    }
   ],
   "source": [
    "d['a_key']"
   ]
  },
  {
   "cell_type": "code",
   "execution_count": 5,
   "id": "de74d0ca-a863-4042-90ba-af5cf149564c",
   "metadata": {},
   "outputs": [
    {
     "data": {
      "text/plain": [
       "[]"
      ]
     },
     "execution_count": 5,
     "metadata": {},
     "output_type": "execute_result"
    }
   ],
   "source": [
    "d['b']"
   ]
  },
  {
   "cell_type": "code",
   "execution_count": 6,
   "id": "bf11a5b2-63d3-463e-b036-b76081afccd1",
   "metadata": {},
   "outputs": [
    {
     "data": {
      "text/plain": [
       "collections.defaultdict"
      ]
     },
     "execution_count": 6,
     "metadata": {},
     "output_type": "execute_result"
    }
   ],
   "source": [
    "ddict"
   ]
  }
 ],
 "metadata": {
  "kernelspec": {
   "display_name": "Python 3 (ipykernel)",
   "language": "python",
   "name": "python3"
  },
  "language_info": {
   "codemirror_mode": {
    "name": "ipython",
    "version": 3
   },
   "file_extension": ".py",
   "mimetype": "text/x-python",
   "name": "python",
   "nbconvert_exporter": "python",
   "pygments_lexer": "ipython3",
   "version": "3.12.4"
  }
 },
 "nbformat": 4,
 "nbformat_minor": 5
}
