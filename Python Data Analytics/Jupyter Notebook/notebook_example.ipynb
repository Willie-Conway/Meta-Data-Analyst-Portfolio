{
 "cells": [
  {
   "cell_type": "markdown",
   "id": "95261a38-aa35-4d7d-a63f-2015e94434ca",
   "metadata": {},
   "source": [
    "## Activity: Example of a Typical Notebook on Coursera\n",
    "### Introduction\n",
    "In this activity you will practice using Jupyter Notebook on Coursera. This is a simple activity to get you familiar with activities using Jupyter Notebook in this course.\n",
    "\n",
    "The next video for the course will be a recording walkthrough going over this activity! So if you're feeling a bit stuck, feel free to look at the video walkthrough first!\n",
    "\n",
    "This activity will cover the following topics:\n",
    "\n",
    "* Running a \"frozen\" cell\n",
    "* Running an editable cell\n",
    "* Using & running the \"frozen\" question checking cell\n"
   ]
  },
  {
   "cell_type": "markdown",
   "id": "cc30309f-469e-46eb-b608-cab03a703521",
   "metadata": {},
   "source": [
    "#### Question 1\n",
    "The cell below is \"frozen\" and therefore can't edited. However, you can (and should) run the cell.\n",
    "\n",
    "In the cell, you'll see Python \"comments\" marked with a # at the beginning of the line. These lines are commonly used to help give context about the Python code written. In these activities, these are usually direct and/or hints about the question.\n",
    "\n",
    "You'll also see some simple Python code. Again, you can't edit this cell. But running this cell will still execute the code within the cell.\n",
    "\n",
    "#### For this question, simply _run the cell below_:"
   ]
  },
  {
   "cell_type": "code",
   "execution_count": 1,
   "id": "ff368924-0e9b-4cd8-a715-7a6a1dc7ee07",
   "metadata": {},
   "outputs": [
    {
     "name": "stdout",
     "output_type": "stream",
     "text": [
      "Hello!\n"
     ]
    }
   ],
   "source": [
    "# This cell is \"frozen\" and can't be edited\n",
    "# But this cell can be run\n",
    "\n",
    "# Run this cell\n",
    "greeting = 'Hello!'\n",
    "print(greeting)"
   ]
  },
  {
   "cell_type": "markdown",
   "id": "328f1e7a-b54f-4c44-bb32-f71fd5a1fb38",
   "metadata": {},
   "source": [
    "After running the cell, there is a ***\"Question Grading Checks\"*** cell.\n",
    "This cell comes after the work done for the question and is \"frozen\" (can't be\n",
    "edited but can be run).\n",
    "\n",
    "This cell has two purposes:\n",
    "1. Running this cell, gives you a quick \"check\" to see if your code is \"correct\" \n",
    "   enough. \n",
    "   - If it is \"correct\", the cell should pretty much do \"nothing\".\n",
    "   - However, if your code isn't quite right, it may trigger an error. You\n",
    "     should change your code (possibly doing a kernal restart as well) and rerun\n",
    "     your code and the ***\"Question Grading Checks\"*** cell.\n",
    "2. There are sometimes \"hidden checks\" that will only be run when you submit the\n",
    "   activity. These will run against your code.\n",
    "\n",
    "**To check your question, simply _run the cell below_:**"
   ]
  },
  {
   "cell_type": "code",
   "execution_count": 2,
   "id": "6cec43e7-0e4c-4953-8007-55a3a85e9760",
   "metadata": {},
   "outputs": [],
   "source": [
    "# Question 1 Grading Checks\n",
    "# Note this cell is \"frozen\" and not editable, but can still be run\n",
    "\n",
    "assert greeting == 'Hello!', 'Did you run the cell above with Python code?'"
   ]
  },
  {
   "cell_type": "markdown",
   "id": "d973e04b-90fe-41f7-82e5-c586a6225a57",
   "metadata": {},
   "source": [
    "#### Question 2\n",
    "\n",
    "The cell below is a normal cell and can be edited by you to put in your code to\n",
    "answer the question.\n",
    "\n",
    "This time, to show you what the ***\"Question Grading Checks\"*** cell looks like\n",
    "when your code isn't \"correct\", you'll do the following:\n",
    "\n",
    "1. **First** _run the cell below with **no edits**_\n",
    "2. **Second** _run the next cell, the ***\"Question Grading Checks\"*** cell._\n",
    "   - This will produce an error. This is what the cell's output looks like if\n",
    "     your code is not \"correct\".\n",
    "3. **Third** _edit the cell so it instead has `number_one = 1` and run the cell_\n",
    "   - This is the correct answer.\n",
    "4. **Lastly** _run the following cell, the ***\"Question Grading Checks\"*** cell._\n",
    "   - If you ran the cell above the ***\"Question Grading Checks\"*** cell after\n",
    "     editing the code, you should see ***no output*** from the ***\"Question\n",
    "     Grading Checks\"*** cell.\n",
    "\n",
    "In general, if the ***\"Question Grading Checks\"*** cell gives no error, your \n",
    "code is _likely_ correct."
   ]
  },
  {
   "cell_type": "code",
   "execution_count": 3,
   "id": "1eae7776-3828-42b4-aac8-1bf1139b8378",
   "metadata": {},
   "outputs": [],
   "source": [
    "# Your code here\n",
    "\n",
    "# REMINDER:\n",
    "## First: run this cell with no modifications\n",
    "## Second: run the \"Question Grading Checks\" cell; this will give an error\n",
    "## Third: edit and then run this cell so the code instead says: number_one = 1\n",
    "## Lastly: run the \"Question Grading Checks\" cell; this will give no output\n",
    "# number_one = 0\n",
    "number_one = 1\n",
    "\n",
    "# your code here"
   ]
  },
  {
   "cell_type": "code",
   "execution_count": 4,
   "id": "7ce2f0f0-a8ce-42f7-abf0-c745705c678d",
   "metadata": {},
   "outputs": [],
   "source": [
    "# Question 2 Grading Checks\n",
    "\n",
    "assert number_one == 1, 'Did you edit and run the cell so it has: number_one = 1'"
   ]
  },
  {
   "cell_type": "markdown",
   "id": "6709a6dd-5db4-4006-bc21-3872a61790d9",
   "metadata": {},
   "source": [
    "#### Question 3\n",
    "\n",
    "This final question will demonstrate what happens when you have code that \n",
    "_passes_ the ***\"Question Grading Checks\"*** cell when working on the activity\n",
    "in the notebook, but _does not pass_ the \"hidden checks\" that are used to score\n",
    "the assignment when it is submitted. But don't worry, you can always make\n",
    "changes and resubmit to get the answer right!\n",
    "\n",
    "To best demonstrate this, the cell below is editable but already has some code\n",
    "in the cell. Specically, it has the code `this_question = 1`. This is actually\n",
    "_incorrect_; the correct answer is actually `this_question = 3`.\n",
    "\n",
    "Here are the steps you should do:\n",
    "1. **First** _run the cell below with **no edits**_\n",
    "2. **Second** _run the next cell, the ***\"Question Grading Checks\"*** cell._\n",
    "   - This will _not_ produce an error and you should see ***no output*** from\n",
    "     the ***\"Question Grading Checks\"*** cell. This is because the code passes\n",
    "     the check from this cell.\n",
    "   - However, there are _\"hidden checks\"_ that will only run when this\n",
    "     activity assignment is submitted. If you followed along so far, this\n",
    "     question will be marked _wrong_.\n",
    "3. **Third** _submit the activity (at the top of the notebook page)_\n",
    "   - This will submit the notebook and you can see the \"grade\" for your activity\n",
    "     assignment. You should see that you will recieve 0 points for this\n",
    "     question.\n",
    "   - But don't worry! This won't affect you passing the course! If you want, you\n",
    "     can reopen the assignment and correct the code to recieve full points.\n",
    "4. **[OPTIONAL] Finally** _reopen the assignment, change the code for this\n",
    "   question to `this_question = 3`. Then resubmit this activity assignment._\n",
    "   - After submitting, you'll see a new grade for this assignment, and you\n",
    "     should recieve the full points for this question!\n",
    "\n",
    "In general, if the ***\"Question Grading Checks\"*** cell gives no error, your \n",
    "code is _likely_ correct. But there might be hidden checks.\n",
    "\n",
    "***REMEMBER: You can always make changes and resubmit an activity assignment to get full\n",
    "points***"
   ]
  },
  {
   "cell_type": "code",
   "execution_count": 6,
   "id": "b21e466a-9725-497b-b901-ddfd023ba413",
   "metadata": {},
   "outputs": [],
   "source": [
    "# Note this is the \"wrong\" answer, but submit anyway\n",
    "# this_question = 1\n",
    "# After submitting at least once, you can get the correct answer by instead\n",
    "# changing the code to look like this:\n",
    "this_question = 3\n",
    "\n",
    "# your code here\n"
   ]
  },
  {
   "cell_type": "code",
   "execution_count": 7,
   "id": "59ba5095-4fe8-4eaa-9ca2-a6c4d5871d60",
   "metadata": {},
   "outputs": [],
   "source": [
    "# Question 3 Grading Checks\n",
    "\n",
    "assert this_question > 0, 'Did you change the code for this_question = ... ?'"
   ]
  }
 ],
 "metadata": {
  "kernelspec": {
   "display_name": "Python 3 (ipykernel)",
   "language": "python",
   "name": "python3"
  },
  "language_info": {
   "codemirror_mode": {
    "name": "ipython",
    "version": 3
   },
   "file_extension": ".py",
   "mimetype": "text/x-python",
   "name": "python",
   "nbconvert_exporter": "python",
   "pygments_lexer": "ipython3",
   "version": "3.12.4"
  }
 },
 "nbformat": 4,
 "nbformat_minor": 5
}
