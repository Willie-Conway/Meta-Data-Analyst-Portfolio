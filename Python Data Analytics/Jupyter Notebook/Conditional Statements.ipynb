{
 "cells": [
  {
   "cell_type": "raw",
   "id": "fde2a919-90f7-4088-84ce-09e413ff9556",
   "metadata": {},
   "source": [
    "if condition:\n",
    "    action\n",
    "    other_action\n",
    "    ***"
   ]
  },
  {
   "cell_type": "code",
   "execution_count": 1,
   "id": "c93c8c45-0ee8-4f4c-8ae4-51c34c827346",
   "metadata": {},
   "outputs": [
    {
     "name": "stdout",
     "output_type": "stream",
     "text": [
      "User is an adult\n"
     ]
    }
   ],
   "source": [
    "user_age = 42\n",
    "\n",
    "if user_age >= 18:\n",
    "    print('User is an adult')"
   ]
  },
  {
   "cell_type": "code",
   "execution_count": 3,
   "id": "b497f41f-cf7c-4f51-b4c6-4975269a4424",
   "metadata": {},
   "outputs": [],
   "source": [
    "user_age = 13\n",
    "\n",
    "if user_age >= 18:\n",
    "    print('User is an adult')"
   ]
  },
  {
   "cell_type": "code",
   "execution_count": 6,
   "id": "3d5b17c4-122e-49eb-a656-82e33ddeb1b7",
   "metadata": {},
   "outputs": [
    {
     "name": "stdout",
     "output_type": "stream",
     "text": [
      "User is a minor\n"
     ]
    }
   ],
   "source": [
    "user_age = 13\n",
    "\n",
    "if user_age >= 18:\n",
    "    print('User is an adult')\n",
    "else:\n",
    "    print('User is a minor')"
   ]
  },
  {
   "cell_type": "code",
   "execution_count": 7,
   "id": "fd596318-10fa-457e-aa87-5d59a8d35aab",
   "metadata": {},
   "outputs": [
    {
     "name": "stdout",
     "output_type": "stream",
     "text": [
      "User is a infant\n"
     ]
    }
   ],
   "source": [
    "user_age = 0.5\n",
    "\n",
    "if user_age >= 18:\n",
    "    print('User is an adult')\n",
    "elif user_age < 1:\n",
    "    print('User is a infant')\n",
    "else:\n",
    "    print('User is a minor')"
   ]
  },
  {
   "cell_type": "code",
   "execution_count": 8,
   "id": "de8d058e-3795-4ac8-8f10-dc16f2f99ca9",
   "metadata": {},
   "outputs": [
    {
     "name": "stdout",
     "output_type": "stream",
     "text": [
      "User is a teenager\n"
     ]
    }
   ],
   "source": [
    "user_age = 13\n",
    "\n",
    "if user_age >= 18:\n",
    "    print('User is an adult')\n",
    "elif user_age >= 13:\n",
    "    print('User is a teenager')\n",
    "elif user_age >= 10:\n",
    "    print('User is a pre-teen')\n",
    "elif user_age < 1:\n",
    "    print('User is an infant')\n",
    "else:\n",
    "    print('User is a minor')\n"
   ]
  },
  {
   "cell_type": "markdown",
   "id": "df3a9c85-3490-4539-a95d-112775ca69a3",
   "metadata": {},
   "source": [
    "## Examples"
   ]
  },
  {
   "cell_type": "markdown",
   "id": "8db01468-dc11-49a5-85e4-d46812d6f036",
   "metadata": {},
   "source": [
    "### Parental Permission"
   ]
  },
  {
   "cell_type": "code",
   "execution_count": 9,
   "id": "59bfe7b1-b1e9-4665-bf04-3ce2f7ed3ac3",
   "metadata": {},
   "outputs": [
    {
     "name": "stdout",
     "output_type": "stream",
     "text": [
      "not permitted\n"
     ]
    }
   ],
   "source": [
    "user_age = 17\n",
    "user_permission = False\n",
    "\n",
    "if user_age < 18:\n",
    "    if user_permission:\n",
    "        print('ok')\n",
    "    else:\n",
    "       print('not permitted')\n",
    "else:\n",
    "    print('ok')"
   ]
  },
  {
   "cell_type": "code",
   "execution_count": 11,
   "id": "98e4bf35-7e2a-446b-80e5-b4e03d19e4ea",
   "metadata": {},
   "outputs": [
    {
     "name": "stdout",
     "output_type": "stream",
     "text": [
      "not permitted\n"
     ]
    }
   ],
   "source": [
    "if (user_age < 18) and user_permission:\n",
    "    print('ok')\n",
    "elif user_age < 18:\n",
    "    print('not permitted')\n",
    "else:\n",
    "    print('ok')"
   ]
  },
  {
   "cell_type": "markdown",
   "id": "c8a54af9-3164-487c-a129-6a6c7b8e9199",
   "metadata": {},
   "source": [
    "## Promotion"
   ]
  },
  {
   "cell_type": "code",
   "execution_count": 12,
   "id": "8675bf05-8a3a-46fd-96ef-27a387da4be8",
   "metadata": {},
   "outputs": [],
   "source": [
    "customer_info = {'in_promo': False, 'purchased': 500, 'age': 27}"
   ]
  },
  {
   "cell_type": "code",
   "execution_count": 13,
   "id": "f3708e8c-fb19-489e-9302-ea4a35155812",
   "metadata": {},
   "outputs": [
    {
     "name": "stdout",
     "output_type": "stream",
     "text": [
      "Customer for new promo!\n"
     ]
    }
   ],
   "source": [
    "if (not customer_info['in_promo']) and  (customer_info['purchased'] > 400) and (customer_info['age'] >=25) and (customer_info['age'] <=44):\n",
    "    print('Customer for new promo!')"
   ]
  },
  {
   "cell_type": "code",
   "execution_count": 14,
   "id": "1eec939d-50d9-445a-b16d-dfadff399bbf",
   "metadata": {},
   "outputs": [
    {
     "name": "stdout",
     "output_type": "stream",
     "text": [
      "Customer for new promo!\n"
     ]
    }
   ],
   "source": [
    "if (not customer_info['in_promo']) and (customer_info['purchased'] > 400):\n",
    "    if (customer_info['age'] >=25) and (customer_info['age'] <=44):\n",
    "        print('Customer for new promo!')"
   ]
  }
 ],
 "metadata": {
  "kernelspec": {
   "display_name": "Python 3 (ipykernel)",
   "language": "python",
   "name": "python3"
  },
  "language_info": {
   "codemirror_mode": {
    "name": "ipython",
    "version": 3
   },
   "file_extension": ".py",
   "mimetype": "text/x-python",
   "name": "python",
   "nbconvert_exporter": "python",
   "pygments_lexer": "ipython3",
   "version": "3.12.4"
  }
 },
 "nbformat": 4,
 "nbformat_minor": 5
}
