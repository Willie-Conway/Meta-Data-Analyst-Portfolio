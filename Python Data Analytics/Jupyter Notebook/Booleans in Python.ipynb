{
 "cells": [
  {
   "cell_type": "code",
   "execution_count": 2,
   "id": "adc96423-bb1f-4dbf-aada-826e58eb88bf",
   "metadata": {},
   "outputs": [
    {
     "data": {
      "text/plain": [
       "(bool, bool)"
      ]
     },
     "execution_count": 2,
     "metadata": {},
     "output_type": "execute_result"
    }
   ],
   "source": [
    "type(True), type(False)"
   ]
  },
  {
   "cell_type": "markdown",
   "id": "2cd2a23d-af1d-411d-ab5d-6de1f2fd3665",
   "metadata": {},
   "source": [
    "## `not`"
   ]
  },
  {
   "cell_type": "code",
   "execution_count": 3,
   "id": "750653f8-5bb7-4e29-be72-296c1ccc7f23",
   "metadata": {},
   "outputs": [
    {
     "data": {
      "text/plain": [
       "False"
      ]
     },
     "execution_count": 3,
     "metadata": {},
     "output_type": "execute_result"
    }
   ],
   "source": [
    "truth = True\n",
    "not truth"
   ]
  },
  {
   "cell_type": "code",
   "execution_count": 4,
   "id": "6d9be580-4bad-458c-9d92-9fcc4a528a90",
   "metadata": {},
   "outputs": [
    {
     "data": {
      "text/plain": [
       "True"
      ]
     },
     "execution_count": 4,
     "metadata": {},
     "output_type": "execute_result"
    }
   ],
   "source": [
    "lie = False\n",
    "not lie"
   ]
  },
  {
   "cell_type": "code",
   "execution_count": 7,
   "id": "74597af5-d152-43f3-a2a1-2d2992034161",
   "metadata": {},
   "outputs": [
    {
     "data": {
      "text/plain": [
       "True"
      ]
     },
     "execution_count": 7,
     "metadata": {},
     "output_type": "execute_result"
    }
   ],
   "source": [
    "myvalue = not lie\n",
    "myvalue"
   ]
  },
  {
   "cell_type": "markdown",
   "id": "5d847c57-ec57-4b5f-92cc-fdeac8595ff2",
   "metadata": {},
   "source": [
    "## `or`"
   ]
  },
  {
   "cell_type": "code",
   "execution_count": 5,
   "id": "4ffa8281-a210-4b46-9590-d7bbf6d846de",
   "metadata": {},
   "outputs": [
    {
     "data": {
      "text/plain": [
       "True"
      ]
     },
     "execution_count": 5,
     "metadata": {},
     "output_type": "execute_result"
    }
   ],
   "source": [
    "True or False"
   ]
  },
  {
   "cell_type": "code",
   "execution_count": 8,
   "id": "ca39688b-90e1-474b-9966-abce5a8101d1",
   "metadata": {},
   "outputs": [
    {
     "data": {
      "text/plain": [
       "False"
      ]
     },
     "execution_count": 8,
     "metadata": {},
     "output_type": "execute_result"
    }
   ],
   "source": [
    "False or False"
   ]
  },
  {
   "cell_type": "markdown",
   "id": "6583b0e8-f7d8-4c9f-9a84-7da5c55465f6",
   "metadata": {},
   "source": [
    "## `and`"
   ]
  },
  {
   "cell_type": "code",
   "execution_count": 9,
   "id": "9917da41-1874-44ca-932c-31206c072b21",
   "metadata": {},
   "outputs": [
    {
     "data": {
      "text/plain": [
       "False"
      ]
     },
     "execution_count": 9,
     "metadata": {},
     "output_type": "execute_result"
    }
   ],
   "source": [
    "True and False"
   ]
  },
  {
   "cell_type": "code",
   "execution_count": 10,
   "id": "7bf7bb77-aaef-4b1c-921a-8c0babf4ec52",
   "metadata": {},
   "outputs": [
    {
     "data": {
      "text/plain": [
       "True"
      ]
     },
     "execution_count": 10,
     "metadata": {},
     "output_type": "execute_result"
    }
   ],
   "source": [
    "True and True"
   ]
  },
  {
   "cell_type": "code",
   "execution_count": 11,
   "id": "c8618228-04f7-43c0-8bde-a0d6b2d991bd",
   "metadata": {},
   "outputs": [
    {
     "data": {
      "text/plain": [
       "False"
      ]
     },
     "execution_count": 11,
     "metadata": {},
     "output_type": "execute_result"
    }
   ],
   "source": [
    "False and False"
   ]
  },
  {
   "cell_type": "markdown",
   "id": "8adfd7e4-06c4-4601-9996-8ef830a6e6c9",
   "metadata": {},
   "source": [
    "## Combining `not`, `or`, `and`"
   ]
  },
  {
   "cell_type": "code",
   "execution_count": 12,
   "id": "eafb6cd9-1304-4d39-a6a8-6eb48c7c1b5e",
   "metadata": {},
   "outputs": [
    {
     "name": "stdout",
     "output_type": "stream",
     "text": [
      "True\n"
     ]
    }
   ],
   "source": [
    "boolean_value = True or False\n",
    "print(boolean_value)\n",
    "\n",
    "opposite_value = not boolean_value"
   ]
  },
  {
   "cell_type": "code",
   "execution_count": 13,
   "id": "0d92a9db-a93f-4dd3-babf-fad2b1b15075",
   "metadata": {},
   "outputs": [
    {
     "data": {
      "text/plain": [
       "False"
      ]
     },
     "execution_count": 13,
     "metadata": {},
     "output_type": "execute_result"
    }
   ],
   "source": [
    "not (True or False)"
   ]
  },
  {
   "cell_type": "markdown",
   "id": "c437b5bb-db44-4f39-886a-ca4c7d2b0c77",
   "metadata": {},
   "source": [
    "## Comparison Operators\n",
    "\n",
    "### `==` Operator"
   ]
  },
  {
   "cell_type": "code",
   "execution_count": 14,
   "id": "070072e2-b835-47ee-be86-6cf4cf88a8f9",
   "metadata": {},
   "outputs": [
    {
     "data": {
      "text/plain": [
       "True"
      ]
     },
     "execution_count": 14,
     "metadata": {},
     "output_type": "execute_result"
    }
   ],
   "source": [
    "3 == 3.0"
   ]
  },
  {
   "cell_type": "code",
   "execution_count": 15,
   "id": "84cc7c27-33bc-47ca-9fcc-f43a51596fa2",
   "metadata": {},
   "outputs": [
    {
     "data": {
      "text/plain": [
       "False"
      ]
     },
     "execution_count": 15,
     "metadata": {},
     "output_type": "execute_result"
    }
   ],
   "source": [
    "3 == 3.1"
   ]
  },
  {
   "cell_type": "code",
   "execution_count": 16,
   "id": "2fcf804c-d0ed-48d4-9779-0fdc25cc412b",
   "metadata": {},
   "outputs": [
    {
     "data": {
      "text/plain": [
       "False"
      ]
     },
     "execution_count": 16,
     "metadata": {},
     "output_type": "execute_result"
    }
   ],
   "source": [
    "3 == '3'"
   ]
  },
  {
   "cell_type": "markdown",
   "id": "a9b1ec04-9616-48b3-8fa8-9382f9c0957e",
   "metadata": {},
   "source": [
    "### `!=` Operator"
   ]
  },
  {
   "cell_type": "code",
   "execution_count": 17,
   "id": "10f4517b-91ce-43ca-b6b8-ef52b744daec",
   "metadata": {},
   "outputs": [
    {
     "data": {
      "text/plain": [
       "False"
      ]
     },
     "execution_count": 17,
     "metadata": {},
     "output_type": "execute_result"
    }
   ],
   "source": [
    "3 != 3.0"
   ]
  },
  {
   "cell_type": "code",
   "execution_count": 18,
   "id": "be8b3e12-35cc-4056-9853-7c996aa78a32",
   "metadata": {},
   "outputs": [
    {
     "data": {
      "text/plain": [
       "True"
      ]
     },
     "execution_count": 18,
     "metadata": {},
     "output_type": "execute_result"
    }
   ],
   "source": [
    "3 != 3.1"
   ]
  },
  {
   "cell_type": "code",
   "execution_count": 19,
   "id": "4a529c39-6ae2-4d21-b022-d55397f8960e",
   "metadata": {},
   "outputs": [
    {
     "data": {
      "text/plain": [
       "True"
      ]
     },
     "execution_count": 19,
     "metadata": {},
     "output_type": "execute_result"
    }
   ],
   "source": [
    "3 != '3'"
   ]
  },
  {
   "cell_type": "code",
   "execution_count": 20,
   "id": "ddb3dd34-7743-4268-8a46-91537d0175f1",
   "metadata": {},
   "outputs": [
    {
     "data": {
      "text/plain": [
       "False"
      ]
     },
     "execution_count": 20,
     "metadata": {},
     "output_type": "execute_result"
    }
   ],
   "source": [
    "not (3 == 3.0)"
   ]
  },
  {
   "cell_type": "code",
   "execution_count": 21,
   "id": "2cfa27ca-d88c-45b7-a1ce-50fab61608bf",
   "metadata": {},
   "outputs": [
    {
     "data": {
      "text/plain": [
       "True"
      ]
     },
     "execution_count": 21,
     "metadata": {},
     "output_type": "execute_result"
    }
   ],
   "source": [
    "not (3 == 3.1)"
   ]
  },
  {
   "cell_type": "code",
   "execution_count": 22,
   "id": "4cfcd136-08fd-4bd7-af04-337e1e8285d5",
   "metadata": {},
   "outputs": [
    {
     "data": {
      "text/plain": [
       "True"
      ]
     },
     "execution_count": 22,
     "metadata": {},
     "output_type": "execute_result"
    }
   ],
   "source": [
    "not (3 == '3')"
   ]
  },
  {
   "cell_type": "markdown",
   "id": "f30b7f80-8be0-461d-968b-4dc627e26e5f",
   "metadata": {},
   "source": [
    "### `>`, `>=`, `<`, `<=` Operators"
   ]
  },
  {
   "cell_type": "code",
   "execution_count": 23,
   "id": "789706f5-2093-4884-b034-bc612c5fe25b",
   "metadata": {},
   "outputs": [
    {
     "data": {
      "text/plain": [
       "True"
      ]
     },
     "execution_count": 23,
     "metadata": {},
     "output_type": "execute_result"
    }
   ],
   "source": [
    "10 > 1"
   ]
  },
  {
   "cell_type": "code",
   "execution_count": 24,
   "id": "35845e67-c916-4104-ac0d-6a66686cb3ea",
   "metadata": {},
   "outputs": [
    {
     "data": {
      "text/plain": [
       "False"
      ]
     },
     "execution_count": 24,
     "metadata": {},
     "output_type": "execute_result"
    }
   ],
   "source": [
    "10 > 10"
   ]
  },
  {
   "cell_type": "code",
   "execution_count": 25,
   "id": "9b0a445e-cb2d-433c-9b49-5dd0fdcf4305",
   "metadata": {},
   "outputs": [
    {
     "data": {
      "text/plain": [
       "False"
      ]
     },
     "execution_count": 25,
     "metadata": {},
     "output_type": "execute_result"
    }
   ],
   "source": [
    "10 > 100"
   ]
  },
  {
   "cell_type": "code",
   "execution_count": 26,
   "id": "186b6e1d-87b7-4d8c-b32a-f98207f08d59",
   "metadata": {},
   "outputs": [
    {
     "data": {
      "text/plain": [
       "True"
      ]
     },
     "execution_count": 26,
     "metadata": {},
     "output_type": "execute_result"
    }
   ],
   "source": [
    "10 >= 1"
   ]
  },
  {
   "cell_type": "code",
   "execution_count": 27,
   "id": "804e1b0a-5e0e-4b11-8570-95b792827a9b",
   "metadata": {},
   "outputs": [
    {
     "data": {
      "text/plain": [
       "True"
      ]
     },
     "execution_count": 27,
     "metadata": {},
     "output_type": "execute_result"
    }
   ],
   "source": [
    "10 >= 10"
   ]
  },
  {
   "cell_type": "code",
   "execution_count": 28,
   "id": "a6365b2f-490d-408d-89cb-9a60f9c2bdb3",
   "metadata": {},
   "outputs": [
    {
     "data": {
      "text/plain": [
       "False"
      ]
     },
     "execution_count": 28,
     "metadata": {},
     "output_type": "execute_result"
    }
   ],
   "source": [
    "10 >= 100"
   ]
  },
  {
   "cell_type": "code",
   "execution_count": 29,
   "id": "f00c8847-8b6f-4636-ae92-38df820d37cb",
   "metadata": {},
   "outputs": [
    {
     "data": {
      "text/plain": [
       "False"
      ]
     },
     "execution_count": 29,
     "metadata": {},
     "output_type": "execute_result"
    }
   ],
   "source": [
    "10 < 1"
   ]
  },
  {
   "cell_type": "code",
   "execution_count": 30,
   "id": "9bc4a0e6-b88e-4a20-ba10-fe8b70f7985b",
   "metadata": {},
   "outputs": [
    {
     "data": {
      "text/plain": [
       "False"
      ]
     },
     "execution_count": 30,
     "metadata": {},
     "output_type": "execute_result"
    }
   ],
   "source": [
    "10 < 10"
   ]
  },
  {
   "cell_type": "code",
   "execution_count": 31,
   "id": "c0aa5dbc-26a5-41d8-9d3e-8db3b4f16b20",
   "metadata": {},
   "outputs": [
    {
     "data": {
      "text/plain": [
       "True"
      ]
     },
     "execution_count": 31,
     "metadata": {},
     "output_type": "execute_result"
    }
   ],
   "source": [
    "10 < 100"
   ]
  },
  {
   "cell_type": "code",
   "execution_count": 32,
   "id": "d67b8975-f277-40d3-933b-7c21cfe1c281",
   "metadata": {},
   "outputs": [
    {
     "data": {
      "text/plain": [
       "False"
      ]
     },
     "execution_count": 32,
     "metadata": {},
     "output_type": "execute_result"
    }
   ],
   "source": [
    "10 <= 1"
   ]
  },
  {
   "cell_type": "code",
   "execution_count": 33,
   "id": "6cbdf4db-c341-4eff-9b38-dc191c4e67a8",
   "metadata": {},
   "outputs": [
    {
     "data": {
      "text/plain": [
       "True"
      ]
     },
     "execution_count": 33,
     "metadata": {},
     "output_type": "execute_result"
    }
   ],
   "source": [
    "10 <= 10"
   ]
  },
  {
   "cell_type": "code",
   "execution_count": 34,
   "id": "e0422fb0-ad25-4364-a8b6-b6245cd56e38",
   "metadata": {},
   "outputs": [
    {
     "data": {
      "text/plain": [
       "True"
      ]
     },
     "execution_count": 34,
     "metadata": {},
     "output_type": "execute_result"
    }
   ],
   "source": [
    "10 <= 100"
   ]
  },
  {
   "cell_type": "markdown",
   "id": "0d7959ba-2a54-4b0d-81a2-0ff2c65f3e5a",
   "metadata": {},
   "source": [
    "### Membership Operator `in`"
   ]
  },
  {
   "cell_type": "code",
   "execution_count": 35,
   "id": "c8489458-2fe1-41e0-947c-4167444f9eb7",
   "metadata": {},
   "outputs": [
    {
     "data": {
      "text/plain": [
       "True"
      ]
     },
     "execution_count": 35,
     "metadata": {},
     "output_type": "execute_result"
    }
   ],
   "source": [
    "customer_id = 1\n",
    "customer_ids = [5,4,3,2,1]\n",
    "\n",
    "customer_id in customer_ids"
   ]
  },
  {
   "cell_type": "code",
   "execution_count": 36,
   "id": "ce03f603-6c8d-4a6a-83f9-15dd832cd937",
   "metadata": {},
   "outputs": [
    {
     "data": {
      "text/plain": [
       "True"
      ]
     },
     "execution_count": 36,
     "metadata": {},
     "output_type": "execute_result"
    }
   ],
   "source": [
    "new_id = 10\n",
    "new_id not in customer_ids"
   ]
  },
  {
   "cell_type": "code",
   "execution_count": 37,
   "id": "78058d22-6720-4761-b2b1-eba9bece77cc",
   "metadata": {},
   "outputs": [
    {
     "data": {
      "text/plain": [
       "True"
      ]
     },
     "execution_count": 37,
     "metadata": {},
     "output_type": "execute_result"
    }
   ],
   "source": [
    "not (new_id in customer_ids)"
   ]
  }
 ],
 "metadata": {
  "kernelspec": {
   "display_name": "Python 3 (ipykernel)",
   "language": "python",
   "name": "python3"
  },
  "language_info": {
   "codemirror_mode": {
    "name": "ipython",
    "version": 3
   },
   "file_extension": ".py",
   "mimetype": "text/x-python",
   "name": "python",
   "nbconvert_exporter": "python",
   "pygments_lexer": "ipython3",
   "version": "3.12.4"
  }
 },
 "nbformat": 4,
 "nbformat_minor": 5
}
