{
 "cells": [
  {
   "cell_type": "markdown",
   "id": "0cd92f7e-c00b-4c0a-a0bf-75c326d335c8",
   "metadata": {},
   "source": [
    "# Activity: Selective Subsets\n",
    "\n",
    "## Introduction\n",
    "\n",
    "In this activity you will practice selecting subsets of data from a DataFrame using Pandas.\n",
    "This activity will cover the following topics:\n",
    "- Creating masks\n",
    "- Negating masks\n",
    "- Masks with slicing\n",
    "- Null value masks\n"
   ]
  },
  {
   "cell_type": "markdown",
   "id": "3f6d57f3-f034-4f66-801b-94b21b49ebaa",
   "metadata": {},
   "source": [
    "#### Question 1\n",
    "\n",
    "Create a `DataFrame` called `df` from the given CSV file `movie_data.csv`, and then create a mask called `before_millennium` to select all movies that were released before 2000."
   ]
  },
  {
   "cell_type": "code",
   "execution_count": 10,
   "id": "0050814a-bd0f-4a52-b164-c1adae104965",
   "metadata": {},
   "outputs": [
    {
     "name": "stdout",
     "output_type": "stream",
     "text": [
      "                       Title  Year Released  Rating  Box Office ($M)\n",
      "0   The Shawshank Redemption           1994     9.3             58.3\n",
      "1              The Godfather           1972     9.2            246.1\n",
      "2            The Dark Knight           2008     9.0           1005.0\n",
      "3               Pulp Fiction           1994     8.9            213.9\n",
      "4           Schindler's List           1993     8.9            321.3\n",
      "..                       ...            ...     ...              ...\n",
      "70                 Andhadhun           2018     8.3             48.0\n",
      "71                 Gully Boy           2019     8.1             62.0\n",
      "72            Dil Chahta Hai           2001     8.1             13.0\n",
      "73          Dil To Pagal Hai           1997     7.1             11.0\n",
      "74              Om Shanti Om           2007     6.7             23.0\n",
      "\n",
      "[75 rows x 4 columns]\n",
      "0      True\n",
      "1      True\n",
      "2     False\n",
      "3      True\n",
      "4      True\n",
      "      ...  \n",
      "70    False\n",
      "71    False\n",
      "72    False\n",
      "73     True\n",
      "74    False\n",
      "Name: Year Released, Length: 75, dtype: bool\n"
     ]
    }
   ],
   "source": [
    "import pandas as pd\n",
    "\n",
    "# Your code here\n",
    "\n",
    "# your code here\n",
    "\n",
    "# Load the DataFrame from the CSV file\n",
    "df = pd.read_csv('movie_data.csv')\n",
    "\n",
    "# Create a mask for movies released before the year 2000\n",
    "before_millennium = df['Year Released'] < 2000\n",
    "\n",
    "\n",
    "print(df)\n",
    "print(before_millennium)"
   ]
  },
  {
   "cell_type": "code",
   "execution_count": 11,
   "id": "31b425f5-99a8-47d5-ac86-d5b89caa0eda",
   "metadata": {},
   "outputs": [],
   "source": [
    "# Question 1 Grading Checks\n",
    "\n",
    "assert isinstance(df, pd.DataFrame), 'Did you create a DataFrame called df?'"
   ]
  },
  {
   "cell_type": "markdown",
   "id": "6d41d963-7316-4ee1-bea9-db6f00f7a673",
   "metadata": {},
   "source": [
    "#### Question 2\n",
    "\n",
    "Using the `before_millennium` mask from Question 1, assign the titles of every movie that was released after 2000 to a `Series` called `newer_titles`."
   ]
  },
  {
   "cell_type": "code",
   "execution_count": 12,
   "id": "c7ecc744-fadd-42f2-8de6-02fedab1b7b2",
   "metadata": {},
   "outputs": [
    {
     "name": "stdout",
     "output_type": "stream",
     "text": [
      "2                                       The Dark Knight\n",
      "7                                             Inception\n",
      "9     The Lord of the Rings: The Fellowship of the Ring\n",
      "11                                            Gladiator\n",
      "14                The Lord of the Rings: The Two Towers\n",
      "15                                         The Departed\n",
      "19        The Lord of the Rings: The Return of the King\n",
      "20                                          The Pianist\n",
      "22                                               Avatar\n",
      "23                                 Inglourious Basterds\n",
      "24                                         The Revenant\n",
      "25                                     Django Unchained\n",
      "26                                   The Social Network\n",
      "27                                         Interstellar\n",
      "28                             The Grand Budapest Hotel\n",
      "29                                              Dunkirk\n",
      "30                                     A Beautiful Mind\n",
      "33                                   The Shape of Water\n",
      "34                                     12 Years a Slave\n",
      "35                                              Gravity\n",
      "36                                           La La Land\n",
      "37                                    Blade Runner 2049\n",
      "38                                         The Irishman\n",
      "39                                             Parasite\n",
      "40                                     The Great Gatsby\n",
      "42                                      The Incredibles\n",
      "43                Eternal Sunshine of the Spotless Mind\n",
      "44                               No Country for Old Men\n",
      "46                                         Finding Nemo\n",
      "47                                         The Avengers\n",
      "48                                          The Martian\n",
      "49                                        Black Panther\n",
      "50                                             3 Idiots\n",
      "51                                                   PK\n",
      "52                                               Dangal\n",
      "53                             Baahubali: The Beginning\n",
      "54                          Baahubali 2: The Conclusion\n",
      "55                                    Bajrangi Bhaijaan\n",
      "56                                               Sultan\n",
      "57                             Kabhi Khushi Kabhie Gham\n",
      "58                                      My Name Is Khan\n",
      "59                                      Chennai Express\n",
      "62                               Kabhi Alvida Naa Kehna\n",
      "63                                            Padmaavat\n",
      "65                                         Koi Mil Gaya\n",
      "66                                               Krrish\n",
      "67                                               Lagaan\n",
      "70                                            Andhadhun\n",
      "71                                            Gully Boy\n",
      "72                                       Dil Chahta Hai\n",
      "74                                         Om Shanti Om\n",
      "Name: Title, dtype: object\n"
     ]
    }
   ],
   "source": [
    "# Your code here\n",
    "\n",
    "# your code here\n",
    "\n",
    "# Create a mask for movies released before the year 2000\n",
    "before_millennium = df['Year Released'] < 2000\n",
    "\n",
    "# Assign the titles of movies released after 2000 to a Series\n",
    "newer_titles = df.loc[~before_millennium, 'Title']\n",
    "\n",
    "\n",
    "print(newer_titles)"
   ]
  },
  {
   "cell_type": "code",
   "execution_count": 13,
   "id": "c14e0bcf-66bb-4979-81b9-377acd014eaa",
   "metadata": {},
   "outputs": [],
   "source": [
    "# Question 2 Grading Checks\n",
    "\n",
    "assert isinstance(newer_titles, pd.Series), 'Did you create a Series called newer_titles?'"
   ]
  },
  {
   "cell_type": "markdown",
   "id": "d4ebb700-64db-4852-bce2-476ae1123eeb",
   "metadata": {},
   "source": [
    "#### Question 3\n",
    "\n",
    "Create a mask to select movies with a `Rating` of `8.9` and a `Box Office ($M)` value higher than `1000.0`. Assign the resulting `Series` to a variable called `popular_pg_movies`."
   ]
  },
  {
   "cell_type": "code",
   "execution_count": 14,
   "id": "9365f9bf-0efe-4094-b10a-ab6edb8cc39d",
   "metadata": {},
   "outputs": [
    {
     "name": "stdout",
     "output_type": "stream",
     "text": [
      "0     False\n",
      "1     False\n",
      "2     False\n",
      "3     False\n",
      "4     False\n",
      "      ...  \n",
      "70    False\n",
      "71    False\n",
      "72    False\n",
      "73    False\n",
      "74    False\n",
      "Length: 75, dtype: bool\n"
     ]
    }
   ],
   "source": [
    "# Your code here\n",
    "\n",
    "# your code here\n",
    "\n",
    "# Create a mask for movies with Rating of 8.9 and Box Office greater than 1000.0\n",
    "popular_pg_movies = (df['Rating'] == 8.9) & (df['Box Office ($M)'] > 1000.0)\n",
    "\n",
    "\n",
    "print(popular_pg_movies)"
   ]
  },
  {
   "cell_type": "code",
   "execution_count": 15,
   "id": "f5cc2356-d714-47af-817b-1e593fd56b27",
   "metadata": {},
   "outputs": [],
   "source": [
    "# Question 3 Grading Checks\n",
    "\n",
    "assert isinstance(popular_pg_movies, pd.Series), 'Did you create a Series called popular_pg_movies?'"
   ]
  },
  {
   "cell_type": "markdown",
   "id": "1eb4896a-c3f6-4ff8-8080-f9decb36fd88",
   "metadata": {},
   "source": [
    "#### Question 4\n",
    "\n",
    "Create a mask to select movies with a null value for `Box Office ($M)` or `Rating`. Assign the resulting `Series` to a variable called `missing_info`."
   ]
  },
  {
   "cell_type": "code",
   "execution_count": 17,
   "id": "777dc731-7f36-4b92-9a72-37cf3fee7ea6",
   "metadata": {},
   "outputs": [
    {
     "name": "stdout",
     "output_type": "stream",
     "text": [
      "0     False\n",
      "1     False\n",
      "2     False\n",
      "3     False\n",
      "4     False\n",
      "      ...  \n",
      "70    False\n",
      "71    False\n",
      "72    False\n",
      "73    False\n",
      "74    False\n",
      "Length: 75, dtype: bool\n"
     ]
    }
   ],
   "source": [
    "# Your code here\n",
    "\n",
    "# your code here\n",
    "\n",
    "# Create a mask for movies with null values in Box Office or Rating\n",
    "missing_info = df['Box Office ($M)'].isnull() | df['Rating'].isnull()\n",
    "\n",
    "\n",
    "print(missing_info)"
   ]
  },
  {
   "cell_type": "code",
   "execution_count": 7,
   "id": "c4de4e16-d590-4ac5-bd75-9e8a67ae0dab",
   "metadata": {},
   "outputs": [],
   "source": [
    "# Question 4 Grading Checks\n",
    "\n",
    "assert isinstance(missing_info, pd.Series), 'Did you create a Series called missing_info?'\n"
   ]
  }
 ],
 "metadata": {
  "kernelspec": {
   "display_name": "Python 3 (ipykernel)",
   "language": "python",
   "name": "python3"
  },
  "language_info": {
   "codemirror_mode": {
    "name": "ipython",
    "version": 3
   },
   "file_extension": ".py",
   "mimetype": "text/x-python",
   "name": "python",
   "nbconvert_exporter": "python",
   "pygments_lexer": "ipython3",
   "version": "3.12.4"
  }
 },
 "nbformat": 4,
 "nbformat_minor": 5
}
