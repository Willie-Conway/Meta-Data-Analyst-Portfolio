{
 "cells": [
  {
   "cell_type": "markdown",
   "id": "46f22f32-176e-4da1-a2f8-3d409ce4eb44",
   "metadata": {},
   "source": [
    "# Activity: Using Dictionaries\n",
    "\n",
    "## Introduction\n",
    "\n",
    "In this activity you will practice the following:\n",
    "- Creating dictionaries\n",
    "- Accessing values in a dictionary\n",
    "- Adding key-value pairs to a dictionary\n",
    "- Modifying values in a dictionary\n",
    "- Dictionary methods"
   ]
  },
  {
   "cell_type": "markdown",
   "id": "768d7aab-0b54-4d1f-85ed-b49586b8d60c",
   "metadata": {},
   "source": [
    "#### Question 1\n",
    "\n",
    "Create a dictionary called `student` which contains the following:\n",
    "- name: derrick\n",
    "- age: 17\n",
    "- math_grade: 90"
   ]
  },
  {
   "cell_type": "code",
   "execution_count": 11,
   "id": "bb40ddac-2254-415f-85ee-b3a2107a3a62",
   "metadata": {},
   "outputs": [
    {
     "name": "stdout",
     "output_type": "stream",
     "text": [
      "{'name': 'derrick', 'age': 17, 'math_grade': 90}\n"
     ]
    }
   ],
   "source": [
    "# Your code here\n",
    "\n",
    "# Your code here\n",
    "student = {\n",
    "    'name': 'derrick',\n",
    "    'age': 17,\n",
    "    'math_grade': 90\n",
    "}\n",
    "\n",
    "print(student)\n"
   ]
  },
  {
   "cell_type": "code",
   "execution_count": 3,
   "id": "060c1449-e5ab-42ac-bd9e-bb58bc292653",
   "metadata": {},
   "outputs": [],
   "source": [
    "# Question 1 Grading Checks\n",
    "\n",
    "assert isinstance(student, dict), 'Have you created a dictionary called student?'\n",
    "assert len(student) == 3, 'Have you added the correct number of key-value pairs to the dictionary?'"
   ]
  },
  {
   "cell_type": "markdown",
   "id": "9ce0fee1-4d63-4dbc-b06e-946cf63324fd",
   "metadata": {},
   "source": [
    "#### Question 2\n",
    "\n",
    "Access the value of the `math_grade` key in the `student` dictionary you created in Question 1 and assign it to a variable called `grade`."
   ]
  },
  {
   "cell_type": "code",
   "execution_count": 12,
   "id": "ad987dad-e6c5-494e-8ed5-7f49805bf4c1",
   "metadata": {},
   "outputs": [
    {
     "name": "stdout",
     "output_type": "stream",
     "text": [
      "90\n"
     ]
    }
   ],
   "source": [
    "# Your code here\n",
    "\n",
    "# Your code here\n",
    "grade = student['math_grade']  # Accessing the value of math_grade\n",
    "\n",
    "print(grade)"
   ]
  },
  {
   "cell_type": "code",
   "execution_count": 5,
   "id": "a94926a9-f9bd-47b7-a9d8-329a3a6ea0cf",
   "metadata": {},
   "outputs": [],
   "source": [
    "# Question 2 Grading Checks\n",
    "\n",
    "assert isinstance(grade, int), 'Have you accessed the value of the math_grade key in the student dictionary?'"
   ]
  },
  {
   "cell_type": "markdown",
   "id": "c1182291-7565-4eb9-a720-1f521d5dd066",
   "metadata": {},
   "source": [
    "#### Question 3\n",
    "\n",
    "Add a new key-value pair to the `student` dictionary you created in Question 1. The new key should be `english_grade` and the value should be `85`."
   ]
  },
  {
   "cell_type": "code",
   "execution_count": 14,
   "id": "f3f4f819-2a6f-4d14-9147-55cc00b98e24",
   "metadata": {},
   "outputs": [
    {
     "name": "stdout",
     "output_type": "stream",
     "text": [
      "85\n"
     ]
    }
   ],
   "source": [
    "# Your code here\n",
    "\n",
    "# Your code here\n",
    "student['english_grade'] = 85  # Adding the new key-value pair\n",
    "\n",
    "print(student['english_grade'])"
   ]
  },
  {
   "cell_type": "code",
   "execution_count": 7,
   "id": "e31f6998-9827-4939-8169-e5d931badc92",
   "metadata": {},
   "outputs": [],
   "source": [
    "# Question 3 Grading Checks\n",
    "\n",
    "assert len(student) == 4, 'Have you added the correct number of key-value pairs to the dictionary?'"
   ]
  },
  {
   "cell_type": "markdown",
   "id": "8c3bd476-3acb-4371-bf6d-bc7fd0a6d259",
   "metadata": {},
   "source": [
    "#### Question 4\n",
    "\n",
    "Using the given dictionary `top_student`, store all the values in the dictionary in a variable called `top_student_grades`."
   ]
  },
  {
   "cell_type": "code",
   "execution_count": 15,
   "id": "c5228e58-ea77-4a8b-b3cf-8b87c632fafd",
   "metadata": {},
   "outputs": [
    {
     "name": "stdout",
     "output_type": "stream",
     "text": [
      "{'math_grade': 95, 'english_grade': 98, 'history_grade': 90, 'science_grade': 93, 'art_grade': 92, 'music_grade': 96}\n"
     ]
    }
   ],
   "source": [
    "top_student = {\n",
    "    \"math_grade\": 95,\n",
    "    \"english_grade\": 98,\n",
    "    \"history_grade\": 90,\n",
    "    \"science_grade\": 93,\n",
    "    \"art_grade\": 92,\n",
    "    \"music_grade\": 96\n",
    "}\n",
    "\n",
    "print(top_student)"
   ]
  },
  {
   "cell_type": "code",
   "execution_count": 9,
   "id": "0cb304cc-c80e-497a-8e3e-c630a8a2de96",
   "metadata": {},
   "outputs": [],
   "source": [
    "# Your code here\n",
    "\n",
    "# Given dictionary\n",
    "top_student = {\n",
    "    \"math_grade\": 95,\n",
    "    \"english_grade\": 98,\n",
    "    \"history_grade\": 90,\n",
    "    \"science_grade\": 93,\n",
    "    \"art_grade\": 92,\n",
    "    \"music_grade\": 96\n",
    "}\n",
    "\n",
    "# Your code here\n",
    "top_student_grades = list(top_student.values())  # Storing all values in a list\n"
   ]
  },
  {
   "cell_type": "code",
   "execution_count": 10,
   "id": "371c9384-7316-4ef1-a3ca-dc98533fc407",
   "metadata": {},
   "outputs": [
    {
     "name": "stdout",
     "output_type": "stream",
     "text": [
      "[95, 98, 90, 93, 92, 96]\n"
     ]
    }
   ],
   "source": [
    "# Question 4 Grading Checks\n",
    "# (No specific grading check provided, but you can verify by printing the variable if needed)\n",
    "print(top_student_grades)  # Optionally print to check the values\n"
   ]
  }
 ],
 "metadata": {
  "kernelspec": {
   "display_name": "Python 3 (ipykernel)",
   "language": "python",
   "name": "python3"
  },
  "language_info": {
   "codemirror_mode": {
    "name": "ipython",
    "version": 3
   },
   "file_extension": ".py",
   "mimetype": "text/x-python",
   "name": "python",
   "nbconvert_exporter": "python",
   "pygments_lexer": "ipython3",
   "version": "3.12.4"
  }
 },
 "nbformat": 4,
 "nbformat_minor": 5
}
