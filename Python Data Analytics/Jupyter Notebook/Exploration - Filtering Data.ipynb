{
 "cells": [
  {
   "cell_type": "code",
   "execution_count": 1,
   "id": "92bafdc9-9672-41f4-a9fc-b32430bd760f",
   "metadata": {},
   "outputs": [],
   "source": [
    "import pandas as pd"
   ]
  },
  {
   "cell_type": "code",
   "execution_count": 2,
   "id": "d968715b-230d-4fa1-879f-9c07113a870b",
   "metadata": {},
   "outputs": [],
   "source": [
    "df = pd.read_csv('csv/small_customers.csv')"
   ]
  },
  {
   "cell_type": "code",
   "execution_count": 3,
   "id": "525f8f53-30ff-4aca-92ab-172204a54a63",
   "metadata": {},
   "outputs": [
    {
     "name": "stdout",
     "output_type": "stream",
     "text": [
      "<class 'pandas.core.frame.DataFrame'>\n",
      "RangeIndex: 100 entries, 0 to 99\n",
      "Data columns (total 14 columns):\n",
      " #   Column            Non-Null Count  Dtype  \n",
      "---  ------            --------------  -----  \n",
      " 0   CustomerID        100 non-null    object \n",
      " 1   Age               100 non-null    int64  \n",
      " 2   gender            100 non-null    object \n",
      " 3   SeniorCitizen     100 non-null    int64  \n",
      " 4   Partner           100 non-null    object \n",
      " 5   Dependents        100 non-null    object \n",
      " 6   Tenure            100 non-null    int64  \n",
      " 7   PhoneService      100 non-null    object \n",
      " 8   MultipleLines     100 non-null    object \n",
      " 9   InternetService   100 non-null    object \n",
      " 10  DeviceProtection  100 non-null    object \n",
      " 11  PaperlessBilling  100 non-null    object \n",
      " 12  PaymentMethod     100 non-null    object \n",
      " 13  TotalCharges      100 non-null    float64\n",
      "dtypes: float64(1), int64(3), object(10)\n",
      "memory usage: 11.1+ KB\n"
     ]
    }
   ],
   "source": [
    "df.info()"
   ]
  },
  {
   "cell_type": "code",
   "execution_count": 4,
   "id": "6aa0d032-9a58-4735-939c-6570e571337a",
   "metadata": {},
   "outputs": [
    {
     "data": {
      "text/html": [
       "<div>\n",
       "<style scoped>\n",
       "    .dataframe tbody tr th:only-of-type {\n",
       "        vertical-align: middle;\n",
       "    }\n",
       "\n",
       "    .dataframe tbody tr th {\n",
       "        vertical-align: top;\n",
       "    }\n",
       "\n",
       "    .dataframe thead th {\n",
       "        text-align: right;\n",
       "    }\n",
       "</style>\n",
       "<table border=\"1\" class=\"dataframe\">\n",
       "  <thead>\n",
       "    <tr style=\"text-align: right;\">\n",
       "      <th></th>\n",
       "      <th>Age</th>\n",
       "      <th>SeniorCitizen</th>\n",
       "      <th>Tenure</th>\n",
       "      <th>TotalCharges</th>\n",
       "    </tr>\n",
       "  </thead>\n",
       "  <tbody>\n",
       "    <tr>\n",
       "      <th>count</th>\n",
       "      <td>100.00000</td>\n",
       "      <td>100.000000</td>\n",
       "      <td>100.000000</td>\n",
       "      <td>100.000000</td>\n",
       "    </tr>\n",
       "    <tr>\n",
       "      <th>mean</th>\n",
       "      <td>49.13000</td>\n",
       "      <td>0.560000</td>\n",
       "      <td>35.320000</td>\n",
       "      <td>108.704000</td>\n",
       "    </tr>\n",
       "    <tr>\n",
       "      <th>std</th>\n",
       "      <td>23.80122</td>\n",
       "      <td>0.498888</td>\n",
       "      <td>20.716889</td>\n",
       "      <td>8.839755</td>\n",
       "    </tr>\n",
       "    <tr>\n",
       "      <th>min</th>\n",
       "      <td>4.00000</td>\n",
       "      <td>0.000000</td>\n",
       "      <td>0.000000</td>\n",
       "      <td>65.850000</td>\n",
       "    </tr>\n",
       "    <tr>\n",
       "      <th>25%</th>\n",
       "      <td>28.00000</td>\n",
       "      <td>0.000000</td>\n",
       "      <td>18.000000</td>\n",
       "      <td>103.075000</td>\n",
       "    </tr>\n",
       "    <tr>\n",
       "      <th>50%</th>\n",
       "      <td>48.50000</td>\n",
       "      <td>1.000000</td>\n",
       "      <td>32.500000</td>\n",
       "      <td>110.425000</td>\n",
       "    </tr>\n",
       "    <tr>\n",
       "      <th>75%</th>\n",
       "      <td>69.00000</td>\n",
       "      <td>1.000000</td>\n",
       "      <td>52.500000</td>\n",
       "      <td>115.025000</td>\n",
       "    </tr>\n",
       "    <tr>\n",
       "      <th>max</th>\n",
       "      <td>100.00000</td>\n",
       "      <td>1.000000</td>\n",
       "      <td>72.000000</td>\n",
       "      <td>119.700000</td>\n",
       "    </tr>\n",
       "  </tbody>\n",
       "</table>\n",
       "</div>"
      ],
      "text/plain": [
       "             Age  SeniorCitizen      Tenure  TotalCharges\n",
       "count  100.00000     100.000000  100.000000    100.000000\n",
       "mean    49.13000       0.560000   35.320000    108.704000\n",
       "std     23.80122       0.498888   20.716889      8.839755\n",
       "min      4.00000       0.000000    0.000000     65.850000\n",
       "25%     28.00000       0.000000   18.000000    103.075000\n",
       "50%     48.50000       1.000000   32.500000    110.425000\n",
       "75%     69.00000       1.000000   52.500000    115.025000\n",
       "max    100.00000       1.000000   72.000000    119.700000"
      ]
     },
     "execution_count": 4,
     "metadata": {},
     "output_type": "execute_result"
    }
   ],
   "source": [
    "df.describe()"
   ]
  },
  {
   "cell_type": "code",
   "execution_count": 5,
   "id": "4bdba203-b306-4ac8-9cb4-79dfa215f3e4",
   "metadata": {},
   "outputs": [],
   "source": [
    "kids = df[df.Age < 13]\n",
    "teenagers = df[(df.Age >= 13) & (df.Age < 18)]\n",
    "adults = df[df.Age >= 18]"
   ]
  },
  {
   "cell_type": "code",
   "execution_count": 6,
   "id": "ef334bcb-da9e-423a-9598-e84345721ebe",
   "metadata": {},
   "outputs": [
    {
     "data": {
      "text/plain": [
       "np.float64(104.26)"
      ]
     },
     "execution_count": 6,
     "metadata": {},
     "output_type": "execute_result"
    }
   ],
   "source": [
    "kids.TotalCharges.mean()"
   ]
  },
  {
   "cell_type": "code",
   "execution_count": 7,
   "id": "6cc1c6f0-a175-4cad-814a-0002b6a7478d",
   "metadata": {},
   "outputs": [
    {
     "data": {
      "text/plain": [
       "np.float64(108.92340425531914)"
      ]
     },
     "execution_count": 7,
     "metadata": {},
     "output_type": "execute_result"
    }
   ],
   "source": [
    "adults.TotalCharges.mean()"
   ]
  },
  {
   "cell_type": "code",
   "execution_count": 8,
   "id": "0455c8eb-7b80-4e63-a29e-b573a3de0a6b",
   "metadata": {},
   "outputs": [
    {
     "data": {
      "text/plain": [
       "np.float64(104.525)"
      ]
     },
     "execution_count": 8,
     "metadata": {},
     "output_type": "execute_result"
    }
   ],
   "source": [
    "kids.TotalCharges.median()"
   ]
  },
  {
   "cell_type": "code",
   "execution_count": 11,
   "id": "9913cd11-8db9-4fe8-998f-3baf252d336a",
   "metadata": {},
   "outputs": [
    {
     "data": {
      "text/plain": [
       "np.float64(110.765)"
      ]
     },
     "execution_count": 11,
     "metadata": {},
     "output_type": "execute_result"
    }
   ],
   "source": [
    "adults.TotalCharges.median()"
   ]
  },
  {
   "cell_type": "code",
   "execution_count": 10,
   "id": "e90d233d-3006-454e-84b8-b2b162a78b63",
   "metadata": {},
   "outputs": [
    {
     "data": {
      "text/plain": [
       "mean      108.923404\n",
       "median    110.765000\n",
       "Name: TotalCharges, dtype: float64"
      ]
     },
     "execution_count": 10,
     "metadata": {},
     "output_type": "execute_result"
    }
   ],
   "source": [
    "adults.TotalCharges.agg(['mean', 'median'])"
   ]
  },
  {
   "cell_type": "code",
   "execution_count": 12,
   "id": "503c1155-b598-4ac5-885e-5c874ab132ed",
   "metadata": {},
   "outputs": [
    {
     "data": {
      "text/plain": [
       "mean      104.260\n",
       "median    104.525\n",
       "Name: TotalCharges, dtype: float64"
      ]
     },
     "execution_count": 12,
     "metadata": {},
     "output_type": "execute_result"
    }
   ],
   "source": [
    "kids.TotalCharges.agg(['mean', 'median'])"
   ]
  },
  {
   "cell_type": "code",
   "execution_count": 13,
   "id": "bb86e7c5-5870-46a0-a924-0424ea3f8613",
   "metadata": {},
   "outputs": [
    {
     "name": "stdout",
     "output_type": "stream",
     "text": [
      "mean      104.260\n",
      "median    104.525\n",
      "Name: TotalCharges, dtype: float64\n",
      "mean      107.28\n",
      "median    107.28\n",
      "Name: TotalCharges, dtype: float64\n",
      "mean      108.923404\n",
      "median    110.765000\n",
      "Name: TotalCharges, dtype: float64\n"
     ]
    }
   ],
   "source": [
    "age_groups = [kids, teenagers, adults]\n",
    "\n",
    "for group in age_groups:\n",
    "    stats = group.TotalCharges.agg(['mean','median'])\n",
    "    print(stats)"
   ]
  },
  {
   "cell_type": "code",
   "execution_count": 15,
   "id": "2e779415-7f0e-4020-a534-3dc05b9eee91",
   "metadata": {},
   "outputs": [
    {
     "name": "stdout",
     "output_type": "stream",
     "text": [
      "kids\n",
      "mean      104.260\n",
      "median    104.525\n",
      "Name: TotalCharges, dtype: float64\n",
      "-------\n",
      "teenagers\n",
      "mean      107.28\n",
      "median    107.28\n",
      "Name: TotalCharges, dtype: float64\n",
      "-------\n",
      "adults\n",
      "mean      108.923404\n",
      "median    110.765000\n",
      "Name: TotalCharges, dtype: float64\n",
      "-------\n"
     ]
    }
   ],
   "source": [
    "age_groups = {\n",
    "    'kids':kids, \n",
    "    'teenagers': teenagers, \n",
    "    'adults': adults,\n",
    "}\n",
    "\n",
    "for name,group in age_groups.items():\n",
    "    stats = group.TotalCharges.agg(['mean','median'])\n",
    "    print(name)\n",
    "    print(stats)\n",
    "    print('-------')"
   ]
  },
  {
   "cell_type": "code",
   "execution_count": 16,
   "id": "15c6b7af-7b80-4164-b978-bdd83e9ce9e7",
   "metadata": {},
   "outputs": [
    {
     "name": "stdout",
     "output_type": "stream",
     "text": [
      "kids\n",
      "mean      104.260\n",
      "median    104.525\n",
      "Name: TotalCharges, dtype: float64\n",
      "-------\n",
      "teenagers\n",
      "mean      107.28\n",
      "median    107.28\n",
      "Name: TotalCharges, dtype: float64\n",
      "-------\n",
      "young adults\n",
      "mean      109.556667\n",
      "median    110.775000\n",
      "Name: TotalCharges, dtype: float64\n",
      "-------\n",
      "adults\n",
      "mean      108.773421\n",
      "median    110.665000\n",
      "Name: TotalCharges, dtype: float64\n",
      "-------\n"
     ]
    }
   ],
   "source": [
    "age_groups = {\n",
    "    'kids':kids, \n",
    "    'teenagers': teenagers,\n",
    "    'young adults': df[(df.Age >= 18) & (df.Age < 28)],\n",
    "    'adults': df[df.Age >= 28],\n",
    "}\n",
    "\n",
    "for name,group in age_groups.items():\n",
    "    stats = group.TotalCharges.agg(['mean','median'])\n",
    "    print(name)\n",
    "    print(stats)\n",
    "    print('-------')"
   ]
  },
  {
   "cell_type": "code",
   "execution_count": 17,
   "id": "5ef81c11-9e91-4128-a7ed-7042999ad39e",
   "metadata": {},
   "outputs": [
    {
     "name": "stdout",
     "output_type": "stream",
     "text": [
      "kids\n",
      "mean    104.26\n",
      "sum     417.04\n",
      "Name: TotalCharges, dtype: float64\n",
      "-------\n",
      "teenagers\n",
      "mean    107.28\n",
      "sum     214.56\n",
      "Name: TotalCharges, dtype: float64\n",
      "-------\n",
      "young adults\n",
      "mean     109.556667\n",
      "sum     1972.020000\n",
      "Name: TotalCharges, dtype: float64\n",
      "-------\n",
      "adults\n",
      "mean     108.773421\n",
      "sum     8266.780000\n",
      "Name: TotalCharges, dtype: float64\n",
      "-------\n"
     ]
    }
   ],
   "source": [
    "age_groups = {\n",
    "    'kids':kids, \n",
    "    'teenagers': teenagers,\n",
    "    'young adults': df[(df.Age >= 18) & (df.Age < 28)],\n",
    "    'adults': df[df.Age >= 28],\n",
    "}\n",
    "\n",
    "for name,group in age_groups.items():\n",
    "    stats = group.TotalCharges.agg(['mean','sum'])\n",
    "    print(name)\n",
    "    print(stats)\n",
    "    print('-------')"
   ]
  },
  {
   "cell_type": "code",
   "execution_count": 19,
   "id": "586b4577-3d7a-421f-b40e-293a79408be9",
   "metadata": {},
   "outputs": [
    {
     "data": {
      "text/plain": [
       "np.int64(72)"
      ]
     },
     "execution_count": 19,
     "metadata": {},
     "output_type": "execute_result"
    }
   ],
   "source": [
    "groups = age_groups['kids']\n",
    "\n",
    "(group.TotalCharges >= 100).sum()"
   ]
  },
  {
   "cell_type": "code",
   "execution_count": 24,
   "id": "6c99f801-5695-40b8-9f91-0fb1415eae2b",
   "metadata": {},
   "outputs": [
    {
     "data": {
      "text/plain": [
       "np.float64(0.9473684210526315)"
      ]
     },
     "execution_count": 24,
     "metadata": {},
     "output_type": "execute_result"
    }
   ],
   "source": [
    "group_size = group.TotalCharges.count()\n",
    "n_over_100 = (group.TotalCharges >= 100).sum()\n",
    "percent_over_100 = n_over_100 / group_size\n",
    "\n",
    "percent_over_100"
   ]
  },
  {
   "cell_type": "code",
   "execution_count": 26,
   "id": "1e24ec29-85dd-4ed6-9b8b-dcec67cefc9b",
   "metadata": {},
   "outputs": [],
   "source": [
    "def percent_purchased_at_least(group, amount):\n",
    "    group_size = group['TotalCharges'].count()\n",
    "    n_over_100 = (group['TotalCharges'] >= amount).sum()\n",
    "    percent_over_100 = n_over_100 / group_size\n",
    "\n",
    "    return percent_over_100"
   ]
  },
  {
   "cell_type": "code",
   "execution_count": 27,
   "id": "1e879fd8-0e93-442c-91e1-1306a7ca696f",
   "metadata": {},
   "outputs": [
    {
     "data": {
      "text/plain": [
       "np.float64(1.0)"
      ]
     },
     "execution_count": 27,
     "metadata": {},
     "output_type": "execute_result"
    }
   ],
   "source": [
    "percent_purchased_at_least(age_groups['kids'], 100)"
   ]
  },
  {
   "cell_type": "code",
   "execution_count": 28,
   "id": "b96bc516-ef78-4fdb-83ee-bcd5f5ee2826",
   "metadata": {},
   "outputs": [
    {
     "name": "stdout",
     "output_type": "stream",
     "text": [
      "kids\n",
      "1.0\n",
      "-------\n",
      "teenagers\n",
      "1.0\n",
      "-------\n",
      "young adults\n",
      "1.0\n",
      "-------\n",
      "adults\n",
      "0.9473684210526315\n",
      "-------\n"
     ]
    }
   ],
   "source": [
    "age_groups = {\n",
    "    'kids':kids, \n",
    "    'teenagers': teenagers,\n",
    "    'young adults': df[(df.Age >= 18) & (df.Age < 28)],\n",
    "    'adults': df[df.Age >= 28],\n",
    "}\n",
    "\n",
    "for name,group in age_groups.items():\n",
    "    stats = percent_purchased_at_least(group, 100)\n",
    "    print(name)\n",
    "    print(stats)\n",
    "    print('-------')"
   ]
  },
  {
   "cell_type": "code",
   "execution_count": null,
   "id": "8890475e-3ebd-4351-859b-6fb47c38931b",
   "metadata": {},
   "outputs": [],
   "source": []
  }
 ],
 "metadata": {
  "kernelspec": {
   "display_name": "Python 3 (ipykernel)",
   "language": "python",
   "name": "python3"
  },
  "language_info": {
   "codemirror_mode": {
    "name": "ipython",
    "version": 3
   },
   "file_extension": ".py",
   "mimetype": "text/x-python",
   "name": "python",
   "nbconvert_exporter": "python",
   "pygments_lexer": "ipython3",
   "version": "3.12.4"
  }
 },
 "nbformat": 4,
 "nbformat_minor": 5
}
