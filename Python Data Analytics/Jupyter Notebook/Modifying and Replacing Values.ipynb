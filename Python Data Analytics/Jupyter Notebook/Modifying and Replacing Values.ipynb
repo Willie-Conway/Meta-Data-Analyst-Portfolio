{
 "cells": [
  {
   "cell_type": "markdown",
   "id": "ddfc319f-14bb-4fff-9a13-6e1cbd7f18fa",
   "metadata": {},
   "source": [
    "# Activity: Modifying & Replacing Values\n",
    "\n",
    "## Introduction\n",
    "\n",
    "In this activity you will practice modifying and replacing values in a DataFrame using the various method that Pandas has to offer.\n",
    "This activity will cover the following, not necessarily in this order:\n",
    "- Checking for anomalous values\n",
    "- Using `.isnumeric()`\n",
    "- Using `min()` and `max()` methods\n",
    "- Using `.loc[]` to replace values\n",
    "- Using `isnull()` and `notnull()` methods"
   ]
  },
  {
   "cell_type": "markdown",
   "id": "b04cf643-a674-4184-96a9-135fde09952d",
   "metadata": {},
   "source": [
    "#### Question 1\n",
    "\n",
    "Create a `DataFrame` called `df` from the given CSV file `employee_data.csv`, and then create a mask called `valid_names` that checks the `Name` column for any non-numeric values."
   ]
  },
  {
   "cell_type": "code",
   "execution_count": 2,
   "id": "f9573176-29b4-4273-8916-22243257bd44",
   "metadata": {},
   "outputs": [
    {
     "name": "stdout",
     "output_type": "stream",
     "text": [
      "              Name  Years of Employment  Weeks of Vacation           Position\n",
      "0    Alice Johnson                    5                3.0  Software Engineer\n",
      "1        Bob Smith                    2               15.0       Data Analyst\n",
      "2    Catherine Lee                   10                4.0    Product Manager\n",
      "3      David Brown                    3               10.0            Unknown\n",
      "4     Eva Martinez                    1                5.0        UX Designer\n",
      "..             ...                  ...                ...                ...\n",
      "99    Vera Edwards                   10               52.0    Cloud Architect\n",
      "100   Wesley Young                    3                2.0            Unknown\n",
      "101  Xander Foster                    6               23.0      Data Engineer\n",
      "102    Yasmin King                    4               19.0            Unknown\n",
      "103  Zoe Rodriguez                    2               16.0            Unknown\n",
      "\n",
      "[104 rows x 4 columns]\n",
      "0      False\n",
      "1      False\n",
      "2      False\n",
      "3      False\n",
      "4      False\n",
      "       ...  \n",
      "99     False\n",
      "100    False\n",
      "101    False\n",
      "102    False\n",
      "103    False\n",
      "Name: Name, Length: 104, dtype: bool\n"
     ]
    }
   ],
   "source": [
    "import pandas as pd\n",
    "\n",
    "# Your code here\n",
    "\n",
    "# your code here\n",
    "\n",
    "# Load the CSV file into a DataFrame\n",
    "df = pd.read_csv('csv/employee_data.csv')\n",
    "\n",
    "# Create a mask to check for non-numeric values in the Name column\n",
    "valid_names = df['Name'].str.isnumeric()\n",
    "\n",
    "print(df)\n",
    "print(valid_names)"
   ]
  },
  {
   "cell_type": "code",
   "execution_count": 3,
   "id": "330c20f4-c766-4881-95fc-7df6f3cef564",
   "metadata": {},
   "outputs": [],
   "source": [
    "# Question 1 Grading Checks\n",
    "\n",
    "assert isinstance(df, pd.DataFrame), 'Have you created a DataFrame named df?'\n",
    "assert isinstance(valid_names, pd.Series), 'Have you created a Series named valid_names?'"
   ]
  },
  {
   "cell_type": "markdown",
   "id": "574a4c80-bfad-44d0-8f02-2f6c67866af7",
   "metadata": {},
   "source": [
    "#### Question 2\n",
    "\n",
    "Using the original `DataFrame` `df`, create a mask called `unknown_position` that checks the `Position` column for any values that are equal to the string `Unknown`. Then, replace all such values with `Engineer`.\n"
   ]
  },
  {
   "cell_type": "code",
   "execution_count": 4,
   "id": "b1678bd2-efd2-45ee-9273-4d49e1d29950",
   "metadata": {},
   "outputs": [
    {
     "name": "stdout",
     "output_type": "stream",
     "text": [
      "0      False\n",
      "1      False\n",
      "2      False\n",
      "3       True\n",
      "4      False\n",
      "       ...  \n",
      "99     False\n",
      "100     True\n",
      "101    False\n",
      "102     True\n",
      "103     True\n",
      "Name: Position, Length: 104, dtype: bool\n"
     ]
    }
   ],
   "source": [
    "# Your code here\n",
    "\n",
    "# your code here\n",
    "\n",
    "# Create a mask for positions that are \"Unknown\"\n",
    "unknown_position = df['Position'] == 'Unknown'\n",
    "\n",
    "# Replace \"Unknown\" with \"Engineer\"\n",
    "df.loc[unknown_position, 'Position'] = 'Engineer'\n",
    "\n",
    "print(unknown_position)"
   ]
  },
  {
   "cell_type": "code",
   "execution_count": 5,
   "id": "824a964a-b3c5-4d83-b160-1e3e959b0334",
   "metadata": {},
   "outputs": [],
   "source": [
    "# Question 2 Grading Checks\n",
    "\n",
    "assert isinstance(unknown_position, pd.Series), 'Have you created a Series named unknown_position?'"
   ]
  },
  {
   "cell_type": "markdown",
   "id": "978f207a-f9e6-4faa-a3de-d521cba8f402",
   "metadata": {},
   "source": [
    "#### Question 3\n",
    "\n",
    "Using the original `DataFrame` `df`, create a mask called `invalid_vacation` that checks the `Weeks of Vacation` column for any values that are null or missing. Then, use that mask to assign the value 0 to them.\n"
   ]
  },
  {
   "cell_type": "code",
   "execution_count": 6,
   "id": "30a8440a-755c-477a-ac64-9718990d8a1c",
   "metadata": {},
   "outputs": [
    {
     "name": "stdout",
     "output_type": "stream",
     "text": [
      "0      False\n",
      "1      False\n",
      "2      False\n",
      "3      False\n",
      "4      False\n",
      "       ...  \n",
      "99     False\n",
      "100    False\n",
      "101    False\n",
      "102    False\n",
      "103    False\n",
      "Name: Weeks of Vacation, Length: 104, dtype: bool\n"
     ]
    }
   ],
   "source": [
    "# Your code here\n",
    "\n",
    "# your code here\n",
    "\n",
    "# Create a mask for null values in the \"Weeks of Vacation\" column\n",
    "invalid_vacation = df['Weeks of Vacation'].isnull()\n",
    "\n",
    "# Assign 0 to the null values\n",
    "df.loc[invalid_vacation, 'Weeks of Vacation'] = 0\n",
    "\n",
    "print(invalid_vacation)"
   ]
  },
  {
   "cell_type": "code",
   "execution_count": 9,
   "id": "65af74fa-f362-451b-ba39-8efd860aeb4b",
   "metadata": {},
   "outputs": [],
   "source": [
    "# Question 3 Grading Checks\n",
    "\n",
    "assert isinstance(invalid_vacation, pd.Series), 'Have you created a Series named invalid_vacation?'"
   ]
  },
  {
   "cell_type": "code",
   "execution_count": null,
   "id": "d485d909-6b3a-4259-9c32-c9eed24be57b",
   "metadata": {},
   "outputs": [],
   "source": []
  }
 ],
 "metadata": {
  "kernelspec": {
   "display_name": "Python 3 (ipykernel)",
   "language": "python",
   "name": "python3"
  },
  "language_info": {
   "codemirror_mode": {
    "name": "ipython",
    "version": 3
   },
   "file_extension": ".py",
   "mimetype": "text/x-python",
   "name": "python",
   "nbconvert_exporter": "python",
   "pygments_lexer": "ipython3",
   "version": "3.12.4"
  }
 },
 "nbformat": 4,
 "nbformat_minor": 5
}
