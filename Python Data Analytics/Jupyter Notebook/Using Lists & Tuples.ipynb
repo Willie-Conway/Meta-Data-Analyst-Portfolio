{
 "cells": [
  {
   "cell_type": "markdown",
   "id": "4edcf578-4d0d-457a-bc13-e7e517233481",
   "metadata": {},
   "source": [
    "# Activity: Using Lists & Tuples\n",
    "\n",
    "## Introduction\n",
    "\n",
    "In this activity you will practice using and creating lists and tuples.\n",
    "This activity contains the following topics:\n",
    "- Creating lists\n",
    "- Creating tuples\n",
    "- Indexing\n",
    "- Slicing\n",
    "- List methods\n",
    "- Unpacking\n"
   ]
  },
  {
   "cell_type": "markdown",
   "id": "7101b9ed-a7d1-4f24-958d-447d4f48b9a3",
   "metadata": {},
   "source": [
    "#### Question 1\n",
    "\n",
    "Create a list called `countries` with the names of 5 different countries of your choice."
   ]
  },
  {
   "cell_type": "code",
   "execution_count": 11,
   "id": "15edb49b-b83b-412f-9db8-086a3ed8bc73",
   "metadata": {},
   "outputs": [
    {
     "name": "stdout",
     "output_type": "stream",
     "text": [
      "['USA', 'Canada', 'Germany', 'Japan', 'Australia']\n"
     ]
    }
   ],
   "source": [
    "# Your code here\n",
    "\n",
    "# Your code here\n",
    "countries = ['USA', 'Canada', 'Germany', 'Japan', 'Australia']  # You can choose any countries\n",
    "\n",
    "print(countries)"
   ]
  },
  {
   "cell_type": "code",
   "execution_count": 12,
   "id": "b801ee90-472e-4775-ad8d-37f8be7195f8",
   "metadata": {},
   "outputs": [],
   "source": [
    "# Question 1 Grading Checks\n",
    "\n",
    "assert isinstance(countries, list), 'Your variable is not a list'"
   ]
  },
  {
   "cell_type": "markdown",
   "id": "b45a32e2-59bb-451b-8a00-53e1c74a3a6d",
   "metadata": {},
   "source": [
    "#### Question 2\n",
    "\n",
    "Using the `countries` list, assign the first and last countries in the list to the variables `first_country` and `last_country` respectively."
   ]
  },
  {
   "cell_type": "code",
   "execution_count": 13,
   "id": "edf36482-dc39-4808-9217-a3edec7e8ce2",
   "metadata": {},
   "outputs": [
    {
     "name": "stdout",
     "output_type": "stream",
     "text": [
      "USA\n",
      "Australia\n"
     ]
    }
   ],
   "source": [
    "# Your code here\n",
    "\n",
    "# Your code here\n",
    "first_country = countries[0]  # First country\n",
    "last_country = countries[-1]   # Last country\n",
    "\n",
    "print(first_country)\n",
    "print(last_country)"
   ]
  },
  {
   "cell_type": "code",
   "execution_count": 14,
   "id": "732de3c9-3763-4818-964a-fcec9c798dd2",
   "metadata": {},
   "outputs": [],
   "source": [
    "# Question 2 Grading Checks\n",
    "\n",
    "assert isinstance(first_country, str), 'Your variable is not a string'\n",
    "assert isinstance(last_country, str), 'Your variable is not a string'"
   ]
  },
  {
   "cell_type": "markdown",
   "id": "5bd63f08-26ab-40e2-a15c-2c4f839f5e7a",
   "metadata": {},
   "source": [
    "#### Question 3\n",
    "\n",
    "Using the `countries` list, add a country to the end of the list and then assign the last 3 countries to a variable called `last_three_countries`."
   ]
  },
  {
   "cell_type": "code",
   "execution_count": 15,
   "id": "3b2c4a95-d64a-4990-8bcc-7c1405dbcf3a",
   "metadata": {},
   "outputs": [
    {
     "name": "stdout",
     "output_type": "stream",
     "text": [
      "['Japan', 'Australia', 'Brazil']\n"
     ]
    }
   ],
   "source": [
    "# Your code here\n",
    "\n",
    "# Your code here\n",
    "countries.append('Brazil')  # Adding a country to the end of the list\n",
    "last_three_countries = countries[-3:]  # Last three countries\n",
    "\n",
    "print(last_three_countries)\n"
   ]
  },
  {
   "cell_type": "code",
   "execution_count": 16,
   "id": "87093d05-10e9-4026-be3f-f1d0c13a9c4b",
   "metadata": {},
   "outputs": [],
   "source": [
    "# Question 3 Grading Checks\n",
    "\n",
    "assert isinstance(last_three_countries, list), 'Your variable is not a list'"
   ]
  },
  {
   "cell_type": "markdown",
   "id": "62aecf10-0b76-4c47-989e-fb590c6746d0",
   "metadata": {},
   "source": [
    "#### Question 4\n",
    "\n",
    "You're given a tuple containing superheroes, unpack the tuple into variables `superman`, `batman`, and `black_panther`"
   ]
  },
  {
   "cell_type": "code",
   "execution_count": 17,
   "id": "83eef293-1c91-481e-bc5d-daab541fe073",
   "metadata": {},
   "outputs": [],
   "source": [
    "# Given tuple\n",
    "\n",
    "superheroes = ('Superman', 'Batman', 'Black Panther')"
   ]
  },
  {
   "cell_type": "code",
   "execution_count": 18,
   "id": "dd0da438-092e-4639-b64c-9faaed9b614f",
   "metadata": {},
   "outputs": [
    {
     "name": "stdout",
     "output_type": "stream",
     "text": [
      "Superman\n",
      "Batman\n",
      "Black Panther\n"
     ]
    }
   ],
   "source": [
    "# Your code here\n",
    "\n",
    "# Your code here\n",
    "superman, batman, black_panther = superheroes  # Unpacking the tuple\n",
    "\n",
    "print(superman)\n",
    "print(batman)\n",
    "print(black_panther)"
   ]
  },
  {
   "cell_type": "code",
   "execution_count": 19,
   "id": "efb25dc9-a811-4624-9d12-9b5ae0bebff4",
   "metadata": {},
   "outputs": [],
   "source": [
    "# Question 6 Grading Checks\n",
    "\n",
    "assert isinstance(superman, str), 'Your variable is not a string'\n",
    "assert isinstance(batman, str), 'Your variable is not a string'\n",
    "assert isinstance(black_panther, str), 'Your variable is not a string'"
   ]
  }
 ],
 "metadata": {
  "kernelspec": {
   "display_name": "Python 3 (ipykernel)",
   "language": "python",
   "name": "python3"
  },
  "language_info": {
   "codemirror_mode": {
    "name": "ipython",
    "version": 3
   },
   "file_extension": ".py",
   "mimetype": "text/x-python",
   "name": "python",
   "nbconvert_exporter": "python",
   "pygments_lexer": "ipython3",
   "version": "3.12.4"
  }
 },
 "nbformat": 4,
 "nbformat_minor": 5
}
