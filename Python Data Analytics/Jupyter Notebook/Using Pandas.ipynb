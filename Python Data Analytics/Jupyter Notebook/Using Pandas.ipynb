{
 "cells": [
  {
   "cell_type": "markdown",
   "id": "d5e5b612-d478-4648-83d4-ea07f1cff049",
   "metadata": {},
   "source": [
    "# Activity: Using Pandas\n",
    "\n",
    "## Introduction\n",
    "\n",
    "In this activity you will practice using some of the basic functionality associated with Pandas.\n",
    "This activity will cover the following topics:\n",
    "- Creating a `DataFrame`\n",
    "- Displaying `DataFrame` information\n",
    "- Accessing column data\n",
    "- Getting ranges of column data\n",
    "- Creating Series from dictionaries\n",
    "- Using the `iloc()` and `loc()` methods\n",
    "- Getting data from multiple columns\n",
    "- Getting rows"
   ]
  },
  {
   "cell_type": "markdown",
   "id": "a10cee6c-8959-435a-b776-228562148720",
   "metadata": {},
   "source": [
    "#### Question 1\n",
    "\n",
    "Create a DataFrame called `df` from the given CSV file `student_data.csv` then using the `df` DataFrame, assign the `Name` column to a `Series` called `names`."
   ]
  },
  {
   "cell_type": "code",
   "execution_count": 1,
   "id": "803ab735-dfe4-4a30-90aa-cdf283f9873e",
   "metadata": {},
   "outputs": [
    {
     "name": "stdout",
     "output_type": "stream",
     "text": [
      "                Name  Age  Math Grade  English Grade\n",
      "0   Jennifer Jackson   14          84             81\n",
      "1    Michael Johnson   14          92             85\n",
      "2         Robert Lee   18          87             80\n",
      "3       Linda Harris   13          90             77\n",
      "4      Michael Moore   18          88             99\n",
      "..               ...  ...         ...            ...\n",
      "70   William Johnson   17          99             75\n",
      "71       Linda Smith   18          92             83\n",
      "72      Jennifer Lee   17          75             88\n",
      "73    Michael Miller   12          86             84\n",
      "74     Emily Johnson   13          94            100\n",
      "\n",
      "[75 rows x 4 columns]\n",
      "0     Jennifer Jackson\n",
      "1      Michael Johnson\n",
      "2           Robert Lee\n",
      "3         Linda Harris\n",
      "4        Michael Moore\n",
      "            ...       \n",
      "70     William Johnson\n",
      "71         Linda Smith\n",
      "72        Jennifer Lee\n",
      "73      Michael Miller\n",
      "74       Emily Johnson\n",
      "Name: Name, Length: 75, dtype: object\n"
     ]
    }
   ],
   "source": [
    "import pandas as pd\n",
    "# Your code here\n",
    "\n",
    "# your code here\n",
    "\n",
    "# Create a DataFrame called df from the given CSV file\n",
    "df = pd.read_csv('csv/student_data.csv')\n",
    "\n",
    "# Assign the Name column to a Series called names\n",
    "names = df['Name']\n",
    "\n",
    "print(df)\n",
    "print(names)"
   ]
  },
  {
   "cell_type": "code",
   "execution_count": 2,
   "id": "b057e117-250d-4a8c-ae3c-6d3fe49692ba",
   "metadata": {},
   "outputs": [],
   "source": [
    "# Question 1 Grading Checks\n",
    "\n",
    "assert isinstance(df, pd.DataFrame), \"Did you create a DataFrame called df?\"\n",
    "assert isinstance(names, pd.Series), \"Did you assign the Name column in a variable called names?\""
   ]
  },
  {
   "cell_type": "markdown",
   "id": "ea8ebe58-4f5e-4240-805a-877168694ad8",
   "metadata": {},
   "source": [
    "#### Question 2\n",
    "\n",
    "Using the `df` DataFrame, assign the `Age` and `Math Grade` columns to a DataFrame called `age_math`."
   ]
  },
  {
   "cell_type": "code",
   "execution_count": 3,
   "id": "bdd35aaa-9927-4f3a-b8bb-5f685060c341",
   "metadata": {},
   "outputs": [
    {
     "name": "stdout",
     "output_type": "stream",
     "text": [
      "    Age  Math Grade\n",
      "0    14          84\n",
      "1    14          92\n",
      "2    18          87\n",
      "3    13          90\n",
      "4    18          88\n",
      "..  ...         ...\n",
      "70   17          99\n",
      "71   18          92\n",
      "72   17          75\n",
      "73   12          86\n",
      "74   13          94\n",
      "\n",
      "[75 rows x 2 columns]\n"
     ]
    }
   ],
   "source": [
    "# Your code here\n",
    "\n",
    "# your code here\n",
    "\n",
    "# Assign the Age and Math Grade columns to a DataFrame called age_math\n",
    "age_math = df[['Age', 'Math Grade']]\n",
    "\n",
    "print(age_math)"
   ]
  },
  {
   "cell_type": "code",
   "execution_count": 4,
   "id": "e5be8321-fb7d-457d-9dd7-c978d47e5208",
   "metadata": {},
   "outputs": [],
   "source": [
    "# Question 2 Grading Checks\n",
    "\n",
    "assert isinstance(age_math, pd.DataFrame), \"Did you assign the Age and Math Grade columns to a variable called age_math?\""
   ]
  },
  {
   "cell_type": "markdown",
   "id": "930951f0-93f2-41ed-a5ef-c312e9fe4b75",
   "metadata": {},
   "source": [
    "#### Question 3\n",
    "\n",
    "Using the `.loc()` method, assign the `Age` and `Math Grade` columns for the first 30 rows of `df` to a variable called `first_thirty_loc`."
   ]
  },
  {
   "cell_type": "code",
   "execution_count": 5,
   "id": "1417729b-8ecf-4616-8520-50ca0a02adbc",
   "metadata": {},
   "outputs": [
    {
     "name": "stdout",
     "output_type": "stream",
     "text": [
      "    Age  Math Grade\n",
      "0    14          84\n",
      "1    14          92\n",
      "2    18          87\n",
      "3    13          90\n",
      "4    18          88\n",
      "5    12          96\n",
      "6    18          95\n",
      "7    16          85\n",
      "8    18          91\n",
      "9    18          84\n",
      "10   17          91\n",
      "11   17          79\n",
      "12   17          75\n",
      "13   16          93\n",
      "14   15          89\n",
      "15   13         100\n",
      "16   14          91\n",
      "17   13          99\n",
      "18   12          85\n",
      "19   14          95\n",
      "20   18          92\n",
      "21   15          89\n",
      "22   12          84\n",
      "23   16          96\n",
      "24   12          86\n",
      "25   17          94\n",
      "26   15          88\n",
      "27   12          80\n",
      "28   13          82\n",
      "29   17          85\n"
     ]
    }
   ],
   "source": [
    "# Your code here\n",
    "\n",
    "# your code here\n",
    "\n",
    "# Using the .loc() method, assign the Age and Math Grade columns for the first 30 rows of df\n",
    "first_thirty_loc = df.loc[:29, ['Age', 'Math Grade']]  # 0 to 29 corresponds to the first 30 rows\n",
    "\n",
    "print(first_thirty_loc)"
   ]
  },
  {
   "cell_type": "code",
   "execution_count": 6,
   "id": "f970e99c-e058-4245-a5d5-0e30d0d9cb23",
   "metadata": {},
   "outputs": [],
   "source": [
    "# Question 3 Grading Checks\n",
    "\n",
    "assert isinstance(first_thirty_loc, pd.DataFrame), \"Did you correctly assign the first 30 rows to a variable called first_thirty_loc?\""
   ]
  },
  {
   "cell_type": "markdown",
   "id": "7bc103b4-c608-4b0f-a8dc-7e38146d7ae3",
   "metadata": {},
   "source": [
    "#### Question 4\n",
    "\n",
    "Get the even numbered rows from the `Name` and `English Grade` columns and assign the result to a variable called `even_rows_english`."
   ]
  },
  {
   "cell_type": "code",
   "execution_count": 7,
   "id": "4337536f-7b5b-426c-b5fb-d2ca20abf569",
   "metadata": {},
   "outputs": [
    {
     "name": "stdout",
     "output_type": "stream",
     "text": [
      "                   Name  English Grade\n",
      "0      Jennifer Jackson             81\n",
      "2            Robert Lee             80\n",
      "4         Michael Moore             99\n",
      "6           Sarah Smith             90\n",
      "8         Linda Jackson             79\n",
      "10          Jane Thomas             77\n",
      "12           Jane Brown             89\n",
      "14       Michael Wilson             86\n",
      "16           Mary Jones             76\n",
      "18      Jennifer Miller             85\n",
      "20         Susan Wilson             97\n",
      "22          Emily Moore             81\n",
      "24           John Moore            100\n",
      "26          Jane Miller             98\n",
      "28           John Moore             87\n",
      "30          Michael Lee             77\n",
      "32     Jennifer Johnson             86\n",
      "34         Susan Miller             88\n",
      "36      William Jackson             93\n",
      "38        Michael Davis             84\n",
      "40         Sarah Harris             99\n",
      "42    Christopher Moore             83\n",
      "44      Christopher Lee             91\n",
      "46             John Lee             81\n",
      "48        Michael Davis             93\n",
      "50           Jane White             92\n",
      "52       William Wilson             90\n",
      "54          David Moore             86\n",
      "56       Jennifer Davis             95\n",
      "58          Linda Davis             78\n",
      "60         Daniel Jones             83\n",
      "62   Christopher Miller             76\n",
      "64        Emily Johnson             82\n",
      "66          Karen Moore             92\n",
      "68  Christopher Jackson             99\n",
      "70      William Johnson             75\n",
      "72         Jennifer Lee             88\n",
      "74        Emily Johnson            100\n"
     ]
    }
   ],
   "source": [
    "# Your code here\n",
    "\n",
    "# your code here\n",
    "\n",
    "# Get the even numbered rows from the Name and English Grade columns\n",
    "even_rows_english = df.loc[::2, ['Name', 'English Grade']]  # Select every second row (even indexed)\n",
    "\n",
    "print(even_rows_english)"
   ]
  },
  {
   "cell_type": "code",
   "execution_count": 8,
   "id": "c28c6196-63df-4c8e-93ed-6ee818b5abbf",
   "metadata": {},
   "outputs": [],
   "source": [
    "# Question 4 Grading Checks\n",
    "\n",
    "assert isinstance(even_rows_english, pd.DataFrame), \"Did you correctly assign even numbered rows to a variable called even_rows_english? Hint: the first row is index 0.\""
   ]
  }
 ],
 "metadata": {
  "kernelspec": {
   "display_name": "Python 3 (ipykernel)",
   "language": "python",
   "name": "python3"
  },
  "language_info": {
   "codemirror_mode": {
    "name": "ipython",
    "version": 3
   },
   "file_extension": ".py",
   "mimetype": "text/x-python",
   "name": "python",
   "nbconvert_exporter": "python",
   "pygments_lexer": "ipython3",
   "version": "3.12.4"
  }
 },
 "nbformat": 4,
 "nbformat_minor": 5
}
