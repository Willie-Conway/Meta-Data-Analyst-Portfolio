{
 "cells": [
  {
   "cell_type": "markdown",
   "id": "c10b07ad",
   "metadata": {},
   "source": [
    "# AB Testing"
   ]
  },
  {
   "cell_type": "code",
   "execution_count": 1,
   "id": "31608895-46c0-47bb-b1ed-de2e36220ccc",
   "metadata": {},
   "outputs": [
    {
     "name": "stdout",
     "output_type": "stream",
     "text": [
      "Conversion Rates:\n",
      " color_scheme\n",
      "blue    0.390658\n",
      "red     0.328922\n",
      "Name: conversion, dtype: float64\n",
      "Reject the null hypothesis (p-value = 0.0492). There is a significant difference in conversion rates.\n"
     ]
    }
   ],
   "source": [
    "# AB_Testing_Review.py\n",
    "\n",
    "import pandas as pd\n",
    "import numpy as np\n",
    "from scipy import stats\n",
    "\n",
    "# Task 1: Create a CSV file with simulated data\n",
    "data = {\n",
    "    'color_scheme': np.random.choice(['red', 'blue'], size=1000),\n",
    "    'conversion': np.random.choice([0, 1], size=1000, p=[0.7, 0.3])  # 30% conversion rate for example\n",
    "}\n",
    "\n",
    "# Introduce bias towards blue for demonstration\n",
    "data['conversion'][data['color_scheme'] == 'blue'] = np.random.choice([0, 1], size=(data['color_scheme'] == 'blue').sum(), p=[0.6, 0.4])  # 40% conversion rate for blue\n",
    "\n",
    "df = pd.DataFrame(data)\n",
    "df.to_csv('website_color_test.csv', index=False)\n",
    "\n",
    "# Task 2: Load the data\n",
    "df = pd.read_csv('website_color_test.csv')\n",
    "\n",
    "# Task 3: Formulate Hypotheses\n",
    "# H0: There is no difference in conversion rates between red and blue.\n",
    "# H1: There is a difference in conversion rates between red and blue.\n",
    "\n",
    "# Task 4: Perform the A/B Test\n",
    "# Group by color scheme and calculate conversion rates\n",
    "conversion_rates = df.groupby('color_scheme')['conversion'].mean()\n",
    "print(\"Conversion Rates:\\n\", conversion_rates)\n",
    "\n",
    "# Perform Chi-squared test\n",
    "contingency_table = pd.crosstab(df['color_scheme'], df['conversion'])\n",
    "chi2, p, dof, expected = stats.chi2_contingency(contingency_table)\n",
    "\n",
    "# Task 5: Interpret Results\n",
    "alpha = 0.05  # significance level\n",
    "if p < alpha:\n",
    "    print(f\"Reject the null hypothesis (p-value = {p:.4f}). There is a significant difference in conversion rates.\")\n",
    "else:\n",
    "    print(f\"Fail to reject the null hypothesis (p-value = {p:.4f}). There is no significant difference in conversion rates.\")\n"
   ]
  }
 ],
 "metadata": {
  "kernelspec": {
   "display_name": ".venv",
   "language": "python",
   "name": "python3"
  },
  "language_info": {
   "codemirror_mode": {
    "name": "ipython",
    "version": 3
   },
   "file_extension": ".py",
   "mimetype": "text/x-python",
   "name": "python",
   "nbconvert_exporter": "python",
   "pygments_lexer": "ipython3",
   "version": "3.12.4"
  }
 },
 "nbformat": 4,
 "nbformat_minor": 5
}
