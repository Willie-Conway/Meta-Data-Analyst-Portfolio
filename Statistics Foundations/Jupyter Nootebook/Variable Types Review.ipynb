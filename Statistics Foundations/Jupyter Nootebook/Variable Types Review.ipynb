{
 "cells": [
  {
   "cell_type": "markdown",
   "id": "5fa85e68-6cda-4f6f-879a-70ea2b8e5329",
   "metadata": {},
   "source": [
    "# Variable Types Review"
   ]
  },
  {
   "cell_type": "markdown",
   "id": "fd7ef818-f3ac-4e6b-81de-dc6fe5543859",
   "metadata": {},
   "source": [
    "![Variable](Images/Variable.png)"
   ]
  },
  {
   "cell_type": "markdown",
   "id": "0a267ae5-3abf-4a04-93f7-2f4f1a8e3fff",
   "metadata": {},
   "source": [
    "![Variable Types](Images/Variable_Types.png)"
   ]
  },
  {
   "cell_type": "markdown",
   "id": "cbde1369-7c1f-44ca-87a6-b9d55de8ee3e",
   "metadata": {},
   "source": [
    "### Import libraries"
   ]
  },
  {
   "cell_type": "code",
   "execution_count": 1,
   "id": "66e8a872-b53a-48d9-aaae-2efeb283d61e",
   "metadata": {},
   "outputs": [],
   "source": [
    "import pandas as pd\n",
    "import numpy as np\n",
    "import matplotlib.pyplot as plt\n",
    "import seaborn as sns"
   ]
  },
  {
   "cell_type": "markdown",
   "id": "f603b575-a8b1-4368-a621-e95264678914",
   "metadata": {},
   "source": [
    "### Set the random seed for reproducibility"
   ]
  },
  {
   "cell_type": "code",
   "execution_count": 2,
   "id": "5f4200d6-8132-42df-b58e-e28c8ee981d4",
   "metadata": {},
   "outputs": [],
   "source": [
    "np.random.seed(42)"
   ]
  },
  {
   "cell_type": "markdown",
   "id": "b96e9160-8070-4a2c-9d19-f166db780e7e",
   "metadata": {},
   "source": [
    "## Generate a dataset of customer ages (Discrete Quantitative Variable)"
   ]
  },
  {
   "cell_type": "markdown",
   "id": "25d8589b-0754-49b2-ac76-e5f6318272d4",
   "metadata": {},
   "source": [
    "### Creating 100 random ages between 18 and 70"
   ]
  },
  {
   "cell_type": "code",
   "execution_count": 3,
   "id": "c45708bf-879a-4839-97c1-5b30fef40194",
   "metadata": {},
   "outputs": [],
   "source": [
    "customer_ages = np.random.randint(18, 71, size=100)"
   ]
  },
  {
   "cell_type": "markdown",
   "id": "dc695d92-d381-41d7-bb4c-6f9719347a09",
   "metadata": {},
   "source": [
    "### Create a DataFrame"
   ]
  },
  {
   "cell_type": "code",
   "execution_count": 4,
   "id": "86105458-1d0a-48ca-837f-78af4d575727",
   "metadata": {},
   "outputs": [],
   "source": [
    "df = pd.DataFrame({\n",
    "    'Customer Age': customer_ages\n",
    "})\n"
   ]
  },
  {
   "cell_type": "markdown",
   "id": "f72dd65a-7cae-45d4-bd15-6273ead9f70e",
   "metadata": {},
   "source": [
    "### Define age groups (Ordinal Qualitative Variable)"
   ]
  },
  {
   "cell_type": "code",
   "execution_count": 5,
   "id": "8050461d-7eae-481f-b188-eff3f95a0c25",
   "metadata": {},
   "outputs": [],
   "source": [
    "bins = [17, 24, 34, 44, 54, 64, 70]\n",
    "labels = ['18-24', '25-34', '35-44', '45-54', '55-64', '65-70']\n",
    "df['Age Group'] = pd.cut(df['Customer Age'], bins=bins, labels=labels)"
   ]
  },
  {
   "cell_type": "markdown",
   "id": "21f56f7c-7be3-4ae2-b605-6672a52abaf7",
   "metadata": {},
   "source": [
    "### Calculate the average age for customers in each age group (Continuous Quantitative Variable)"
   ]
  },
  {
   "cell_type": "code",
   "execution_count": 12,
   "id": "8af799d7-c849-4364-944c-e07e1ca35976",
   "metadata": {},
   "outputs": [
    {
     "name": "stdout",
     "output_type": "stream",
     "text": [
      "  Age Group  Average Age of Customers 1-10\n",
      "0     18-24                      20.833333\n",
      "1     25-34                      29.421053\n",
      "2     35-44                      39.625000\n",
      "3     45-54                      49.461538\n",
      "4     55-64                      59.750000\n",
      "5     65-70                      68.250000\n"
     ]
    },
    {
     "name": "stderr",
     "output_type": "stream",
     "text": [
      "C:\\Users\\hirew\\AppData\\Local\\Temp\\ipykernel_16976\\1517400375.py:1: FutureWarning: The default of observed=False is deprecated and will be changed to True in a future version of pandas. Pass observed=False to retain current behavior or observed=True to adopt the future default and silence this warning.\n",
      "  average_age = df.groupby('Age Group')['Customer Age'].mean().reset_index(name='Average Age of Customers 1-10')\n"
     ]
    }
   ],
   "source": [
    "average_age = df.groupby('Age Group')['Customer Age'].mean().reset_index(name='Average Age of Customers 1-10')\n",
    "print(average_age)"
   ]
  },
  {
   "cell_type": "markdown",
   "id": "9deb11c2-b88c-40e8-bac9-4be6dbfb8420",
   "metadata": {},
   "source": [
    "### Display the DataFrame and average age DataFrame"
   ]
  },
  {
   "cell_type": "code",
   "execution_count": 7,
   "id": "51d3abc8-889b-45aa-9d38-6dfad0e50654",
   "metadata": {},
   "outputs": [
    {
     "name": "stdout",
     "output_type": "stream",
     "text": [
      "Customer Age DataFrame:\n",
      "    Customer Age Age Group\n",
      "0             56     55-64\n",
      "1             69     65-70\n",
      "2             46     45-54\n",
      "3             32     25-34\n",
      "4             60     55-64\n",
      "..           ...       ...\n",
      "95            64     55-64\n",
      "96            70     65-70\n",
      "97            41     35-44\n",
      "98            43     35-44\n",
      "99            42     35-44\n",
      "\n",
      "[100 rows x 2 columns]\n",
      "\n",
      "Average Age of Customers 1-10:\n",
      "  Age Group  Average Age of Customers 1-10\n",
      "0     18-24                      20.833333\n",
      "1     25-34                      29.421053\n",
      "2     35-44                      39.625000\n",
      "3     45-54                      49.461538\n",
      "4     55-64                      59.750000\n",
      "5     65-70                      68.250000\n"
     ]
    }
   ],
   "source": [
    "print(\"Customer Age DataFrame:\")\n",
    "print(df)\n",
    "print(\"\\nAverage Age of Customers 1-10:\")\n",
    "print(average_age)"
   ]
  },
  {
   "cell_type": "markdown",
   "id": "70d2e785-5a8c-44af-a4cc-b8bc078fea26",
   "metadata": {},
   "source": [
    "### Visualizing the data"
   ]
  },
  {
   "cell_type": "code",
   "execution_count": 8,
   "id": "6c137fa4-795f-41f2-818c-7df00623e243",
   "metadata": {},
   "outputs": [
    {
     "data": {
      "text/plain": [
       "<Figure size 1200x600 with 0 Axes>"
      ]
     },
     "execution_count": 8,
     "metadata": {},
     "output_type": "execute_result"
    },
    {
     "data": {
      "text/plain": [
       "<Figure size 1200x600 with 0 Axes>"
      ]
     },
     "metadata": {},
     "output_type": "display_data"
    }
   ],
   "source": [
    "plt.figure(figsize=(12, 6))"
   ]
  },
  {
   "cell_type": "markdown",
   "id": "02a84925-c616-4234-81b1-b965eef7d691",
   "metadata": {},
   "source": [
    "### Histogram for Customer Age (Quantitative Variable)"
   ]
  },
  {
   "cell_type": "code",
   "execution_count": 9,
   "id": "59c10a67-b7e1-4675-9124-0461e7fab7bc",
   "metadata": {},
   "outputs": [
    {
     "data": {
      "text/plain": [
       "Text(0, 0.5, 'Frequency')"
      ]
     },
     "execution_count": 9,
     "metadata": {},
     "output_type": "execute_result"
    },
    {
     "data": {
      "image/png": "[encoded data removed]",
      "text/plain": [
       "<Figure size 640x480 with 1 Axes>"
      ]
     },
     "metadata": {},
     "output_type": "display_data"
    }
   ],
   "source": [
    "plt.subplot(1, 2, 1)\n",
    "sns.histplot(df['Customer Age'], bins=10, kde=True)\n",
    "plt.title('Histogram of Customer Age')\n",
    "plt.xlabel('Age')\n",
    "plt.ylabel('Frequency')"
   ]
  },
  {
   "cell_type": "markdown",
   "id": "9530a895-2ee7-41b5-ac05-c687d71820f4",
   "metadata": {},
   "source": [
    "### Bar plot for Average Age by Age Group (Ordinal Qualitative Variable)"
   ]
  },
  {
   "cell_type": "code",
   "execution_count": 10,
   "id": "e666d995-7c81-4bec-9e84-6286a734bcdd",
   "metadata": {},
   "outputs": [
    {
     "name": "stderr",
     "output_type": "stream",
     "text": [
      "C:\\Users\\hirew\\AppData\\Local\\Temp\\ipykernel_16976\\1957489207.py:2: FutureWarning: \n",
      "\n",
      "Passing `palette` without assigning `hue` is deprecated and will be removed in v0.14.0. Assign the `x` variable to `hue` and set `legend=False` for the same effect.\n",
      "\n",
      "  sns.barplot(x='Age Group', y='Average Age of Customers 1-10', data=average_age, palette='viridis')\n"
     ]
    },
    {
     "data": {
      "image/png": "[encoded data removed]",
      "text/plain": [
       "<Figure size 640x480 with 1 Axes>"
      ]
     },
     "metadata": {},
     "output_type": "display_data"
    }
   ],
   "source": [
    "plt.subplot(1, 2, 2)\n",
    "sns.barplot(x='Age Group', y='Average Age of Customers 1-10', data=average_age, palette='viridis')\n",
    "plt.title('Average Age of Customers by Age Group')\n",
    "plt.xlabel('Age Group')\n",
    "plt.ylabel('Average Age')\n",
    "\n",
    "plt.tight_layout()\n",
    "plt.show()"
   ]
  },
  {
   "cell_type": "markdown",
   "id": "3be40a0b-5be2-4c1e-a2dc-8fec2cca173c",
   "metadata": {},
   "source": [
    "### Variable Types Summary"
   ]
  },
  {
   "cell_type": "code",
   "execution_count": 11,
   "id": "809ac58b-d2c0-46f8-a0d4-4c7488f7dd9f",
   "metadata": {},
   "outputs": [
    {
     "name": "stdout",
     "output_type": "stream",
     "text": [
      "\n",
      "Quantitative Variables:\n",
      "1. Customer Age (Discrete)\n",
      "2. Average Age of Customers 1-10 (Continuous)\n",
      "\n",
      "Qualitative Variables:\n",
      "1. Age Group (Ordinal)\n"
     ]
    }
   ],
   "source": [
    "print(\"\\nQuantitative Variables:\")\n",
    "print(\"1. Customer Age (Discrete)\")\n",
    "print(\"2. Average Age of Customers 1-10 (Continuous)\")\n",
    "\n",
    "print(\"\\nQualitative Variables:\")\n",
    "print(\"1. Age Group (Ordinal)\")"
   ]
  }
 ],
 "metadata": {
  "kernelspec": {
   "display_name": "Python 3 (ipykernel)",
   "language": "python",
   "name": "python3"
  },
  "language_info": {
   "codemirror_mode": {
    "name": "ipython",
    "version": 3
   },
   "file_extension": ".py",
   "mimetype": "text/x-python",
   "name": "python",
   "nbconvert_exporter": "python",
   "pygments_lexer": "ipython3",
   "version": "3.12.4"
  }
 },
 "nbformat": 4,
 "nbformat_minor": 5
}
