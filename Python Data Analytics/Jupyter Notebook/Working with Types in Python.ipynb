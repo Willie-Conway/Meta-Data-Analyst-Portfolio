{
 "cells": [
  {
   "cell_type": "markdown",
   "id": "a4096212-b7f4-4ff6-b427-d2833b30592c",
   "metadata": {},
   "source": [
    "## Checking Types"
   ]
  },
  {
   "cell_type": "code",
   "execution_count": 1,
   "id": "109b32f8-03aa-403e-a510-4f65fb199362",
   "metadata": {},
   "outputs": [
    {
     "ename": "TypeError",
     "evalue": "type() takes 1 or 3 arguments",
     "output_type": "error",
     "traceback": [
      "\u001b[1;31m---------------------------------------------------------------------------\u001b[0m",
      "\u001b[1;31mTypeError\u001b[0m                                 Traceback (most recent call last)",
      "Cell \u001b[1;32mIn[1], line 1\u001b[0m\n\u001b[1;32m----> 1\u001b[0m \u001b[38;5;28;43mtype\u001b[39;49m\u001b[43m(\u001b[49m\u001b[43m)\u001b[49m\n",
      "\u001b[1;31mTypeError\u001b[0m: type() takes 1 or 3 arguments"
     ]
    }
   ],
   "source": [
    "type()"
   ]
  },
  {
   "cell_type": "code",
   "execution_count": 2,
   "id": "15fbf0b5-1c98-4675-a10e-ff88cd8ef7fc",
   "metadata": {},
   "outputs": [
    {
     "data": {
      "text/plain": [
       "int"
      ]
     },
     "execution_count": 2,
     "metadata": {},
     "output_type": "execute_result"
    }
   ],
   "source": [
    "my_int = 27\n",
    "type(my_int)"
   ]
  },
  {
   "cell_type": "code",
   "execution_count": 3,
   "id": "3b9b94e9-6253-4afb-9d34-de68fe42c381",
   "metadata": {},
   "outputs": [
    {
     "data": {
      "text/plain": [
       "float"
      ]
     },
     "execution_count": 3,
     "metadata": {},
     "output_type": "execute_result"
    }
   ],
   "source": [
    "my_float = 5.24\n",
    "type(my_float)"
   ]
  },
  {
   "cell_type": "code",
   "execution_count": 4,
   "id": "4165fe9f-5043-49d1-b8b9-7202fadd3146",
   "metadata": {},
   "outputs": [
    {
     "data": {
      "text/plain": [
       "str"
      ]
     },
     "execution_count": 4,
     "metadata": {},
     "output_type": "execute_result"
    }
   ],
   "source": [
    "my_str = '27'\n",
    "type(my_str)"
   ]
  },
  {
   "cell_type": "code",
   "execution_count": 5,
   "id": "1c5e3d12-5ef6-4a32-9921-5e3f417863ab",
   "metadata": {},
   "outputs": [
    {
     "data": {
      "text/plain": [
       "bool"
      ]
     },
     "execution_count": 5,
     "metadata": {},
     "output_type": "execute_result"
    }
   ],
   "source": [
    "my_bool = True\n",
    "type(my_bool)"
   ]
  },
  {
   "cell_type": "markdown",
   "id": "96b9910e-8ce9-4862-8616-5ed55cb83b3c",
   "metadata": {},
   "source": [
    "## Casting Types"
   ]
  },
  {
   "cell_type": "markdown",
   "id": "f54258ec-845c-42f3-9b3e-7fddfa08f7a8",
   "metadata": {},
   "source": [
    "#### `int()`"
   ]
  },
  {
   "cell_type": "code",
   "execution_count": 6,
   "id": "59617a49-a476-4a06-a674-248a876e5b41",
   "metadata": {},
   "outputs": [
    {
     "data": {
      "text/plain": [
       "2"
      ]
     },
     "execution_count": 6,
     "metadata": {},
     "output_type": "execute_result"
    }
   ],
   "source": [
    "int('2')"
   ]
  },
  {
   "cell_type": "code",
   "execution_count": 7,
   "id": "f5d95b47-4f80-4994-9b41-631d5460db05",
   "metadata": {},
   "outputs": [
    {
     "data": {
      "text/plain": [
       "3"
      ]
     },
     "execution_count": 7,
     "metadata": {},
     "output_type": "execute_result"
    }
   ],
   "source": [
    "int(3.2)"
   ]
  },
  {
   "cell_type": "code",
   "execution_count": 8,
   "id": "b9791d9f-7133-4685-8275-088a8a2264e2",
   "metadata": {},
   "outputs": [
    {
     "data": {
      "text/plain": [
       "1"
      ]
     },
     "execution_count": 8,
     "metadata": {},
     "output_type": "execute_result"
    }
   ],
   "source": [
    "int(True)"
   ]
  },
  {
   "cell_type": "markdown",
   "id": "cd4c2bd6-c930-4b02-8425-b8a38bd3af50",
   "metadata": {},
   "source": [
    "#### `str()`"
   ]
  },
  {
   "cell_type": "code",
   "execution_count": 9,
   "id": "e78a144f-d47e-425f-b0f9-d038c9023028",
   "metadata": {},
   "outputs": [
    {
     "data": {
      "text/plain": [
       "'2'"
      ]
     },
     "execution_count": 9,
     "metadata": {},
     "output_type": "execute_result"
    }
   ],
   "source": [
    "str(2)"
   ]
  },
  {
   "cell_type": "code",
   "execution_count": 10,
   "id": "59331b25-316c-4e6f-b03c-1dd1e7133b69",
   "metadata": {},
   "outputs": [
    {
     "data": {
      "text/plain": [
       "'3.2'"
      ]
     },
     "execution_count": 10,
     "metadata": {},
     "output_type": "execute_result"
    }
   ],
   "source": [
    "str(3.2)"
   ]
  },
  {
   "cell_type": "code",
   "execution_count": 11,
   "id": "f0e39e8e-0d3e-41c6-9a77-4f6bfe684545",
   "metadata": {},
   "outputs": [
    {
     "data": {
      "text/plain": [
       "'False'"
      ]
     },
     "execution_count": 11,
     "metadata": {},
     "output_type": "execute_result"
    }
   ],
   "source": [
    "str(False)"
   ]
  },
  {
   "cell_type": "markdown",
   "id": "2ebbf297-f750-4b9c-8fc3-66dddb34e0af",
   "metadata": {},
   "source": [
    "#### `float()`"
   ]
  },
  {
   "cell_type": "code",
   "execution_count": 12,
   "id": "946692af-9a80-4ec2-97da-114613c72186",
   "metadata": {},
   "outputs": [
    {
     "data": {
      "text/plain": [
       "2.0"
      ]
     },
     "execution_count": 12,
     "metadata": {},
     "output_type": "execute_result"
    }
   ],
   "source": [
    "float(2)"
   ]
  },
  {
   "cell_type": "code",
   "execution_count": 13,
   "id": "db23ee20-1a66-4ad9-9d18-fe67c55ae96a",
   "metadata": {},
   "outputs": [
    {
     "data": {
      "text/plain": [
       "3.2"
      ]
     },
     "execution_count": 13,
     "metadata": {},
     "output_type": "execute_result"
    }
   ],
   "source": [
    "float('3.2')"
   ]
  },
  {
   "cell_type": "code",
   "execution_count": 14,
   "id": "9a779f07-630e-40ff-acaf-d903194a50e8",
   "metadata": {},
   "outputs": [
    {
     "data": {
      "text/plain": [
       "0.0"
      ]
     },
     "execution_count": 14,
     "metadata": {},
     "output_type": "execute_result"
    }
   ],
   "source": [
    "float(False)"
   ]
  },
  {
   "cell_type": "markdown",
   "id": "aa474529-f9aa-41f3-bb67-4444c20bc740",
   "metadata": {},
   "source": [
    "#### `bool()`"
   ]
  },
  {
   "cell_type": "code",
   "execution_count": 15,
   "id": "2c24e47a-c782-4aa8-b156-a2d612052096",
   "metadata": {},
   "outputs": [
    {
     "data": {
      "text/plain": [
       "False"
      ]
     },
     "execution_count": 15,
     "metadata": {},
     "output_type": "execute_result"
    }
   ],
   "source": [
    "bool(0)"
   ]
  },
  {
   "cell_type": "code",
   "execution_count": 16,
   "id": "9678119a-d44c-4f04-ba7d-a03488fba924",
   "metadata": {},
   "outputs": [
    {
     "data": {
      "text/plain": [
       "True"
      ]
     },
     "execution_count": 16,
     "metadata": {},
     "output_type": "execute_result"
    }
   ],
   "source": [
    "bool(-0.1)"
   ]
  },
  {
   "cell_type": "code",
   "execution_count": 17,
   "id": "677003f0-dd4a-4c25-a4af-fe83174423f0",
   "metadata": {},
   "outputs": [
    {
     "data": {
      "text/plain": [
       "True"
      ]
     },
     "execution_count": 17,
     "metadata": {},
     "output_type": "execute_result"
    }
   ],
   "source": [
    "bool('hello')"
   ]
  },
  {
   "cell_type": "markdown",
   "id": "7e6aea56-4a44-43d2-a993-9f8a2f86b901",
   "metadata": {},
   "source": [
    "## Casting Examples"
   ]
  },
  {
   "cell_type": "code",
   "execution_count": 18,
   "id": "684bc01d-d631-42b2-9e9b-d2aaab15e615",
   "metadata": {},
   "outputs": [],
   "source": [
    "y = 14"
   ]
  },
  {
   "cell_type": "code",
   "execution_count": 19,
   "id": "28f7e5e5-bff4-4555-bc90-ffc89a0d4adf",
   "metadata": {},
   "outputs": [
    {
     "data": {
      "text/plain": [
       "int"
      ]
     },
     "execution_count": 19,
     "metadata": {},
     "output_type": "execute_result"
    }
   ],
   "source": [
    "type(y)"
   ]
  },
  {
   "cell_type": "markdown",
   "id": "890808dc-b3e3-42a3-8a50-1d925588a5c5",
   "metadata": {},
   "source": [
    "#### Casting to `int` or `float` to `str` and vice-versa"
   ]
  },
  {
   "cell_type": "code",
   "execution_count": 20,
   "id": "0bbf43d4-6d28-4f74-9c85-d2b47100eb4a",
   "metadata": {},
   "outputs": [],
   "source": [
    "y_string = str(y)"
   ]
  },
  {
   "cell_type": "code",
   "execution_count": 21,
   "id": "56bd4c2b-52f9-4ad1-a9ec-096ad00a0d44",
   "metadata": {},
   "outputs": [
    {
     "name": "stdout",
     "output_type": "stream",
     "text": [
      "<class 'int'>\n"
     ]
    },
    {
     "data": {
      "text/plain": [
       "14"
      ]
     },
     "execution_count": 21,
     "metadata": {},
     "output_type": "execute_result"
    }
   ],
   "source": [
    "print(type(y))\n",
    "y"
   ]
  },
  {
   "cell_type": "code",
   "execution_count": 22,
   "id": "59a43721-fc69-4284-a82d-6ff84a743c3a",
   "metadata": {},
   "outputs": [
    {
     "name": "stdout",
     "output_type": "stream",
     "text": [
      "<class 'str'>\n"
     ]
    },
    {
     "data": {
      "text/plain": [
       "'14'"
      ]
     },
     "execution_count": 22,
     "metadata": {},
     "output_type": "execute_result"
    }
   ],
   "source": [
    "print(type(y_string))\n",
    "y_string"
   ]
  },
  {
   "cell_type": "code",
   "execution_count": 23,
   "id": "15b604ce-a60d-4150-8a7c-90b7ff6128db",
   "metadata": {},
   "outputs": [
    {
     "data": {
      "text/plain": [
       "int"
      ]
     },
     "execution_count": 23,
     "metadata": {},
     "output_type": "execute_result"
    }
   ],
   "source": [
    "type(y)"
   ]
  },
  {
   "cell_type": "code",
   "execution_count": 24,
   "id": "5ec254db-bfd7-42ff-bb98-d4df2b22b117",
   "metadata": {},
   "outputs": [
    {
     "name": "stdout",
     "output_type": "stream",
     "text": [
      "<class 'int'>\n"
     ]
    },
    {
     "data": {
      "text/plain": [
       "14"
      ]
     },
     "execution_count": 24,
     "metadata": {},
     "output_type": "execute_result"
    }
   ],
   "source": [
    "y_int = int(y_string)\n",
    "print(type(y_int))\n",
    "y_int"
   ]
  },
  {
   "cell_type": "code",
   "execution_count": null,
   "id": "c406b657-16b4-4d09-a8a5-a409e94edc0e",
   "metadata": {},
   "outputs": [],
   "source": [
    "y_float = float(y_int)\n",
    "\n",
    "print(type(y_float))\n",
    "y_float"
   ]
  },
  {
   "cell_type": "code",
   "execution_count": null,
   "id": "426c1832-dcfe-4551-a0cf-f510d2012923",
   "metadata": {},
   "outputs": [],
   "source": [
    "my_num = '27'"
   ]
  },
  {
   "cell_type": "code",
   "execution_count": null,
   "id": "6e8d1179-f6e4-47d9-8c6d-e97f73deaf90",
   "metadata": {},
   "outputs": [],
   "source": [
    "# Gives error\n",
    "my_num + 1"
   ]
  },
  {
   "cell_type": "code",
   "execution_count": null,
   "id": "e7085d75-6e9b-4511-b156-c9140735bc26",
   "metadata": {},
   "outputs": [],
   "source": [
    "int(my_num) + 1"
   ]
  },
  {
   "cell_type": "markdown",
   "id": "89f8c84f-384a-4480-a9da-37878b9be69b",
   "metadata": {},
   "source": [
    "#### Casting to `bool` and back"
   ]
  },
  {
   "cell_type": "code",
   "execution_count": 29,
   "id": "6408bb40-f2f4-4a54-92ae-bf9bdb5f87d5",
   "metadata": {},
   "outputs": [
    {
     "name": "stdout",
     "output_type": "stream",
     "text": [
      "<class 'bool'>\n",
      "True\n"
     ]
    }
   ],
   "source": [
    "y_bool = bool(y_int)\n",
    "\n",
    "print(type(y_bool))\n",
    "print(y_bool)"
   ]
  },
  {
   "cell_type": "code",
   "execution_count": 36,
   "id": "a31ee66c-0229-4030-aba5-9d31c1e027e3",
   "metadata": {},
   "outputs": [
    {
     "data": {
      "text/plain": [
       "14"
      ]
     },
     "execution_count": 36,
     "metadata": {},
     "output_type": "execute_result"
    }
   ],
   "source": [
    "int(y_bool)\n",
    "y_int"
   ]
  },
  {
   "cell_type": "code",
   "execution_count": 35,
   "id": "ae2c339b-8362-4b35-af2e-b0a5677f5d7e",
   "metadata": {},
   "outputs": [
    {
     "name": "stdout",
     "output_type": "stream",
     "text": [
      "1\n",
      "1.0\n"
     ]
    }
   ],
   "source": [
    "print(int(True))\n",
    "print(float(True))"
   ]
  },
  {
   "cell_type": "code",
   "execution_count": 30,
   "id": "acf37e35-2dd1-43c6-944d-aecaaa7d3d21",
   "metadata": {},
   "outputs": [
    {
     "name": "stdout",
     "output_type": "stream",
     "text": [
      "0\n",
      "0.0\n"
     ]
    }
   ],
   "source": [
    "print(int(False))\n",
    "print(float(False))"
   ]
  },
  {
   "cell_type": "code",
   "execution_count": 31,
   "id": "70d06d86-fa2e-442f-a231-499accd7bfbd",
   "metadata": {},
   "outputs": [
    {
     "data": {
      "text/plain": [
       "'True'"
      ]
     },
     "execution_count": 31,
     "metadata": {},
     "output_type": "execute_result"
    }
   ],
   "source": [
    "str(True)"
   ]
  },
  {
   "cell_type": "code",
   "execution_count": 32,
   "id": "c1649d64-b378-49ed-ba4c-0eee62f9172b",
   "metadata": {},
   "outputs": [
    {
     "data": {
      "text/plain": [
       "'False'"
      ]
     },
     "execution_count": 32,
     "metadata": {},
     "output_type": "execute_result"
    }
   ],
   "source": [
    "str(False)"
   ]
  },
  {
   "cell_type": "markdown",
   "id": "10187e9a-f7fc-4312-81eb-e3b888108552",
   "metadata": {},
   "source": [
    "#### Note on casting `None`"
   ]
  },
  {
   "cell_type": "code",
   "execution_count": 33,
   "id": "9c442da3-4d8f-4b96-9737-d9908857d565",
   "metadata": {},
   "outputs": [
    {
     "data": {
      "text/plain": [
       "'None'"
      ]
     },
     "execution_count": 33,
     "metadata": {},
     "output_type": "execute_result"
    }
   ],
   "source": [
    "str(None)"
   ]
  },
  {
   "cell_type": "code",
   "execution_count": 34,
   "id": "cc1025b6-e3c0-4071-8374-b5c3821f2e04",
   "metadata": {},
   "outputs": [
    {
     "ename": "TypeError",
     "evalue": "int() argument must be a string, a bytes-like object or a real number, not 'NoneType'",
     "output_type": "error",
     "traceback": [
      "\u001b[1;31m---------------------------------------------------------------------------\u001b[0m",
      "\u001b[1;31mTypeError\u001b[0m                                 Traceback (most recent call last)",
      "Cell \u001b[1;32mIn[34], line 1\u001b[0m\n\u001b[1;32m----> 1\u001b[0m \u001b[38;5;28;43mint\u001b[39;49m\u001b[43m(\u001b[49m\u001b[38;5;28;43;01mNone\u001b[39;49;00m\u001b[43m)\u001b[49m\n",
      "\u001b[1;31mTypeError\u001b[0m: int() argument must be a string, a bytes-like object or a real number, not 'NoneType'"
     ]
    }
   ],
   "source": [
    "int(None)"
   ]
  },
  {
   "cell_type": "code",
   "execution_count": null,
   "id": "ed57aba6-8a68-4c31-ab43-2dbb6444ffea",
   "metadata": {},
   "outputs": [],
   "source": []
  }
 ],
 "metadata": {
  "kernelspec": {
   "display_name": "Python 3 (ipykernel)",
   "language": "python",
   "name": "python3"
  },
  "language_info": {
   "codemirror_mode": {
    "name": "ipython",
    "version": 3
   },
   "file_extension": ".py",
   "mimetype": "text/x-python",
   "name": "python",
   "nbconvert_exporter": "python",
   "pygments_lexer": "ipython3",
   "version": "3.12.4"
  }
 },
 "nbformat": 4,
 "nbformat_minor": 5
}
