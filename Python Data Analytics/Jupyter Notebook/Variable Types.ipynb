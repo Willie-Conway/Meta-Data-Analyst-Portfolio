{
 "cells": [
  {
   "cell_type": "markdown",
   "id": "0b461e25-6538-4170-b33e-d827e6096eb5",
   "metadata": {},
   "source": [
    "## Python Objects\n",
    "\n",
    "* value\n",
    "* type"
   ]
  },
  {
   "cell_type": "markdown",
   "id": "6e84513c-031f-4e48-99b6-6f41cfedabc9",
   "metadata": {},
   "source": [
    "## Simple Types\n",
    "\n",
    "* String\n",
    "* Integer\n",
    "* Float\n",
    "* Boolean\n",
    "* NoneType"
   ]
  },
  {
   "cell_type": "markdown",
   "id": "0c061ae6-e650-484f-8e87-534349a63491",
   "metadata": {},
   "source": [
    "## Strings"
   ]
  },
  {
   "cell_type": "code",
   "execution_count": 1,
   "id": "19b57e3f-a5e3-4a08-bcf6-afc3f50f41ef",
   "metadata": {},
   "outputs": [
    {
     "data": {
      "text/plain": [
       "'Five'"
      ]
     },
     "execution_count": 1,
     "metadata": {},
     "output_type": "execute_result"
    }
   ],
   "source": [
    "my_str = 'Five'\n",
    "my_str"
   ]
  },
  {
   "cell_type": "code",
   "execution_count": 2,
   "id": "81dfebd2-41c4-4cdb-af6a-afb0dcecb420",
   "metadata": {},
   "outputs": [
    {
     "data": {
      "text/plain": [
       "'Five'"
      ]
     },
     "execution_count": 2,
     "metadata": {},
     "output_type": "execute_result"
    }
   ],
   "source": [
    "my_other_str = \"Five\"\n",
    "my_other_str"
   ]
  },
  {
   "cell_type": "code",
   "execution_count": 3,
   "id": "516057b9-f033-46a3-b6c1-6113b4ed684c",
   "metadata": {},
   "outputs": [
    {
     "name": "stdout",
     "output_type": "stream",
     "text": [
      "python rocks!\n"
     ]
    }
   ],
   "source": [
    "tweet = 'Python Rocks!'\n",
    "print(tweet.lower())"
   ]
  },
  {
   "cell_type": "markdown",
   "id": "15dbd1c8-e180-4240-80aa-b7d4b9ad1fc2",
   "metadata": {},
   "source": [
    "## Integer & Floats"
   ]
  },
  {
   "cell_type": "code",
   "execution_count": 4,
   "id": "aba38847-ea57-47e4-85f6-34796790c531",
   "metadata": {},
   "outputs": [
    {
     "data": {
      "text/plain": [
       "5"
      ]
     },
     "execution_count": 4,
     "metadata": {},
     "output_type": "execute_result"
    }
   ],
   "source": [
    "number_of_days = 5\n",
    "number_of_days"
   ]
  },
  {
   "cell_type": "code",
   "execution_count": 5,
   "id": "d7d3ffac-a475-46ac-9fcf-c8d3500a2b7b",
   "metadata": {},
   "outputs": [
    {
     "data": {
      "text/plain": [
       "5.0"
      ]
     },
     "execution_count": 5,
     "metadata": {},
     "output_type": "execute_result"
    }
   ],
   "source": [
    "seconds_elapsed = 5.0\n",
    "seconds_elapsed"
   ]
  },
  {
   "cell_type": "code",
   "execution_count": 6,
   "id": "9be602d5-fd11-4d16-97e9-267f8b242f28",
   "metadata": {},
   "outputs": [
    {
     "data": {
      "text/plain": [
       "18005.0"
      ]
     },
     "execution_count": 6,
     "metadata": {},
     "output_type": "execute_result"
    }
   ],
   "source": [
    "number_of_days * 3600 + seconds_elapsed"
   ]
  },
  {
   "cell_type": "code",
   "execution_count": 7,
   "id": "4a83557d-5f20-4e32-891f-79be3905d391",
   "metadata": {},
   "outputs": [
    {
     "ename": "TypeError",
     "evalue": "unsupported operand type(s) for +: 'int' and 'str'",
     "output_type": "error",
     "traceback": [
      "\u001b[1;31m---------------------------------------------------------------------------\u001b[0m",
      "\u001b[1;31mTypeError\u001b[0m                                 Traceback (most recent call last)",
      "Cell \u001b[1;32mIn[7], line 1\u001b[0m\n\u001b[1;32m----> 1\u001b[0m \u001b[38;5;241;43m1\u001b[39;49m\u001b[43m \u001b[49m\u001b[38;5;241;43m+\u001b[39;49m\u001b[43m \u001b[49m\u001b[38;5;124;43m'\u001b[39;49m\u001b[38;5;124;43m'\u001b[39;49m\n",
      "\u001b[1;31mTypeError\u001b[0m: unsupported operand type(s) for +: 'int' and 'str'"
     ]
    }
   ],
   "source": [
    "1 + ''"
   ]
  },
  {
   "cell_type": "markdown",
   "id": "8aaf4999-3e53-4182-bbb5-ae8f0fec3012",
   "metadata": {},
   "source": [
    "## Boolean"
   ]
  },
  {
   "cell_type": "code",
   "execution_count": 8,
   "id": "742a9671-3b23-48f5-a78d-c6f71fac08a5",
   "metadata": {},
   "outputs": [
    {
     "data": {
      "text/plain": [
       "True"
      ]
     },
     "execution_count": 8,
     "metadata": {},
     "output_type": "execute_result"
    }
   ],
   "source": [
    "is_customer = True\n",
    "is_customer"
   ]
  },
  {
   "cell_type": "code",
   "execution_count": 9,
   "id": "782822bf-2946-4632-a619-4fc23aac8cad",
   "metadata": {},
   "outputs": [
    {
     "data": {
      "text/plain": [
       "False"
      ]
     },
     "execution_count": 9,
     "metadata": {},
     "output_type": "execute_result"
    }
   ],
   "source": [
    "is_green = False\n",
    "is_green"
   ]
  },
  {
   "cell_type": "markdown",
   "id": "03f67b2a-9a0a-48d7-9bef-193eade98f35",
   "metadata": {},
   "source": [
    "## NoneType"
   ]
  },
  {
   "cell_type": "code",
   "execution_count": 10,
   "id": "9fa52af9-26b7-4a9b-9117-e1b64b27b823",
   "metadata": {},
   "outputs": [
    {
     "name": "stdout",
     "output_type": "stream",
     "text": [
      "None\n"
     ]
    }
   ],
   "source": [
    "nothing_variable = None\n",
    "print(nothing_variable)"
   ]
  },
  {
   "cell_type": "code",
   "execution_count": 11,
   "id": "2c906b02-554f-4787-81e4-0b9f8d8bbcc3",
   "metadata": {},
   "outputs": [
    {
     "name": "stdout",
     "output_type": "stream",
     "text": [
      "1\n",
      "None\n"
     ]
    }
   ],
   "source": [
    "return_value = print(1)\n",
    "print(return_value)"
   ]
  },
  {
   "cell_type": "code",
   "execution_count": 12,
   "id": "100d13a9-2cd8-4756-85e0-e15b4fdf55cb",
   "metadata": {},
   "outputs": [
    {
     "name": "stdout",
     "output_type": "stream",
     "text": [
      "None\n"
     ]
    }
   ],
   "source": [
    "print(None)"
   ]
  },
  {
   "cell_type": "code",
   "execution_count": 13,
   "id": "52c576e0-64d2-4dca-a309-581cde39a70a",
   "metadata": {},
   "outputs": [],
   "source": [
    "None"
   ]
  },
  {
   "cell_type": "code",
   "execution_count": null,
   "id": "d5364bca-6a67-42f3-a59f-c14b97a368ae",
   "metadata": {},
   "outputs": [],
   "source": []
  }
 ],
 "metadata": {
  "kernelspec": {
   "display_name": "Python 3 (ipykernel)",
   "language": "python",
   "name": "python3"
  },
  "language_info": {
   "codemirror_mode": {
    "name": "ipython",
    "version": 3
   },
   "file_extension": ".py",
   "mimetype": "text/x-python",
   "name": "python",
   "nbconvert_exporter": "python",
   "pygments_lexer": "ipython3",
   "version": "3.12.4"
  }
 },
 "nbformat": 4,
 "nbformat_minor": 5
}
