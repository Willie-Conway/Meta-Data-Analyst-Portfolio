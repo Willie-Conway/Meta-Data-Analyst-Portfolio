{
 "cells": [
  {
   "cell_type": "markdown",
   "id": "d31750b7-2ab8-4721-b3bf-65988f9d05f2",
   "metadata": {},
   "source": [
    "# Activity: Using Conditionals\n",
    "\n",
    "## Introduction\n",
    "\n",
    "In this activity, you will use conditionals to solve the following questions.\n",
    "This activity contains:\n",
    "- `if` statements\n",
    "- `if-else` statements\n",
    "- `if-elif-else` statements\n",
    "- Nested `if` statements\n",
    "- `if` statements with logical operators\n"
   ]
  },
  {
   "cell_type": "markdown",
   "id": "0a2e6ad6-d841-4c79-9991-14cbc9cb252f",
   "metadata": {},
   "source": [
    "#### Question 1\n",
    "\n",
    "Using the below modulo operator(%, which returns the remainder after division), write an `if-else` statement that assigns the value `True` to the variable `is_even` if `number` is even or `False` if `number` is odd."
   ]
  },
  {
   "cell_type": "code",
   "execution_count": 2,
   "id": "01d18e0a-3b8f-40e6-9b35-d41834e24c2b",
   "metadata": {},
   "outputs": [
    {
     "data": {
      "text/plain": [
       "True"
      ]
     },
     "execution_count": 2,
     "metadata": {},
     "output_type": "execute_result"
    }
   ],
   "source": [
    "number = 24\n",
    "is_even = False\n",
    "\n",
    "#Modulo Operator\n",
    "number % 2 == 0"
   ]
  },
  {
   "cell_type": "code",
   "execution_count": 3,
   "id": "8af02843-ea1a-4cf6-83be-45d0a30f4f8f",
   "metadata": {},
   "outputs": [],
   "source": [
    "# Your code here\n",
    "\n",
    "# Check if the number is even\n",
    "if number % 2 == 0:\n",
    "    is_even = True\n",
    "else:\n",
    "    is_even = False"
   ]
  },
  {
   "cell_type": "code",
   "execution_count": 4,
   "id": "a3f2e84f-718e-424c-8acd-deac5290c23d",
   "metadata": {},
   "outputs": [],
   "source": [
    "# Question 1 Grading Checks\n",
    "\n",
    "assert type(is_even) == bool"
   ]
  },
  {
   "cell_type": "markdown",
   "id": "a7d3d716-f84e-45a4-baad-498c58124c98",
   "metadata": {},
   "source": [
    "#### Question 2\n",
    "\n",
    "Write an `if-elif-else` statement that assigns the string `\"positive\"` to the variable `sign` if the `integer_number` is positive, `\"negative\"` if `integer_number` is negative, or `\"zero\"` if `integer_number` is 0."
   ]
  },
  {
   "cell_type": "code",
   "execution_count": 5,
   "id": "998e98cb-9980-459c-9e08-b2e92b97015b",
   "metadata": {},
   "outputs": [],
   "source": [
    "integer_number = 0\n",
    "sign = ''"
   ]
  },
  {
   "cell_type": "code",
   "execution_count": 6,
   "id": "da057f49-c485-4d0e-82ab-c5cc1ad88adb",
   "metadata": {},
   "outputs": [],
   "source": [
    "# Your code here\n",
    "\n",
    "# Check the sign of the integer\n",
    "if integer_number > 0:\n",
    "    sign = \"positive\"\n",
    "elif integer_number < 0:\n",
    "    sign = \"negative\"\n",
    "else:\n",
    "    sign = \"zero\""
   ]
  },
  {
   "cell_type": "code",
   "execution_count": 7,
   "id": "6a79105b-df20-4196-bbcc-3908503f546c",
   "metadata": {},
   "outputs": [],
   "source": [
    "# Question 2 Grading Checks\n",
    "\n",
    "assert type(sign) == str\n",
    "assert len(sign) > 0\n"
   ]
  },
  {
   "cell_type": "markdown",
   "id": "de74e64d-cd55-4afb-82c7-dce601330a37",
   "metadata": {},
   "source": [
    "#### Question 3\n",
    "\n",
    "You are given a `dict` called `person` with a person's name and an age.\n",
    "\n",
    "Write a nested `if` statement that first checks if the person is old enough to vote, and assigns the value `True` to the variable `can_vote` if they are older than 17.\n",
    "\n",
    "Then, check if they are 21 or older and assigns the value `True` to the `can_rent_car` variable.\n",
    "\n",
    "Finally, print the `can_vote` and `can_rent_car` variables."
   ]
  },
  {
   "cell_type": "code",
   "execution_count": 8,
   "id": "54adc22c-932c-457b-93ed-f89d99932a3e",
   "metadata": {},
   "outputs": [],
   "source": [
    "person = {\n",
    "    \"name\": \"James Dean\",\n",
    "    \"age\": 19,\n",
    "}\n",
    "can_vote = False\n",
    "can_rent_car = False"
   ]
  },
  {
   "cell_type": "code",
   "execution_count": 9,
   "id": "ba308d1a-efaa-43d9-a5e9-19a079894521",
   "metadata": {},
   "outputs": [
    {
     "name": "stdout",
     "output_type": "stream",
     "text": [
      "True\n",
      "False\n"
     ]
    }
   ],
   "source": [
    "# Your code here\n",
    "\n",
    "# Check if the person can vote\n",
    "if person[\"age\"] > 17:\n",
    "    can_vote = True\n",
    "    # Check if the person can rent a car\n",
    "    if person[\"age\"] >= 21:\n",
    "        can_rent_car = True\n",
    "\n",
    "# Print the results\n",
    "print(can_vote)\n",
    "print(can_rent_car)"
   ]
  },
  {
   "cell_type": "code",
   "execution_count": 10,
   "id": "c244f6f0-3e0c-4538-bc74-9cee387d847e",
   "metadata": {},
   "outputs": [],
   "source": [
    "# Question 3 Grading Checks\n",
    "\n",
    "assert type(can_vote) == bool\n",
    "assert type(can_rent_car) == bool"
   ]
  }
 ],
 "metadata": {
  "kernelspec": {
   "display_name": "Python 3 (ipykernel)",
   "language": "python",
   "name": "python3"
  },
  "language_info": {
   "codemirror_mode": {
    "name": "ipython",
    "version": 3
   },
   "file_extension": ".py",
   "mimetype": "text/x-python",
   "name": "python",
   "nbconvert_exporter": "python",
   "pygments_lexer": "ipython3",
   "version": "3.12.4"
  }
 },
 "nbformat": 4,
 "nbformat_minor": 5
}
